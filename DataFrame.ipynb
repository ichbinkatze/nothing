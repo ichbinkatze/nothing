{
 "cells": [
  {
   "cell_type": "markdown",
   "metadata": {},
   "source": [
    "## 创建DataFrame"
   ]
  },
  {
   "cell_type": "markdown",
   "metadata": {},
   "source": [
    "### 创建一个DataFrame"
   ]
  },
  {
   "cell_type": "code",
   "execution_count": 5,
   "metadata": {
    "scrolled": true
   },
   "outputs": [
    {
     "name": "stdout",
     "output_type": "stream",
     "text": [
      "[[ 1.01345117  0.44022263 -0.02786588 -0.55889983  0.5713547 ]\n",
      " [-0.34568826  1.10914862 -1.44828819  0.67935213 -1.51734984]\n",
      " [-1.05654386  0.01851015  1.9143771   1.85037744  0.71514943]\n",
      " [ 0.62941199  0.40834049  0.31145199 -0.16245376 -0.54343127]\n",
      " [ 0.95411772  1.25726951 -0.83611439  1.01662391 -1.09618364]\n",
      " [-0.69668051  0.01314333 -1.21789639  0.52957295 -1.93897403]\n",
      " [ 0.41739476 -0.72665806 -0.80341016  0.50006991  0.68655087]\n",
      " [-0.58960661  0.10444628 -0.63730473 -0.33384841 -0.92993976]]\n"
     ]
    }
   ],
   "source": [
    "import pandas as pd\n",
    "from pandas import DataFrame\n",
    "import numpy as np\n",
    "\n",
    "randn=np.random.randn(8,5)\n",
    "print(randn)"
   ]
  },
  {
   "cell_type": "code",
   "execution_count": 9,
   "metadata": {},
   "outputs": [
    {
     "name": "stdout",
     "output_type": "stream",
     "text": [
      "[1 2 3 4 5 6 7 8]\n",
      "['A', 'B', 'C', 'D', 'E']\n"
     ]
    }
   ],
   "source": [
    "alist=np.arange(1,9,1)\n",
    "print(alist)\n",
    "blist=list('ABCDE')\n",
    "print(blist)"
   ]
  },
  {
   "cell_type": "code",
   "execution_count": 53,
   "metadata": {
    "scrolled": true
   },
   "outputs": [
    {
     "name": "stdout",
     "output_type": "stream",
     "text": [
      "          A         B         C         D         E\n",
      "1  1.013451  0.440223 -0.027866 -0.558900  0.571355\n",
      "2 -0.345688  1.109149 -1.448288  0.679352 -1.517350\n",
      "3 -1.056544  0.018510  1.914377  1.850377  0.715149\n",
      "4  0.629412  0.408340  0.311452 -0.162454 -0.543431\n",
      "5  0.954118  1.257270 -0.836114  1.016624 -1.096184\n",
      "6 -0.696681  0.013143 -1.217896  0.529573 -1.938974\n",
      "7  0.417395 -0.726658 -0.803410  0.500070  0.686551\n",
      "8 -0.589607  0.104446 -0.637305 -0.333848 -0.929940\n"
     ]
    },
    {
     "data": {
      "text/plain": [
       "A    float64\n",
       "B    float64\n",
       "C    float64\n",
       "D    float64\n",
       "E    float64\n",
       "dtype: object"
      ]
     },
     "execution_count": 53,
     "metadata": {},
     "output_type": "execute_result"
    }
   ],
   "source": [
    "df=pd.DataFrame(randn,index=alist,columns=blist)\n",
    "print(df)\n",
    "df.dtypes"
   ]
  },
  {
   "cell_type": "code",
   "execution_count": 21,
   "metadata": {},
   "outputs": [
    {
     "data": {
      "text/html": [
       "<div>\n",
       "<style scoped>\n",
       "    .dataframe tbody tr th:only-of-type {\n",
       "        vertical-align: middle;\n",
       "    }\n",
       "\n",
       "    .dataframe tbody tr th {\n",
       "        vertical-align: top;\n",
       "    }\n",
       "\n",
       "    .dataframe thead th {\n",
       "        text-align: right;\n",
       "    }\n",
       "</style>\n",
       "<table border=\"1\" class=\"dataframe\">\n",
       "  <thead>\n",
       "    <tr style=\"text-align: right;\">\n",
       "      <th></th>\n",
       "      <th>A</th>\n",
       "      <th>B</th>\n",
       "      <th>C</th>\n",
       "      <th>D</th>\n",
       "      <th>E</th>\n",
       "    </tr>\n",
       "  </thead>\n",
       "  <tbody>\n",
       "    <tr>\n",
       "      <th>1</th>\n",
       "      <td>1.013451</td>\n",
       "      <td>0.440223</td>\n",
       "      <td>-0.027866</td>\n",
       "      <td>-0.558900</td>\n",
       "      <td>0.571355</td>\n",
       "    </tr>\n",
       "    <tr>\n",
       "      <th>2</th>\n",
       "      <td>-0.345688</td>\n",
       "      <td>1.109149</td>\n",
       "      <td>-1.448288</td>\n",
       "      <td>0.679352</td>\n",
       "      <td>-1.517350</td>\n",
       "    </tr>\n",
       "    <tr>\n",
       "      <th>3</th>\n",
       "      <td>-1.056544</td>\n",
       "      <td>0.018510</td>\n",
       "      <td>1.914377</td>\n",
       "      <td>1.850377</td>\n",
       "      <td>0.715149</td>\n",
       "    </tr>\n",
       "  </tbody>\n",
       "</table>\n",
       "</div>"
      ],
      "text/plain": [
       "          A         B         C         D         E\n",
       "1  1.013451  0.440223 -0.027866 -0.558900  0.571355\n",
       "2 -0.345688  1.109149 -1.448288  0.679352 -1.517350\n",
       "3 -1.056544  0.018510  1.914377  1.850377  0.715149"
      ]
     },
     "execution_count": 21,
     "metadata": {},
     "output_type": "execute_result"
    }
   ],
   "source": [
    "df.head()\n",
    "df.head(3)"
   ]
  },
  {
   "cell_type": "code",
   "execution_count": 23,
   "metadata": {
    "scrolled": false
   },
   "outputs": [
    {
     "data": {
      "text/html": [
       "<div>\n",
       "<style scoped>\n",
       "    .dataframe tbody tr th:only-of-type {\n",
       "        vertical-align: middle;\n",
       "    }\n",
       "\n",
       "    .dataframe tbody tr th {\n",
       "        vertical-align: top;\n",
       "    }\n",
       "\n",
       "    .dataframe thead th {\n",
       "        text-align: right;\n",
       "    }\n",
       "</style>\n",
       "<table border=\"1\" class=\"dataframe\">\n",
       "  <thead>\n",
       "    <tr style=\"text-align: right;\">\n",
       "      <th></th>\n",
       "      <th>A</th>\n",
       "      <th>B</th>\n",
       "      <th>C</th>\n",
       "      <th>D</th>\n",
       "      <th>E</th>\n",
       "    </tr>\n",
       "  </thead>\n",
       "  <tbody>\n",
       "    <tr>\n",
       "      <th>count</th>\n",
       "      <td>8.000000</td>\n",
       "      <td>8.000000</td>\n",
       "      <td>8.000000</td>\n",
       "      <td>8.000000</td>\n",
       "      <td>8.000000</td>\n",
       "    </tr>\n",
       "    <tr>\n",
       "      <th>mean</th>\n",
       "      <td>0.040732</td>\n",
       "      <td>0.328053</td>\n",
       "      <td>-0.343131</td>\n",
       "      <td>0.440099</td>\n",
       "      <td>-0.506603</td>\n",
       "    </tr>\n",
       "    <tr>\n",
       "      <th>std</th>\n",
       "      <td>0.807404</td>\n",
       "      <td>0.638075</td>\n",
       "      <td>1.079168</td>\n",
       "      <td>0.788323</td>\n",
       "      <td>1.047429</td>\n",
       "    </tr>\n",
       "    <tr>\n",
       "      <th>min</th>\n",
       "      <td>-1.056544</td>\n",
       "      <td>-0.726658</td>\n",
       "      <td>-1.448288</td>\n",
       "      <td>-0.558900</td>\n",
       "      <td>-1.938974</td>\n",
       "    </tr>\n",
       "    <tr>\n",
       "      <th>25%</th>\n",
       "      <td>-0.616375</td>\n",
       "      <td>0.017168</td>\n",
       "      <td>-0.931560</td>\n",
       "      <td>-0.205302</td>\n",
       "      <td>-1.201475</td>\n",
       "    </tr>\n",
       "    <tr>\n",
       "      <th>50%</th>\n",
       "      <td>0.035853</td>\n",
       "      <td>0.256393</td>\n",
       "      <td>-0.720357</td>\n",
       "      <td>0.514821</td>\n",
       "      <td>-0.736686</td>\n",
       "    </tr>\n",
       "    <tr>\n",
       "      <th>75%</th>\n",
       "      <td>0.710588</td>\n",
       "      <td>0.607454</td>\n",
       "      <td>0.056964</td>\n",
       "      <td>0.763670</td>\n",
       "      <td>0.600154</td>\n",
       "    </tr>\n",
       "    <tr>\n",
       "      <th>max</th>\n",
       "      <td>1.013451</td>\n",
       "      <td>1.257270</td>\n",
       "      <td>1.914377</td>\n",
       "      <td>1.850377</td>\n",
       "      <td>0.715149</td>\n",
       "    </tr>\n",
       "  </tbody>\n",
       "</table>\n",
       "</div>"
      ],
      "text/plain": [
       "              A         B         C         D         E\n",
       "count  8.000000  8.000000  8.000000  8.000000  8.000000\n",
       "mean   0.040732  0.328053 -0.343131  0.440099 -0.506603\n",
       "std    0.807404  0.638075  1.079168  0.788323  1.047429\n",
       "min   -1.056544 -0.726658 -1.448288 -0.558900 -1.938974\n",
       "25%   -0.616375  0.017168 -0.931560 -0.205302 -1.201475\n",
       "50%    0.035853  0.256393 -0.720357  0.514821 -0.736686\n",
       "75%    0.710588  0.607454  0.056964  0.763670  0.600154\n",
       "max    1.013451  1.257270  1.914377  1.850377  0.715149"
      ]
     },
     "execution_count": 23,
     "metadata": {},
     "output_type": "execute_result"
    }
   ],
   "source": [
    "df.describe()"
   ]
  },
  {
   "cell_type": "markdown",
   "metadata": {},
   "source": [
    "### 数据排序\n",
    "用sort_values,by哪一列，ascending设置升序和倒序"
   ]
  },
  {
   "cell_type": "code",
   "execution_count": 26,
   "metadata": {
    "scrolled": true
   },
   "outputs": [
    {
     "data": {
      "text/html": [
       "<div>\n",
       "<style scoped>\n",
       "    .dataframe tbody tr th:only-of-type {\n",
       "        vertical-align: middle;\n",
       "    }\n",
       "\n",
       "    .dataframe tbody tr th {\n",
       "        vertical-align: top;\n",
       "    }\n",
       "\n",
       "    .dataframe thead th {\n",
       "        text-align: right;\n",
       "    }\n",
       "</style>\n",
       "<table border=\"1\" class=\"dataframe\">\n",
       "  <thead>\n",
       "    <tr style=\"text-align: right;\">\n",
       "      <th></th>\n",
       "      <th>A</th>\n",
       "      <th>B</th>\n",
       "      <th>C</th>\n",
       "      <th>D</th>\n",
       "      <th>E</th>\n",
       "    </tr>\n",
       "  </thead>\n",
       "  <tbody>\n",
       "    <tr>\n",
       "      <th>5</th>\n",
       "      <td>0.954118</td>\n",
       "      <td>1.257270</td>\n",
       "      <td>-0.836114</td>\n",
       "      <td>1.016624</td>\n",
       "      <td>-1.096184</td>\n",
       "    </tr>\n",
       "    <tr>\n",
       "      <th>2</th>\n",
       "      <td>-0.345688</td>\n",
       "      <td>1.109149</td>\n",
       "      <td>-1.448288</td>\n",
       "      <td>0.679352</td>\n",
       "      <td>-1.517350</td>\n",
       "    </tr>\n",
       "    <tr>\n",
       "      <th>1</th>\n",
       "      <td>1.013451</td>\n",
       "      <td>0.440223</td>\n",
       "      <td>-0.027866</td>\n",
       "      <td>-0.558900</td>\n",
       "      <td>0.571355</td>\n",
       "    </tr>\n",
       "    <tr>\n",
       "      <th>4</th>\n",
       "      <td>0.629412</td>\n",
       "      <td>0.408340</td>\n",
       "      <td>0.311452</td>\n",
       "      <td>-0.162454</td>\n",
       "      <td>-0.543431</td>\n",
       "    </tr>\n",
       "    <tr>\n",
       "      <th>8</th>\n",
       "      <td>-0.589607</td>\n",
       "      <td>0.104446</td>\n",
       "      <td>-0.637305</td>\n",
       "      <td>-0.333848</td>\n",
       "      <td>-0.929940</td>\n",
       "    </tr>\n",
       "    <tr>\n",
       "      <th>3</th>\n",
       "      <td>-1.056544</td>\n",
       "      <td>0.018510</td>\n",
       "      <td>1.914377</td>\n",
       "      <td>1.850377</td>\n",
       "      <td>0.715149</td>\n",
       "    </tr>\n",
       "    <tr>\n",
       "      <th>6</th>\n",
       "      <td>-0.696681</td>\n",
       "      <td>0.013143</td>\n",
       "      <td>-1.217896</td>\n",
       "      <td>0.529573</td>\n",
       "      <td>-1.938974</td>\n",
       "    </tr>\n",
       "    <tr>\n",
       "      <th>7</th>\n",
       "      <td>0.417395</td>\n",
       "      <td>-0.726658</td>\n",
       "      <td>-0.803410</td>\n",
       "      <td>0.500070</td>\n",
       "      <td>0.686551</td>\n",
       "    </tr>\n",
       "  </tbody>\n",
       "</table>\n",
       "</div>"
      ],
      "text/plain": [
       "          A         B         C         D         E\n",
       "5  0.954118  1.257270 -0.836114  1.016624 -1.096184\n",
       "2 -0.345688  1.109149 -1.448288  0.679352 -1.517350\n",
       "1  1.013451  0.440223 -0.027866 -0.558900  0.571355\n",
       "4  0.629412  0.408340  0.311452 -0.162454 -0.543431\n",
       "8 -0.589607  0.104446 -0.637305 -0.333848 -0.929940\n",
       "3 -1.056544  0.018510  1.914377  1.850377  0.715149\n",
       "6 -0.696681  0.013143 -1.217896  0.529573 -1.938974\n",
       "7  0.417395 -0.726658 -0.803410  0.500070  0.686551"
      ]
     },
     "execution_count": 26,
     "metadata": {},
     "output_type": "execute_result"
    }
   ],
   "source": [
    "df.sort_values(by='B',ascending=False)"
   ]
  },
  {
   "cell_type": "markdown",
   "metadata": {},
   "source": [
    "## .loc和.iloc选择数据"
   ]
  },
  {
   "cell_type": "markdown",
   "metadata": {},
   "source": [
    "### 选取某一列"
   ]
  },
  {
   "cell_type": "code",
   "execution_count": 27,
   "metadata": {
    "scrolled": true
   },
   "outputs": [
    {
     "data": {
      "text/plain": [
       "1    0.440223\n",
       "2    1.109149\n",
       "3    0.018510\n",
       "4    0.408340\n",
       "5    1.257270\n",
       "6    0.013143\n",
       "7   -0.726658\n",
       "8    0.104446\n",
       "Name: B, dtype: float64"
      ]
     },
     "execution_count": 27,
     "metadata": {},
     "output_type": "execute_result"
    }
   ],
   "source": [
    "df['B']"
   ]
  },
  {
   "cell_type": "markdown",
   "metadata": {},
   "source": [
    "### 选取多列"
   ]
  },
  {
   "cell_type": "code",
   "execution_count": 51,
   "metadata": {
    "scrolled": true
   },
   "outputs": [
    {
     "data": {
      "text/html": [
       "<div>\n",
       "<style scoped>\n",
       "    .dataframe tbody tr th:only-of-type {\n",
       "        vertical-align: middle;\n",
       "    }\n",
       "\n",
       "    .dataframe tbody tr th {\n",
       "        vertical-align: top;\n",
       "    }\n",
       "\n",
       "    .dataframe thead th {\n",
       "        text-align: right;\n",
       "    }\n",
       "</style>\n",
       "<table border=\"1\" class=\"dataframe\">\n",
       "  <thead>\n",
       "    <tr style=\"text-align: right;\">\n",
       "      <th></th>\n",
       "      <th>B</th>\n",
       "      <th>D</th>\n",
       "    </tr>\n",
       "  </thead>\n",
       "  <tbody>\n",
       "    <tr>\n",
       "      <th>1</th>\n",
       "      <td>0.440223</td>\n",
       "      <td>-0.5589</td>\n",
       "    </tr>\n",
       "    <tr>\n",
       "      <th>2</th>\n",
       "      <td>1.10915</td>\n",
       "      <td>0.679352</td>\n",
       "    </tr>\n",
       "    <tr>\n",
       "      <th>3</th>\n",
       "      <td>aaa</td>\n",
       "      <td>aaa</td>\n",
       "    </tr>\n",
       "    <tr>\n",
       "      <th>4</th>\n",
       "      <td>0.40834</td>\n",
       "      <td>-0.162454</td>\n",
       "    </tr>\n",
       "    <tr>\n",
       "      <th>5</th>\n",
       "      <td>ac</td>\n",
       "      <td>ac</td>\n",
       "    </tr>\n",
       "    <tr>\n",
       "      <th>6</th>\n",
       "      <td>0.0131433</td>\n",
       "      <td>0.529573</td>\n",
       "    </tr>\n",
       "    <tr>\n",
       "      <th>7</th>\n",
       "      <td>-0.726658</td>\n",
       "      <td>0.50007</td>\n",
       "    </tr>\n",
       "    <tr>\n",
       "      <th>8</th>\n",
       "      <td>0.104446</td>\n",
       "      <td>-0.333848</td>\n",
       "    </tr>\n",
       "  </tbody>\n",
       "</table>\n",
       "</div>"
      ],
      "text/plain": [
       "           B         D\n",
       "1   0.440223   -0.5589\n",
       "2    1.10915  0.679352\n",
       "3        aaa       aaa\n",
       "4    0.40834 -0.162454\n",
       "5         ac        ac\n",
       "6  0.0131433  0.529573\n",
       "7  -0.726658   0.50007\n",
       "8   0.104446 -0.333848"
      ]
     },
     "execution_count": 51,
     "metadata": {},
     "output_type": "execute_result"
    }
   ],
   "source": [
    "df[['B','D']]"
   ]
  },
  {
   "cell_type": "markdown",
   "metadata": {},
   "source": [
    "### 选取某行"
   ]
  },
  {
   "cell_type": "code",
   "execution_count": 29,
   "metadata": {},
   "outputs": [
    {
     "data": {
      "text/plain": [
       "A    1.013451\n",
       "B    0.440223\n",
       "C   -0.027866\n",
       "D   -0.558900\n",
       "E    0.571355\n",
       "Name: 1, dtype: float64"
      ]
     },
     "execution_count": 29,
     "metadata": {},
     "output_type": "execute_result"
    }
   ],
   "source": [
    "df.loc[1]"
   ]
  },
  {
   "cell_type": "markdown",
   "metadata": {},
   "source": [
    "### 选取多行"
   ]
  },
  {
   "cell_type": "code",
   "execution_count": 47,
   "metadata": {
    "scrolled": false
   },
   "outputs": [
    {
     "data": {
      "text/html": [
       "<div>\n",
       "<style scoped>\n",
       "    .dataframe tbody tr th:only-of-type {\n",
       "        vertical-align: middle;\n",
       "    }\n",
       "\n",
       "    .dataframe tbody tr th {\n",
       "        vertical-align: top;\n",
       "    }\n",
       "\n",
       "    .dataframe thead th {\n",
       "        text-align: right;\n",
       "    }\n",
       "</style>\n",
       "<table border=\"1\" class=\"dataframe\">\n",
       "  <thead>\n",
       "    <tr style=\"text-align: right;\">\n",
       "      <th></th>\n",
       "      <th>A</th>\n",
       "      <th>B</th>\n",
       "      <th>C</th>\n",
       "      <th>D</th>\n",
       "      <th>E</th>\n",
       "    </tr>\n",
       "  </thead>\n",
       "  <tbody>\n",
       "    <tr>\n",
       "      <th>1</th>\n",
       "      <td>1.01345</td>\n",
       "      <td>0.440223</td>\n",
       "      <td>-0.0278659</td>\n",
       "      <td>-0.5589</td>\n",
       "      <td>0.571355</td>\n",
       "    </tr>\n",
       "    <tr>\n",
       "      <th>2</th>\n",
       "      <td>-0.345688</td>\n",
       "      <td>1.10915</td>\n",
       "      <td>-1.44829</td>\n",
       "      <td>0.679352</td>\n",
       "      <td>-1.51735</td>\n",
       "    </tr>\n",
       "    <tr>\n",
       "      <th>3</th>\n",
       "      <td>aaa</td>\n",
       "      <td>aaa</td>\n",
       "      <td>aaa</td>\n",
       "      <td>aaa</td>\n",
       "      <td>aaa</td>\n",
       "    </tr>\n",
       "  </tbody>\n",
       "</table>\n",
       "</div>"
      ],
      "text/plain": [
       "          A         B          C         D         E\n",
       "1   1.01345  0.440223 -0.0278659   -0.5589  0.571355\n",
       "2 -0.345688   1.10915   -1.44829  0.679352  -1.51735\n",
       "3       aaa       aaa        aaa       aaa       aaa"
      ]
     },
     "execution_count": 47,
     "metadata": {},
     "output_type": "execute_result"
    }
   ],
   "source": [
    "df.loc[[1,3]]\n",
    "df.loc[1:3]"
   ]
  },
  {
   "cell_type": "markdown",
   "metadata": {},
   "source": [
    "### 选取一块数据"
   ]
  },
  {
   "cell_type": "code",
   "execution_count": 32,
   "metadata": {
    "scrolled": false
   },
   "outputs": [
    {
     "data": {
      "text/html": [
       "<div>\n",
       "<style scoped>\n",
       "    .dataframe tbody tr th:only-of-type {\n",
       "        vertical-align: middle;\n",
       "    }\n",
       "\n",
       "    .dataframe tbody tr th {\n",
       "        vertical-align: top;\n",
       "    }\n",
       "\n",
       "    .dataframe thead th {\n",
       "        text-align: right;\n",
       "    }\n",
       "</style>\n",
       "<table border=\"1\" class=\"dataframe\">\n",
       "  <thead>\n",
       "    <tr style=\"text-align: right;\">\n",
       "      <th></th>\n",
       "      <th>B</th>\n",
       "      <th>C</th>\n",
       "    </tr>\n",
       "  </thead>\n",
       "  <tbody>\n",
       "    <tr>\n",
       "      <th>1</th>\n",
       "      <td>0.440223</td>\n",
       "      <td>-0.027866</td>\n",
       "    </tr>\n",
       "    <tr>\n",
       "      <th>2</th>\n",
       "      <td>1.109149</td>\n",
       "      <td>-1.448288</td>\n",
       "    </tr>\n",
       "    <tr>\n",
       "      <th>3</th>\n",
       "      <td>0.018510</td>\n",
       "      <td>1.914377</td>\n",
       "    </tr>\n",
       "  </tbody>\n",
       "</table>\n",
       "</div>"
      ],
      "text/plain": [
       "          B         C\n",
       "1  0.440223 -0.027866\n",
       "2  1.109149 -1.448288\n",
       "3  0.018510  1.914377"
      ]
     },
     "execution_count": 32,
     "metadata": {},
     "output_type": "execute_result"
    }
   ],
   "source": [
    "df.loc[1:3,['B','C']]"
   ]
  },
  {
   "cell_type": "markdown",
   "metadata": {},
   "source": [
    "### 选取连续多列数据要用df.iloc\n",
    ".iloc使用全是以0开头的行号和列号，不能直接用其它索引。而.loc使用的实际设置的索引和列名"
   ]
  },
  {
   "cell_type": "code",
   "execution_count": 34,
   "metadata": {},
   "outputs": [
    {
     "data": {
      "text/html": [
       "<div>\n",
       "<style scoped>\n",
       "    .dataframe tbody tr th:only-of-type {\n",
       "        vertical-align: middle;\n",
       "    }\n",
       "\n",
       "    .dataframe tbody tr th {\n",
       "        vertical-align: top;\n",
       "    }\n",
       "\n",
       "    .dataframe thead th {\n",
       "        text-align: right;\n",
       "    }\n",
       "</style>\n",
       "<table border=\"1\" class=\"dataframe\">\n",
       "  <thead>\n",
       "    <tr style=\"text-align: right;\">\n",
       "      <th></th>\n",
       "      <th>C</th>\n",
       "      <th>D</th>\n",
       "    </tr>\n",
       "  </thead>\n",
       "  <tbody>\n",
       "    <tr>\n",
       "      <th>2</th>\n",
       "      <td>-1.448288</td>\n",
       "      <td>0.679352</td>\n",
       "    </tr>\n",
       "    <tr>\n",
       "      <th>3</th>\n",
       "      <td>1.914377</td>\n",
       "      <td>1.850377</td>\n",
       "    </tr>\n",
       "  </tbody>\n",
       "</table>\n",
       "</div>"
      ],
      "text/plain": [
       "          C         D\n",
       "2 -1.448288  0.679352\n",
       "3  1.914377  1.850377"
      ]
     },
     "execution_count": 34,
     "metadata": {},
     "output_type": "execute_result"
    }
   ],
   "source": [
    "df.iloc[1:3,2:4]"
   ]
  },
  {
   "cell_type": "markdown",
   "metadata": {},
   "source": [
    "## 筛选数据isin(), str.contains()"
   ]
  },
  {
   "cell_type": "markdown",
   "metadata": {},
   "source": [
    "### 根据数值筛选\n",
    "并且用&，或者用|"
   ]
  },
  {
   "cell_type": "code",
   "execution_count": 54,
   "metadata": {
    "scrolled": true
   },
   "outputs": [
    {
     "data": {
      "text/html": [
       "<div>\n",
       "<style scoped>\n",
       "    .dataframe tbody tr th:only-of-type {\n",
       "        vertical-align: middle;\n",
       "    }\n",
       "\n",
       "    .dataframe tbody tr th {\n",
       "        vertical-align: top;\n",
       "    }\n",
       "\n",
       "    .dataframe thead th {\n",
       "        text-align: right;\n",
       "    }\n",
       "</style>\n",
       "<table border=\"1\" class=\"dataframe\">\n",
       "  <thead>\n",
       "    <tr style=\"text-align: right;\">\n",
       "      <th></th>\n",
       "      <th>A</th>\n",
       "      <th>B</th>\n",
       "      <th>C</th>\n",
       "      <th>D</th>\n",
       "      <th>E</th>\n",
       "    </tr>\n",
       "  </thead>\n",
       "  <tbody>\n",
       "    <tr>\n",
       "      <th>1</th>\n",
       "      <td>1.013451</td>\n",
       "      <td>0.440223</td>\n",
       "      <td>-0.027866</td>\n",
       "      <td>-0.558900</td>\n",
       "      <td>0.571355</td>\n",
       "    </tr>\n",
       "    <tr>\n",
       "      <th>2</th>\n",
       "      <td>-0.345688</td>\n",
       "      <td>1.109149</td>\n",
       "      <td>-1.448288</td>\n",
       "      <td>0.679352</td>\n",
       "      <td>-1.517350</td>\n",
       "    </tr>\n",
       "    <tr>\n",
       "      <th>5</th>\n",
       "      <td>0.954118</td>\n",
       "      <td>1.257270</td>\n",
       "      <td>-0.836114</td>\n",
       "      <td>1.016624</td>\n",
       "      <td>-1.096184</td>\n",
       "    </tr>\n",
       "    <tr>\n",
       "      <th>6</th>\n",
       "      <td>-0.696681</td>\n",
       "      <td>0.013143</td>\n",
       "      <td>-1.217896</td>\n",
       "      <td>0.529573</td>\n",
       "      <td>-1.938974</td>\n",
       "    </tr>\n",
       "    <tr>\n",
       "      <th>8</th>\n",
       "      <td>-0.589607</td>\n",
       "      <td>0.104446</td>\n",
       "      <td>-0.637305</td>\n",
       "      <td>-0.333848</td>\n",
       "      <td>-0.929940</td>\n",
       "    </tr>\n",
       "  </tbody>\n",
       "</table>\n",
       "</div>"
      ],
      "text/plain": [
       "          A         B         C         D         E\n",
       "1  1.013451  0.440223 -0.027866 -0.558900  0.571355\n",
       "2 -0.345688  1.109149 -1.448288  0.679352 -1.517350\n",
       "5  0.954118  1.257270 -0.836114  1.016624 -1.096184\n",
       "6 -0.696681  0.013143 -1.217896  0.529573 -1.938974\n",
       "8 -0.589607  0.104446 -0.637305 -0.333848 -0.929940"
      ]
     },
     "execution_count": 54,
     "metadata": {},
     "output_type": "execute_result"
    }
   ],
   "source": [
    "df[(df['B']>0)&(df['C']<0)]"
   ]
  },
  {
   "cell_type": "code",
   "execution_count": 55,
   "metadata": {
    "scrolled": false
   },
   "outputs": [
    {
     "data": {
      "text/html": [
       "<div>\n",
       "<style scoped>\n",
       "    .dataframe tbody tr th:only-of-type {\n",
       "        vertical-align: middle;\n",
       "    }\n",
       "\n",
       "    .dataframe tbody tr th {\n",
       "        vertical-align: top;\n",
       "    }\n",
       "\n",
       "    .dataframe thead th {\n",
       "        text-align: right;\n",
       "    }\n",
       "</style>\n",
       "<table border=\"1\" class=\"dataframe\">\n",
       "  <thead>\n",
       "    <tr style=\"text-align: right;\">\n",
       "      <th></th>\n",
       "      <th>B</th>\n",
       "      <th>C</th>\n",
       "    </tr>\n",
       "  </thead>\n",
       "  <tbody>\n",
       "    <tr>\n",
       "      <th>1</th>\n",
       "      <td>0.440223</td>\n",
       "      <td>-0.027866</td>\n",
       "    </tr>\n",
       "    <tr>\n",
       "      <th>2</th>\n",
       "      <td>1.109149</td>\n",
       "      <td>-1.448288</td>\n",
       "    </tr>\n",
       "    <tr>\n",
       "      <th>5</th>\n",
       "      <td>1.257270</td>\n",
       "      <td>-0.836114</td>\n",
       "    </tr>\n",
       "    <tr>\n",
       "      <th>6</th>\n",
       "      <td>0.013143</td>\n",
       "      <td>-1.217896</td>\n",
       "    </tr>\n",
       "    <tr>\n",
       "      <th>8</th>\n",
       "      <td>0.104446</td>\n",
       "      <td>-0.637305</td>\n",
       "    </tr>\n",
       "  </tbody>\n",
       "</table>\n",
       "</div>"
      ],
      "text/plain": [
       "          B         C\n",
       "1  0.440223 -0.027866\n",
       "2  1.109149 -1.448288\n",
       "5  1.257270 -0.836114\n",
       "6  0.013143 -1.217896\n",
       "8  0.104446 -0.637305"
      ]
     },
     "execution_count": 55,
     "metadata": {},
     "output_type": "execute_result"
    }
   ],
   "source": [
    "df[['B','C']][(df['B']>0)&(df['C']<0)]"
   ]
  },
  {
   "cell_type": "code",
   "execution_count": 49,
   "metadata": {
    "scrolled": true
   },
   "outputs": [
    {
     "name": "stdout",
     "output_type": "stream",
     "text": [
      "          A         B         C         D         E\n",
      "1  1.453606  0.152156 -0.396139 -0.164462  0.955184\n",
      "2 -0.529427 -0.882184 -1.291494 -1.186572 -0.333015\n",
      "3 -0.828337 -1.825952 -0.796416 -0.161129 -0.171349\n",
      "4 -0.690116  0.790669 -0.379343 -0.267542  0.302974\n",
      "5 -0.342745  0.220742 -1.710230  0.303803 -0.356832\n",
      "6  0.326483  0.429699  0.111721  0.322238 -0.807655\n",
      "7  1.228047 -0.186172  1.087775 -0.280314  0.341105\n",
      "8 -1.190636 -0.713313  0.358419  1.886019 -0.457658\n"
     ]
    }
   ],
   "source": [
    "df2=pd.DataFrame(np.random.randn(8,5),index=np.arange(1,9,1),columns=list('ABCDE'))\n",
    "print(df2)"
   ]
  },
  {
   "cell_type": "code",
   "execution_count": 57,
   "metadata": {
    "scrolled": true
   },
   "outputs": [
    {
     "name": "stdout",
     "output_type": "stream",
     "text": [
      "          A         B         C         D         E\n",
      "1   1.45361  0.152156 -0.396139 -0.164462  0.955184\n",
      "2 -0.529427 -0.882184  -1.29149  -1.18657 -0.333015\n",
      "3       aaa       aaa       aaa       aaa       aaa\n",
      "4 -0.690116  0.790669 -0.379343 -0.267542  0.302974\n",
      "5        ac        ac        ac        ac        ac\n",
      "6  0.326483  0.429699  0.111721  0.322238 -0.807655\n",
      "7   1.22805 -0.186172   1.08777 -0.280314  0.341105\n",
      "8  -1.19064 -0.713313  0.358419   1.88602 -0.457658\n"
     ]
    }
   ],
   "source": [
    "df2.loc[3]='aaa'\n",
    "df2.loc[5]='ac'\n",
    "print(df2)"
   ]
  },
  {
   "cell_type": "markdown",
   "metadata": {},
   "source": [
    "### 精确查找.isin"
   ]
  },
  {
   "cell_type": "code",
   "execution_count": 58,
   "metadata": {},
   "outputs": [
    {
     "data": {
      "text/html": [
       "<div>\n",
       "<style scoped>\n",
       "    .dataframe tbody tr th:only-of-type {\n",
       "        vertical-align: middle;\n",
       "    }\n",
       "\n",
       "    .dataframe tbody tr th {\n",
       "        vertical-align: top;\n",
       "    }\n",
       "\n",
       "    .dataframe thead th {\n",
       "        text-align: right;\n",
       "    }\n",
       "</style>\n",
       "<table border=\"1\" class=\"dataframe\">\n",
       "  <thead>\n",
       "    <tr style=\"text-align: right;\">\n",
       "      <th></th>\n",
       "      <th>A</th>\n",
       "      <th>B</th>\n",
       "      <th>C</th>\n",
       "      <th>D</th>\n",
       "      <th>E</th>\n",
       "    </tr>\n",
       "  </thead>\n",
       "  <tbody>\n",
       "    <tr>\n",
       "      <th>3</th>\n",
       "      <td>aaa</td>\n",
       "      <td>aaa</td>\n",
       "      <td>aaa</td>\n",
       "      <td>aaa</td>\n",
       "      <td>aaa</td>\n",
       "    </tr>\n",
       "    <tr>\n",
       "      <th>5</th>\n",
       "      <td>ac</td>\n",
       "      <td>ac</td>\n",
       "      <td>ac</td>\n",
       "      <td>ac</td>\n",
       "      <td>ac</td>\n",
       "    </tr>\n",
       "  </tbody>\n",
       "</table>\n",
       "</div>"
      ],
      "text/plain": [
       "     A    B    C    D    E\n",
       "3  aaa  aaa  aaa  aaa  aaa\n",
       "5   ac   ac   ac   ac   ac"
      ]
     },
     "execution_count": 58,
     "metadata": {},
     "output_type": "execute_result"
    }
   ],
   "source": [
    "df2[df2['C'].isin(['aaa','ac'])]\n",
    "#如果想要isnotin,用df2[~df2['C'].isin(['aaa','ac'])]"
   ]
  },
  {
   "cell_type": "markdown",
   "metadata": {},
   "source": [
    "### 模糊查找 .contains"
   ]
  },
  {
   "cell_type": "code",
   "execution_count": 117,
   "metadata": {
    "scrolled": false
   },
   "outputs": [
    {
     "name": "stdout",
     "output_type": "stream",
     "text": [
      "    区域  销售  人员数量\n",
      "0  四川A   9     5\n",
      "1  四川B   9     1\n",
      "2  四川C   5     1\n",
      "3  重庆A   9     8\n",
      "4  重庆B   4     1\n",
      "5  重庆C   0     1\n"
     ]
    }
   ],
   "source": [
    "df3=pd.DataFrame(np.random.randint(10,size=(6,2)),columns=['销售','人员数量'])\n",
    "df3['区域']=['四川A','四川B','四川C','重庆A','重庆B','重庆C']\n",
    "df3=df3.reindex(columns=['区域','销售','人员数量'])\n",
    "print(df3)"
   ]
  },
  {
   "cell_type": "code",
   "execution_count": 101,
   "metadata": {},
   "outputs": [
    {
     "data": {
      "text/html": [
       "<div>\n",
       "<style scoped>\n",
       "    .dataframe tbody tr th:only-of-type {\n",
       "        vertical-align: middle;\n",
       "    }\n",
       "\n",
       "    .dataframe tbody tr th {\n",
       "        vertical-align: top;\n",
       "    }\n",
       "\n",
       "    .dataframe thead th {\n",
       "        text-align: right;\n",
       "    }\n",
       "</style>\n",
       "<table border=\"1\" class=\"dataframe\">\n",
       "  <thead>\n",
       "    <tr style=\"text-align: right;\">\n",
       "      <th></th>\n",
       "      <th>区域</th>\n",
       "      <th>销售</th>\n",
       "      <th>人员数量</th>\n",
       "    </tr>\n",
       "  </thead>\n",
       "  <tbody>\n",
       "    <tr>\n",
       "      <th>0</th>\n",
       "      <td>四川A</td>\n",
       "      <td>1</td>\n",
       "      <td>1</td>\n",
       "    </tr>\n",
       "    <tr>\n",
       "      <th>1</th>\n",
       "      <td>四川B</td>\n",
       "      <td>7</td>\n",
       "      <td>0</td>\n",
       "    </tr>\n",
       "    <tr>\n",
       "      <th>2</th>\n",
       "      <td>四川C</td>\n",
       "      <td>1</td>\n",
       "      <td>2</td>\n",
       "    </tr>\n",
       "  </tbody>\n",
       "</table>\n",
       "</div>"
      ],
      "text/plain": [
       "    区域  销售  人员数量\n",
       "0  四川A   1     1\n",
       "1  四川B   7     0\n",
       "2  四川C   1     2"
      ]
     },
     "execution_count": 101,
     "metadata": {},
     "output_type": "execute_result"
    }
   ],
   "source": [
    "df3.loc[df3['区域'].str.contains('四川')]"
   ]
  },
  {
   "cell_type": "code",
   "execution_count": 106,
   "metadata": {
    "scrolled": true
   },
   "outputs": [
    {
     "data": {
      "text/html": [
       "<div>\n",
       "<style scoped>\n",
       "    .dataframe tbody tr th:only-of-type {\n",
       "        vertical-align: middle;\n",
       "    }\n",
       "\n",
       "    .dataframe tbody tr th {\n",
       "        vertical-align: top;\n",
       "    }\n",
       "\n",
       "    .dataframe thead th {\n",
       "        text-align: right;\n",
       "    }\n",
       "</style>\n",
       "<table border=\"1\" class=\"dataframe\">\n",
       "  <thead>\n",
       "    <tr style=\"text-align: right;\">\n",
       "      <th></th>\n",
       "      <th>区域</th>\n",
       "      <th>销售</th>\n",
       "      <th>人员数量</th>\n",
       "    </tr>\n",
       "  </thead>\n",
       "  <tbody>\n",
       "    <tr>\n",
       "      <th>0</th>\n",
       "      <td>四川A</td>\n",
       "      <td>1</td>\n",
       "      <td>0</td>\n",
       "    </tr>\n",
       "    <tr>\n",
       "      <th>1</th>\n",
       "      <td>四川B</td>\n",
       "      <td>7</td>\n",
       "      <td>0</td>\n",
       "    </tr>\n",
       "    <tr>\n",
       "      <th>2</th>\n",
       "      <td>四川C</td>\n",
       "      <td>1</td>\n",
       "      <td>0</td>\n",
       "    </tr>\n",
       "    <tr>\n",
       "      <th>3</th>\n",
       "      <td>重庆A</td>\n",
       "      <td>9</td>\n",
       "      <td>2</td>\n",
       "    </tr>\n",
       "  </tbody>\n",
       "</table>\n",
       "</div>"
      ],
      "text/plain": [
       "    区域  销售  人员数量\n",
       "0  四川A   1     0\n",
       "1  四川B   7     0\n",
       "2  四川C   1     0\n",
       "3  重庆A   9     2"
      ]
     },
     "execution_count": 106,
     "metadata": {},
     "output_type": "execute_result"
    }
   ],
   "source": [
    "df3.loc[df3['区域'].str.contains('四川|A')]"
   ]
  },
  {
   "cell_type": "markdown",
   "metadata": {},
   "source": [
    "### 用loc和contain修改表格"
   ]
  },
  {
   "cell_type": "code",
   "execution_count": 107,
   "metadata": {},
   "outputs": [
    {
     "name": "stdout",
     "output_type": "stream",
     "text": [
      "    区域  销售  人员数量\n",
      "0  四川A   1     0\n",
      "1  四川B   7     0\n",
      "2  四川C   1     0\n",
      "3  重庆A   9     2\n",
      "4  重庆B   9     4\n",
      "5  重庆C   8     4\n"
     ]
    }
   ],
   "source": [
    "df3.loc[df3['区域'].str.contains('四川'),['人员数量']]=0\n",
    "print(df3)"
   ]
  },
  {
   "cell_type": "markdown",
   "metadata": {},
   "source": [
    "## 读写excel，使用书签"
   ]
  },
  {
   "cell_type": "markdown",
   "metadata": {},
   "source": [
    "### 读写Excel"
   ]
  },
  {
   "cell_type": "code",
   "execution_count": 109,
   "metadata": {},
   "outputs": [
    {
     "name": "stdout",
     "output_type": "stream",
     "text": [
      "    序号 产品名称       销量1       销量2       销量3       销量4       销量5       销量6  \\\n",
      "0    1    A  0.491635  0.798509  0.594845  0.830152  0.791545  0.240166   \n",
      "1    2    B  0.926247  0.295765  0.539713  0.664779  0.661058  0.528993   \n",
      "2    3    C  0.815358  0.243104  0.053447  0.615961  0.134731  0.264342   \n",
      "3    4    D  0.109010  0.842934  0.832135  0.048712  0.066561  0.547945   \n",
      "4    5    E  0.883969  0.578032  0.783917  0.291968  0.921318  0.005972   \n",
      "5    6    F  0.729036  0.624487  0.658897  0.066834  0.706790  0.919602   \n",
      "6    7    G  0.904931  0.405485  0.453157  0.035007  0.574129  0.503826   \n",
      "7    8    H  0.581688  0.385911  0.914271  0.188742  0.030460  0.729672   \n",
      "8    9    I  0.648921  0.226329  0.405165  0.908911  0.161221  0.894446   \n",
      "9   10    J  0.800125  0.780605  0.243823  0.256188  0.445094  0.463112   \n",
      "10  11    K  0.709340  0.361336  0.396993  0.664933  0.546339  0.457326   \n",
      "11  12    L  0.974517  0.779699  0.098991  0.259130  0.582077  0.299320   \n",
      "\n",
      "         销量7       销量8  \n",
      "0   0.746440  0.075691  \n",
      "1   0.927310  0.641919  \n",
      "2   0.257605  0.488298  \n",
      "3   0.710885  0.608345  \n",
      "4   0.559561  0.836303  \n",
      "5   0.458084  0.007211  \n",
      "6   0.227180  0.431798  \n",
      "7   0.647287  0.471928  \n",
      "8   0.513772  0.370357  \n",
      "9   0.902662  0.703008  \n",
      "10  0.838195  0.962660  \n",
      "11  0.924266  0.279921  \n"
     ]
    }
   ],
   "source": [
    "df4=pd.read_excel(r'C:\\Users\\shifeng.tian\\Desktop\\Python学习\\test.xlsx')\n",
    "print(df4)"
   ]
  },
  {
   "cell_type": "markdown",
   "metadata": {},
   "source": [
    "### 设置书签"
   ]
  },
  {
   "cell_type": "code",
   "execution_count": 112,
   "metadata": {
    "scrolled": true
   },
   "outputs": [
    {
     "ename": "SyntaxError",
     "evalue": "invalid syntax (<ipython-input-112-473a6f376a38>, line 1)",
     "output_type": "error",
     "traceback": [
      "\u001b[1;36m  File \u001b[1;32m\"<ipython-input-112-473a6f376a38>\"\u001b[1;36m, line \u001b[1;32m1\u001b[0m\n\u001b[1;33m    bookmark test C:\\Users\\shifeng.tian\\Desktop\\Python学习\u001b[0m\n\u001b[1;37m                ^\u001b[0m\n\u001b[1;31mSyntaxError\u001b[0m\u001b[1;31m:\u001b[0m invalid syntax\n"
     ]
    }
   ],
   "source": [
    "bookmark test C:\\Users\\shifeng.tian\\Desktop\\Python学习\n",
    "cd test\n",
    "df5=pd.read_excel('test.xlsx')"
   ]
  },
  {
   "cell_type": "markdown",
   "metadata": {},
   "source": [
    "### 写入Excel"
   ]
  },
  {
   "cell_type": "code",
   "execution_count": 114,
   "metadata": {},
   "outputs": [],
   "source": [
    "df4.to_excel(r'C:\\Users\\shifeng.tian\\Desktop\\Python学习\\输出.xlsx')"
   ]
  },
  {
   "cell_type": "markdown",
   "metadata": {},
   "source": [
    "## 设置和修改索引，计数，多表交叉合并"
   ]
  },
  {
   "cell_type": "code",
   "execution_count": 1,
   "metadata": {},
   "outputs": [],
   "source": [
    "import pandas as pd\n",
    "from pandas import DataFrame\n",
    "import numpy as np"
   ]
  },
  {
   "cell_type": "code",
   "execution_count": 104,
   "metadata": {},
   "outputs": [
    {
     "name": "stdout",
     "output_type": "stream",
     "text": [
      "   序号  姓名    销售  上班天数\n",
      "0   1  张三  1456    12\n",
      "1   2  李四   456     2\n",
      "2   3  张三    54    20\n",
      "3   4  李四   154    21\n",
      "4   5  张三    45    22\n",
      "5   6  李四    65    25\n",
      "6   7  张三    54    24\n",
      "7   8  李四   554    24\n",
      "8   9  张三     5    23\n"
     ]
    }
   ],
   "source": [
    "\n",
    "df6=pd.read_excel(r'C:\\Users\\shifeng.tian\\Desktop\\Python学习\\test2.xlsx')\n",
    "print(df6)"
   ]
  },
  {
   "cell_type": "markdown",
   "metadata": {},
   "source": [
    "### 修改索引"
   ]
  },
  {
   "cell_type": "code",
   "execution_count": 105,
   "metadata": {},
   "outputs": [
    {
     "name": "stdout",
     "output_type": "stream",
     "text": [
      "    姓名    销售  上班天数\n",
      "序号                \n",
      "1   张三  1456    12\n",
      "2   李四   456     2\n",
      "3   张三    54    20\n",
      "4   李四   154    21\n",
      "5   张三    45    22\n",
      "6   李四    65    25\n",
      "7   张三    54    24\n",
      "8   李四   554    24\n",
      "9   张三     5    23\n"
     ]
    }
   ],
   "source": [
    "df6=df6.set_index('序号')\n",
    "print(df6)"
   ]
  },
  {
   "cell_type": "markdown",
   "metadata": {},
   "source": [
    "### 计数与添加行"
   ]
  },
  {
   "cell_type": "code",
   "execution_count": 80,
   "metadata": {},
   "outputs": [
    {
     "data": {
      "text/plain": [
       "9"
      ]
     },
     "execution_count": 80,
     "metadata": {},
     "output_type": "execute_result"
    }
   ],
   "source": [
    "df6['姓名'].count()"
   ]
  },
  {
   "cell_type": "code",
   "execution_count": 106,
   "metadata": {
    "scrolled": true
   },
   "outputs": [
    {
     "name": "stdout",
     "output_type": "stream",
     "text": [
      "     姓名    销售  上班天数\n",
      "序号                 \n",
      "1    张三  1456    12\n",
      "2    李四   456     2\n",
      "3    张三    54    20\n",
      "4    李四   154    21\n",
      "5    张三    45    22\n",
      "6    李四    65    25\n",
      "7    张三    54    24\n",
      "8    李四   554    24\n",
      "9    张三     5    23\n",
      "10  曹阿曼    24     3\n"
     ]
    }
   ],
   "source": [
    "df6.loc[df6['姓名'].count()+1]=['曹阿曼',24,3]\n",
    "print(df6)"
   ]
  },
  {
   "cell_type": "code",
   "execution_count": 107,
   "metadata": {
    "scrolled": false
   },
   "outputs": [
    {
     "name": "stdout",
     "output_type": "stream",
     "text": [
      "Empty DataFrame\n",
      "Columns: [姓名, 销售, 上班天数]\n",
      "Index: []\n"
     ]
    }
   ],
   "source": [
    "df7=df6\n",
    "df8=pd.DataFrame(columns=df6.columns)\n",
    "print(df8)"
   ]
  },
  {
   "cell_type": "code",
   "execution_count": 108,
   "metadata": {},
   "outputs": [
    {
     "name": "stdout",
     "output_type": "stream",
     "text": [
      "     姓名    销售  上班天数\n",
      "1    张三  1456    12\n",
      "3    李四   456     2\n",
      "5    张三    54    20\n",
      "7    李四   154    21\n",
      "9    张三    45    22\n",
      "11   李四    65    25\n",
      "13   张三    54    24\n",
      "15   李四   554    24\n",
      "17   张三     5    23\n",
      "19  曹阿曼    24     3\n"
     ]
    }
   ],
   "source": [
    "df6=df6.set_index(np.arange(1,df6['销售'].count()*2+1,2))\n",
    "print(df6)"
   ]
  },
  {
   "cell_type": "code",
   "execution_count": 109,
   "metadata": {},
   "outputs": [
    {
     "name": "stdout",
     "output_type": "stream",
     "text": [
      "     姓名    销售  上班天数\n",
      "2    张三  1456    12\n",
      "4    李四   456     2\n",
      "6    张三    54    20\n",
      "8    李四   154    21\n",
      "10   张三    45    22\n",
      "12   李四    65    25\n",
      "14   张三    54    24\n",
      "16   李四   554    24\n",
      "18   张三     5    23\n",
      "20  曹阿曼    24     3\n"
     ]
    }
   ],
   "source": [
    "df7=df7.set_index(np.arange(2,df7['销售'].count()*2+1,2))\n",
    "print(df7)"
   ]
  },
  {
   "cell_type": "code",
   "execution_count": 111,
   "metadata": {},
   "outputs": [
    {
     "name": "stdout",
     "output_type": "stream",
     "text": [
      "     姓名    销售 上班天数\n",
      "1    张三  1456   12\n",
      "2    张三  1456   12\n",
      "3    李四   456    2\n",
      "4    李四   456    2\n",
      "5    张三    54   20\n",
      "6    张三    54   20\n",
      "7    李四   154   21\n",
      "8    李四   154   21\n",
      "9    张三    45   22\n",
      "10   张三    45   22\n",
      "11   李四    65   25\n",
      "12   李四    65   25\n",
      "13   张三    54   24\n",
      "14   张三    54   24\n",
      "15   李四   554   24\n",
      "16   李四   554   24\n",
      "17   张三     5   23\n",
      "18   张三     5   23\n",
      "19  曹阿曼    24    3\n",
      "20  曹阿曼    24    3\n"
     ]
    }
   ],
   "source": [
    "for i in np.arange(1,(df6['销售'].count())*2+1,2):\n",
    "    df8.loc[i]=df6.loc[i]\n",
    "    df8.loc[i+1]=df7.loc[i+1]\n",
    "print(df8)"
   ]
  },
  {
   "cell_type": "markdown",
   "metadata": {},
   "source": [
    "## 计数与占比"
   ]
  },
  {
   "cell_type": "markdown",
   "metadata": {},
   "source": [
    "### 计数.value_counts()"
   ]
  },
  {
   "cell_type": "code",
   "execution_count": 112,
   "metadata": {},
   "outputs": [
    {
     "data": {
      "text/plain": [
       "张三     10\n",
       "李四      8\n",
       "曹阿曼     2\n",
       "Name: 姓名, dtype: int64"
      ]
     },
     "execution_count": 112,
     "metadata": {},
     "output_type": "execute_result"
    }
   ],
   "source": [
    "df8['姓名'].value_counts()"
   ]
  },
  {
   "cell_type": "code",
   "execution_count": 114,
   "metadata": {},
   "outputs": [
    {
     "data": {
      "text/plain": [
       "曹阿曼     2\n",
       "李四      8\n",
       "张三     10\n",
       "Name: 姓名, dtype: int64"
      ]
     },
     "execution_count": 114,
     "metadata": {},
     "output_type": "execute_result"
    }
   ],
   "source": [
    "df8['姓名'].value_counts(ascending=True)"
   ]
  },
  {
   "cell_type": "markdown",
   "metadata": {},
   "source": [
    "### 占比"
   ]
  },
  {
   "cell_type": "code",
   "execution_count": 131,
   "metadata": {},
   "outputs": [
    {
     "data": {
      "text/plain": [
       "张三     0.5\n",
       "李四     0.4\n",
       "曹阿曼    0.1\n",
       "Name: 姓名, dtype: float64"
      ]
     },
     "execution_count": 131,
     "metadata": {},
     "output_type": "execute_result"
    }
   ],
   "source": [
    "df8['姓名'].value_counts(normalize=True)"
   ]
  },
  {
   "cell_type": "markdown",
   "metadata": {},
   "source": [
    "## 行列重排"
   ]
  },
  {
   "cell_type": "code",
   "execution_count": 7,
   "metadata": {},
   "outputs": [
    {
     "name": "stdout",
     "output_type": "stream",
     "text": [
      "   序号         A         B         C         D         E\n",
      "0   1 -1.521263  0.490200  0.497052  0.401745  0.011467\n",
      "1   2  0.206824 -1.131438  0.478276  1.356714 -1.488409\n",
      "2   3  0.720319 -0.250217 -0.578435 -0.411097 -1.498134\n",
      "3   4  0.407077 -2.563033  0.096742  2.117202  0.522486\n",
      "4   5  1.956795  1.107548  1.251372 -0.441782 -0.327651\n",
      "5   6  0.920159 -1.027417  0.175777 -0.240585  0.319216\n",
      "6   7 -1.519717  1.159183 -0.160256 -0.816344 -0.193251\n",
      "7   8  0.138851  0.327710 -0.758824  0.698508 -0.443310\n"
     ]
    }
   ],
   "source": [
    "df=pd.DataFrame(np.random.randn(8,5),columns=list('ABCDE'))\n",
    "df['序号']=[1,2,3,4,5,6,7,8]\n",
    "df=df.reindex(columns=['序号','A','B','C','D','E'])\n",
    "print(df)"
   ]
  },
  {
   "cell_type": "markdown",
   "metadata": {},
   "source": [
    "### 重新设置索引.set_index()"
   ]
  },
  {
   "cell_type": "code",
   "execution_count": 8,
   "metadata": {},
   "outputs": [
    {
     "name": "stdout",
     "output_type": "stream",
     "text": [
      "           A         B         C         D         E\n",
      "序号                                                  \n",
      "1  -1.521263  0.490200  0.497052  0.401745  0.011467\n",
      "2   0.206824 -1.131438  0.478276  1.356714 -1.488409\n",
      "3   0.720319 -0.250217 -0.578435 -0.411097 -1.498134\n",
      "4   0.407077 -2.563033  0.096742  2.117202  0.522486\n",
      "5   1.956795  1.107548  1.251372 -0.441782 -0.327651\n",
      "6   0.920159 -1.027417  0.175777 -0.240585  0.319216\n",
      "7  -1.519717  1.159183 -0.160256 -0.816344 -0.193251\n",
      "8   0.138851  0.327710 -0.758824  0.698508 -0.443310\n"
     ]
    }
   ],
   "source": [
    "df=df.set_index('序号')\n",
    "print(df)"
   ]
  },
  {
   "cell_type": "markdown",
   "metadata": {},
   "source": [
    "### 调整行列顺序.reindex()"
   ]
  },
  {
   "cell_type": "code",
   "execution_count": 10,
   "metadata": {},
   "outputs": [
    {
     "name": "stdout",
     "output_type": "stream",
     "text": [
      "           A         B         C         D         E\n",
      "序号                                                  \n",
      "2   0.206824 -1.131438  0.478276  1.356714 -1.488409\n",
      "3   0.720319 -0.250217 -0.578435 -0.411097 -1.498134\n",
      "5   1.956795  1.107548  1.251372 -0.441782 -0.327651\n",
      "9        NaN       NaN       NaN       NaN       NaN\n",
      "8   0.138851  0.327710 -0.758824  0.698508 -0.443310\n",
      "7  -1.519717  1.159183 -0.160256 -0.816344 -0.193251\n",
      "6   0.920159 -1.027417  0.175777 -0.240585  0.319216\n",
      "1  -1.521263  0.490200  0.497052  0.401745  0.011467\n",
      "4   0.407077 -2.563033  0.096742  2.117202  0.522486\n"
     ]
    }
   ],
   "source": [
    "df=df.reindex(index=[2,3,5,9,8,7,6,1,4])\n",
    "print(df)"
   ]
  },
  {
   "cell_type": "markdown",
   "metadata": {},
   "source": [
    "### 向前填充ffill向后填充bfill"
   ]
  },
  {
   "cell_type": "code",
   "execution_count": 36,
   "metadata": {
    "scrolled": true
   },
   "outputs": [
    {
     "name": "stdout",
     "output_type": "stream",
     "text": [
      "           A         B         C         D         E\n",
      "序号                                                  \n",
      "1  -1.521263  0.490200  0.497052  0.401745  0.011467\n",
      "2   0.206824 -1.131438  0.478276  1.356714 -1.488409\n",
      "3   0.720319 -0.250217 -0.578435 -0.411097 -1.498134\n",
      "4   0.407077 -2.563033  0.096742  2.117202  0.522486\n",
      "5   1.956795  1.107548  1.251372 -0.441782 -0.327651\n",
      "6   0.920159 -1.027417  0.175777 -0.240585  0.319216\n",
      "7  -1.519717  1.159183 -0.160256 -0.816344 -0.193251\n",
      "8   0.138851  0.327710 -0.758824  0.698508 -0.443310\n",
      "9   0.138851  0.327710 -0.758824  0.698508 -0.443310\n",
      "10  0.138851  0.327710 -0.758824  0.698508 -0.443310\n"
     ]
    }
   ],
   "source": [
    "df=df.reindex(index=[1,2,3,4,5,6,7,8,9,10])\n",
    "df=df.fillna(method='ffill')\n",
    "print(df)"
   ]
  },
  {
   "cell_type": "markdown",
   "metadata": {},
   "source": [
    "## 匹配合并merge()"
   ]
  },
  {
   "cell_type": "markdown",
   "metadata": {},
   "source": [
    "### 按相同的列合并"
   ]
  },
  {
   "cell_type": "code",
   "execution_count": 37,
   "metadata": {},
   "outputs": [
    {
     "name": "stdout",
     "output_type": "stream",
     "text": [
      "    区域   门店        销量      人员数量\n",
      "0  四川A  门店1  0.059436  0.805311\n",
      "1  四川A  门店2  0.874946  0.291768\n",
      "2  四川B  门店3  0.072384  0.493068\n",
      "3  四川B  门店4  0.284597  0.354886\n",
      "4  四川C  门店5  0.025853  0.383879\n",
      "5  四川C  门店6  0.066922  0.226861\n"
     ]
    }
   ],
   "source": [
    "df1=pd.read_excel(r'C:\\Users\\shifeng.tian\\Desktop\\Python学习\\test2.xlsx')\n",
    "print(df1)"
   ]
  },
  {
   "cell_type": "code",
   "execution_count": 53,
   "metadata": {
    "scrolled": true
   },
   "outputs": [
    {
     "name": "stdout",
     "output_type": "stream",
     "text": [
      "    区域   门店      上月销售      人员数量\n",
      "0  四川B  门店3  0.689927  0.926292\n",
      "1  四川B  门店4  0.407408  0.595283\n",
      "2  四川C  门店5  0.068880  0.592748\n",
      "3  四川C  门店6  0.943595  0.586487\n",
      "4  四川D  门店7  0.896747  0.942178\n",
      "5  四川D  门店8  0.154836  0.548522\n"
     ]
    }
   ],
   "source": [
    "df2=pd.read_excel(r'C:\\Users\\shifeng.tian\\Desktop\\Python学习\\test2.xlsx')\n",
    "print(df2)"
   ]
  },
  {
   "cell_type": "code",
   "execution_count": 54,
   "metadata": {},
   "outputs": [
    {
     "name": "stdout",
     "output_type": "stream",
     "text": [
      "  区域_x   门店        销量    人员数量_x 区域_y      上月销售    人员数量_y\n",
      "0  四川B  门店3  0.072384  0.493068  四川B  0.689927  0.926292\n",
      "1  四川B  门店4  0.284597  0.354886  四川B  0.407408  0.595283\n",
      "2  四川C  门店5  0.025853  0.383879  四川C  0.068880  0.592748\n",
      "3  四川C  门店6  0.066922  0.226861  四川C  0.943595  0.586487\n"
     ]
    }
   ],
   "source": [
    "df=pd.merge(df1,df2,how='inner',left_on='门店',right_on='门店')\n",
    "print(df)"
   ]
  },
  {
   "cell_type": "code",
   "execution_count": 63,
   "metadata": {},
   "outputs": [
    {
     "ename": "SyntaxError",
     "evalue": "invalid character in identifier (<ipython-input-63-f29ae199b8f3>, line 1)",
     "output_type": "error",
     "traceback": [
      "\u001b[1;36m  File \u001b[1;32m\"<ipython-input-63-f29ae199b8f3>\"\u001b[1;36m, line \u001b[1;32m1\u001b[0m\n\u001b[1;33m    df=pd.merge(df1,df2,how='inner',on='门店',suffixes=('左表',‘右表’))\u001b[0m\n\u001b[1;37m                                                              ^\u001b[0m\n\u001b[1;31mSyntaxError\u001b[0m\u001b[1;31m:\u001b[0m invalid character in identifier\n"
     ]
    }
   ],
   "source": [
    "df=pd.merge(df1,df2,how='inner',on='门店',suffixes=('左表',‘右表’))\n",
    "print(df)"
   ]
  },
  {
   "cell_type": "code",
   "execution_count": 59,
   "metadata": {},
   "outputs": [
    {
     "name": "stdout",
     "output_type": "stream",
     "text": [
      "    区域   门店        销量      上月销售\n",
      "0  四川B  门店3  0.072384  0.689927\n",
      "1  四川B  门店4  0.284597  0.407408\n",
      "2  四川C  门店5  0.025853  0.068880\n",
      "3  四川C  门店6  0.066922  0.943595\n"
     ]
    }
   ],
   "source": [
    "df=pd.merge(df1[['区域','门店','销量']],df2[['门店','上月销售']],how='inner',on='门店')\n",
    "print(df)"
   ]
  },
  {
   "cell_type": "markdown",
   "metadata": {},
   "source": [
    "### 合并的方式left, inner, right，outer。\n",
    "how='inner' 只合并两个DataFrame里面都有行。\n",
    "how='left' 除了含两个表里都有的行，也会将第一个表中独有的行合并。\n",
    "how='right' 除了含两个表里都有的行，也会将第二个表中独有的行合并。\n",
    "how='outer'除了含两个表里都有的行，也会将两个表中独有的行合并。"
   ]
  },
  {
   "cell_type": "code",
   "execution_count": 65,
   "metadata": {},
   "outputs": [
    {
     "name": "stdout",
     "output_type": "stream",
     "text": [
      "    区域   门店        销量      上月销售\n",
      "0  四川A  门店1  0.059436       NaN\n",
      "1  四川A  门店2  0.874946       NaN\n",
      "2  四川B  门店3  0.072384  0.689927\n",
      "3  四川B  门店4  0.284597  0.407408\n",
      "4  四川C  门店5  0.025853  0.068880\n",
      "5  四川C  门店6  0.066922  0.943595\n"
     ]
    }
   ],
   "source": [
    "df=pd.merge(df1[['区域','门店','销量']],df2[['门店','上月销售']],how='left',on='门店')\n",
    "print(df)"
   ]
  },
  {
   "cell_type": "code",
   "execution_count": 66,
   "metadata": {},
   "outputs": [
    {
     "name": "stdout",
     "output_type": "stream",
     "text": [
      "    区域   门店        销量      上月销售\n",
      "0  四川B  门店3  0.072384  0.689927\n",
      "1  四川B  门店4  0.284597  0.407408\n",
      "2  四川C  门店5  0.025853  0.068880\n",
      "3  四川C  门店6  0.066922  0.943595\n",
      "4  NaN  门店7       NaN  0.896747\n",
      "5  NaN  门店8       NaN  0.154836\n"
     ]
    }
   ],
   "source": [
    "df=pd.merge(df1[['区域','门店','销量']],df2[['门店','上月销售']],how='right',on='门店')\n",
    "print(df)"
   ]
  },
  {
   "cell_type": "code",
   "execution_count": 64,
   "metadata": {
    "scrolled": true
   },
   "outputs": [
    {
     "name": "stdout",
     "output_type": "stream",
     "text": [
      "    区域   门店        销量      上月销售\n",
      "0  四川A  门店1  0.059436       NaN\n",
      "1  四川A  门店2  0.874946       NaN\n",
      "2  四川B  门店3  0.072384  0.689927\n",
      "3  四川B  门店4  0.284597  0.407408\n",
      "4  四川C  门店5  0.025853  0.068880\n",
      "5  四川C  门店6  0.066922  0.943595\n",
      "6  NaN  门店7       NaN  0.896747\n",
      "7  NaN  门店8       NaN  0.154836\n"
     ]
    }
   ],
   "source": [
    "df=pd.merge(df1[['区域','门店','销量']],df2[['门店','上月销售']],how='outer',on='门店')\n",
    "print(df)"
   ]
  },
  {
   "cell_type": "markdown",
   "metadata": {},
   "source": [
    "### 以索引作为键合并"
   ]
  },
  {
   "cell_type": "code",
   "execution_count": 68,
   "metadata": {},
   "outputs": [
    {
     "name": "stdout",
     "output_type": "stream",
     "text": [
      "    区域 门店_x        销量 门店_y      上月销售\n",
      "0  四川A  门店1  0.059436  门店3  0.689927\n",
      "1  四川A  门店2  0.874946  门店4  0.407408\n",
      "2  四川B  门店3  0.072384  门店5  0.068880\n",
      "3  四川B  门店4  0.284597  门店6  0.943595\n",
      "4  四川C  门店5  0.025853  门店7  0.896747\n",
      "5  四川C  门店6  0.066922  门店8  0.154836\n"
     ]
    }
   ],
   "source": [
    "df=pd.merge(df1[['区域','门店','销量']],df2[['门店','上月销售']],how='right',right_index=True,left_index=True)\n",
    "print(df)"
   ]
  },
  {
   "cell_type": "code",
   "execution_count": 70,
   "metadata": {},
   "outputs": [
    {
     "name": "stdout",
     "output_type": "stream",
     "text": [
      "    区域   门店        销量      上月销售      _merge\n",
      "0  四川A  门店1  0.059436       NaN   left_only\n",
      "1  四川A  门店2  0.874946       NaN   left_only\n",
      "2  四川B  门店3  0.072384  0.689927        both\n",
      "3  四川B  门店4  0.284597  0.407408        both\n",
      "4  四川C  门店5  0.025853  0.068880        both\n",
      "5  四川C  门店6  0.066922  0.943595        both\n",
      "6  NaN  门店7       NaN  0.896747  right_only\n",
      "7  NaN  门店8       NaN  0.154836  right_only\n"
     ]
    }
   ],
   "source": [
    "df=pd.merge(df1[['区域','门店','销量']],df2[['门店','上月销售']],how='outer',on='门店',indicator=True)\n",
    "print(df)"
   ]
  },
  {
   "cell_type": "markdown",
   "metadata": {},
   "source": [
    "## 简单合并concat()及多数据组一次性匹配合并"
   ]
  },
  {
   "cell_type": "markdown",
   "metadata": {},
   "source": [
    "### 直接简单合并"
   ]
  },
  {
   "cell_type": "code",
   "execution_count": 71,
   "metadata": {},
   "outputs": [
    {
     "name": "stdout",
     "output_type": "stream",
     "text": [
      "       上月销售      人员数量   区域        销量   门店\n",
      "0       NaN  0.805311  四川A  0.059436  门店1\n",
      "1       NaN  0.291768  四川A  0.874946  门店2\n",
      "2       NaN  0.493068  四川B  0.072384  门店3\n",
      "3       NaN  0.354886  四川B  0.284597  门店4\n",
      "4       NaN  0.383879  四川C  0.025853  门店5\n",
      "5       NaN  0.226861  四川C  0.066922  门店6\n",
      "0  0.689927  0.926292  四川B       NaN  门店3\n",
      "1  0.407408  0.595283  四川B       NaN  门店4\n",
      "2  0.068880  0.592748  四川C       NaN  门店5\n",
      "3  0.943595  0.586487  四川C       NaN  门店6\n",
      "4  0.896747  0.942178  四川D       NaN  门店7\n",
      "5  0.154836  0.548522  四川D       NaN  门店8\n"
     ]
    },
    {
     "name": "stderr",
     "output_type": "stream",
     "text": [
      "D:\\anaconda\\lib\\site-packages\\ipykernel_launcher.py:1: FutureWarning: Sorting because non-concatenation axis is not aligned. A future version\n",
      "of pandas will change to not sort by default.\n",
      "\n",
      "To accept the future behavior, pass 'sort=False'.\n",
      "\n",
      "To retain the current behavior and silence the warning, pass 'sort=True'.\n",
      "\n",
      "  \"\"\"Entry point for launching an IPython kernel.\n"
     ]
    }
   ],
   "source": [
    "df=pd.concat([df1,df2])\n",
    "print(df)"
   ]
  },
  {
   "cell_type": "code",
   "execution_count": 73,
   "metadata": {},
   "outputs": [
    {
     "name": "stdout",
     "output_type": "stream",
     "text": [
      "        上月销售      人员数量   区域        销量   门店\n",
      "0        NaN  0.805311  四川A  0.059436  门店1\n",
      "1        NaN  0.291768  四川A  0.874946  门店2\n",
      "2        NaN  0.493068  四川B  0.072384  门店3\n",
      "3        NaN  0.354886  四川B  0.284597  门店4\n",
      "4        NaN  0.383879  四川C  0.025853  门店5\n",
      "5        NaN  0.226861  四川C  0.066922  门店6\n",
      "6   0.689927  0.926292  四川B       NaN  门店3\n",
      "7   0.407408  0.595283  四川B       NaN  门店4\n",
      "8   0.068880  0.592748  四川C       NaN  门店5\n",
      "9   0.943595  0.586487  四川C       NaN  门店6\n",
      "10  0.896747  0.942178  四川D       NaN  门店7\n",
      "11  0.154836  0.548522  四川D       NaN  门店8\n"
     ]
    },
    {
     "name": "stderr",
     "output_type": "stream",
     "text": [
      "D:\\anaconda\\lib\\site-packages\\ipykernel_launcher.py:2: FutureWarning: Sorting because non-concatenation axis is not aligned. A future version\n",
      "of pandas will change to not sort by default.\n",
      "\n",
      "To accept the future behavior, pass 'sort=False'.\n",
      "\n",
      "To retain the current behavior and silence the warning, pass 'sort=True'.\n",
      "\n",
      "  \n"
     ]
    }
   ],
   "source": [
    "#取消原来索引\n",
    "df=pd.concat([df1,df2],ignore_index=True)\n",
    "print(df)"
   ]
  },
  {
   "cell_type": "code",
   "execution_count": 74,
   "metadata": {},
   "outputs": [
    {
     "name": "stdout",
     "output_type": "stream",
     "text": [
      "    区域   门店        销量      人员数量   区域   门店      上月销售      人员数量\n",
      "0  四川A  门店1  0.059436  0.805311  四川B  门店3  0.689927  0.926292\n",
      "1  四川A  门店2  0.874946  0.291768  四川B  门店4  0.407408  0.595283\n",
      "2  四川B  门店3  0.072384  0.493068  四川C  门店5  0.068880  0.592748\n",
      "3  四川B  门店4  0.284597  0.354886  四川C  门店6  0.943595  0.586487\n",
      "4  四川C  门店5  0.025853  0.383879  四川D  门店7  0.896747  0.942178\n",
      "5  四川C  门店6  0.066922  0.226861  四川D  门店8  0.154836  0.548522\n"
     ]
    }
   ],
   "source": [
    "#横向合并\n",
    "df=pd.concat([df1,df2],axis=1)\n",
    "print(df)"
   ]
  },
  {
   "cell_type": "markdown",
   "metadata": {},
   "source": [
    "### 部分合并"
   ]
  },
  {
   "cell_type": "code",
   "execution_count": 76,
   "metadata": {},
   "outputs": [
    {
     "name": "stdout",
     "output_type": "stream",
     "text": [
      "    门店        销量   区域   门店      上月销售      人员数量\n",
      "0  门店1  0.059436  四川B  门店3  0.689927  0.926292\n",
      "1  门店2  0.874946  四川B  门店4  0.407408  0.595283\n",
      "2  门店3  0.072384  四川C  门店5  0.068880  0.592748\n",
      "3  门店4  0.284597  四川C  门店6  0.943595  0.586487\n",
      "4  门店5  0.025853  四川D  门店7  0.896747  0.942178\n",
      "5  门店6  0.066922  四川D  门店8  0.154836  0.548522\n"
     ]
    }
   ],
   "source": [
    "df=pd.concat([df1[['门店','销量']],df2],axis=1)\n",
    "print(df)"
   ]
  },
  {
   "cell_type": "code",
   "execution_count": 77,
   "metadata": {},
   "outputs": [
    {
     "name": "stdout",
     "output_type": "stream",
     "text": [
      "    区域   门店      人员数量\n",
      "0  四川A  门店1  0.805311\n",
      "1  四川A  门店2  0.291768\n",
      "2  四川B  门店3  0.493068\n",
      "3  四川B  门店4  0.354886\n",
      "4  四川C  门店5  0.383879\n",
      "5  四川C  门店6  0.226861\n",
      "0  四川B  门店3  0.926292\n",
      "1  四川B  门店4  0.595283\n",
      "2  四川C  门店5  0.592748\n",
      "3  四川C  门店6  0.586487\n",
      "4  四川D  门店7  0.942178\n",
      "5  四川D  门店8  0.548522\n"
     ]
    }
   ],
   "source": [
    "#找都有的列\n",
    "df=pd.concat([df1,df2],join='inner')\n",
    "print(df)"
   ]
  },
  {
   "cell_type": "code",
   "execution_count": 78,
   "metadata": {},
   "outputs": [
    {
     "name": "stdout",
     "output_type": "stream",
     "text": [
      "                上月销售      人员数量   区域        销量   门店\n",
      "第一组数据df1 0       NaN  0.805311  四川A  0.059436  门店1\n",
      "         1       NaN  0.291768  四川A  0.874946  门店2\n",
      "         2       NaN  0.493068  四川B  0.072384  门店3\n",
      "         3       NaN  0.354886  四川B  0.284597  门店4\n",
      "         4       NaN  0.383879  四川C  0.025853  门店5\n",
      "         5       NaN  0.226861  四川C  0.066922  门店6\n",
      "第二组数据df2 0  0.689927  0.926292  四川B       NaN  门店3\n",
      "         1  0.407408  0.595283  四川B       NaN  门店4\n",
      "         2  0.068880  0.592748  四川C       NaN  门店5\n",
      "         3  0.943595  0.586487  四川C       NaN  门店6\n",
      "         4  0.896747  0.942178  四川D       NaN  门店7\n",
      "         5  0.154836  0.548522  四川D       NaN  门店8\n"
     ]
    },
    {
     "name": "stderr",
     "output_type": "stream",
     "text": [
      "D:\\anaconda\\lib\\site-packages\\ipykernel_launcher.py:2: FutureWarning: Sorting because non-concatenation axis is not aligned. A future version\n",
      "of pandas will change to not sort by default.\n",
      "\n",
      "To accept the future behavior, pass 'sort=False'.\n",
      "\n",
      "To retain the current behavior and silence the warning, pass 'sort=True'.\n",
      "\n",
      "  \n"
     ]
    }
   ],
   "source": [
    "#注明数组来源，贴上标签\n",
    "df=pd.concat([df1,df2],keys=['第一组数据df1','第二组数据df2'])\n",
    "print(df)"
   ]
  },
  {
   "cell_type": "code",
   "execution_count": 82,
   "metadata": {},
   "outputs": [
    {
     "name": "stdout",
     "output_type": "stream",
     "text": [
      "                  上月销售      人员数量   区域        销量   门店\n",
      "数据来源     原索引                                        \n",
      "第一组数据df1 0         NaN  0.805311  四川A  0.059436  门店1\n",
      "         1         NaN  0.291768  四川A  0.874946  门店2\n",
      "         2         NaN  0.493068  四川B  0.072384  门店3\n",
      "         3         NaN  0.354886  四川B  0.284597  门店4\n",
      "         4         NaN  0.383879  四川C  0.025853  门店5\n",
      "         5         NaN  0.226861  四川C  0.066922  门店6\n",
      "第二组数据df2 0    0.689927  0.926292  四川B       NaN  门店3\n",
      "         1    0.407408  0.595283  四川B       NaN  门店4\n",
      "         2    0.068880  0.592748  四川C       NaN  门店5\n",
      "         3    0.943595  0.586487  四川C       NaN  门店6\n",
      "         4    0.896747  0.942178  四川D       NaN  门店7\n",
      "         5    0.154836  0.548522  四川D       NaN  门店8\n"
     ]
    },
    {
     "name": "stderr",
     "output_type": "stream",
     "text": [
      "D:\\anaconda\\lib\\site-packages\\ipykernel_launcher.py:2: FutureWarning: Sorting because non-concatenation axis is not aligned. A future version\n",
      "of pandas will change to not sort by default.\n",
      "\n",
      "To accept the future behavior, pass 'sort=False'.\n",
      "\n",
      "To retain the current behavior and silence the warning, pass 'sort=True'.\n",
      "\n",
      "  \n"
     ]
    }
   ],
   "source": [
    "#给多层索引添加名称\n",
    "df=pd.concat([df1,df2],keys=['第一组数据df1','第二组数据df2'],names=['数据来源','原索引'])\n",
    "print(df)"
   ]
  },
  {
   "cell_type": "markdown",
   "metadata": {},
   "source": [
    "### 多表横向匹配合并"
   ]
  },
  {
   "cell_type": "code",
   "execution_count": 90,
   "metadata": {},
   "outputs": [
    {
     "name": "stdout",
     "output_type": "stream",
     "text": [
      "     上月销售      人员数量   区域        销量\n",
      "门店                                \n",
      "门店1   NaN  0.805311  四川A  0.059436\n",
      "门店2   NaN  0.291768  四川A  0.874946\n",
      "门店3   NaN  0.493068  四川B  0.072384\n",
      "门店4   NaN  0.354886  四川B  0.284597\n",
      "门店5   NaN  0.383879  四川C  0.025853\n"
     ]
    }
   ],
   "source": [
    "df1=df1.head()\n",
    "print(df1)"
   ]
  },
  {
   "cell_type": "code",
   "execution_count": 87,
   "metadata": {},
   "outputs": [
    {
     "name": "stdout",
     "output_type": "stream",
     "text": [
      "      区域      上月销售      人员数量\n",
      "门店                          \n",
      "门店3  四川B  0.689927  0.926292\n",
      "门店4  四川B  0.407408  0.595283\n",
      "门店5  四川C  0.068880  0.592748\n",
      "门店6  四川C  0.943595  0.586487\n",
      "门店7  四川D  0.896747  0.942178\n",
      "门店8  四川D  0.154836  0.548522\n"
     ]
    }
   ],
   "source": [
    "df2=df2.set_index('门店')\n",
    "print(df2)"
   ]
  },
  {
   "cell_type": "code",
   "execution_count": 91,
   "metadata": {
    "scrolled": true
   },
   "outputs": [
    {
     "name": "stdout",
     "output_type": "stream",
     "text": [
      "     df1                           df2                    \n",
      "    上月销售      人员数量   区域        销量   区域      上月销售      人员数量\n",
      "门店                                                        \n",
      "门店3  NaN  0.493068  四川B  0.072384  四川B  0.689927  0.926292\n",
      "门店4  NaN  0.354886  四川B  0.284597  四川B  0.407408  0.595283\n",
      "门店5  NaN  0.383879  四川C  0.025853  四川C  0.068880  0.592748\n"
     ]
    }
   ],
   "source": [
    "df=pd.concat([df1,df2],axis=1,join='inner',keys=['df1','df2'])\n",
    "print(df)"
   ]
  },
  {
   "cell_type": "markdown",
   "metadata": {},
   "source": [
    "## 修改列名和索引rename()"
   ]
  },
  {
   "cell_type": "code",
   "execution_count": 92,
   "metadata": {},
   "outputs": [
    {
     "name": "stdout",
     "output_type": "stream",
     "text": [
      "    区域   门店      上月销售      人员数量\n",
      "0  四川B  门店3  0.689927  0.926292\n",
      "1  四川B  门店4  0.407408  0.595283\n",
      "2  四川C  门店5  0.068880  0.592748\n",
      "3  四川C  门店6  0.943595  0.586487\n",
      "4  四川D  门店7  0.896747  0.942178\n",
      "5  四川D  门店8  0.154836  0.548522\n"
     ]
    }
   ],
   "source": [
    "df=pd.read_excel(r'C:\\Users\\shifeng.tian\\Desktop\\Python学习\\test2.xlsx')\n",
    "print(df)"
   ]
  },
  {
   "cell_type": "markdown",
   "metadata": {},
   "source": [
    "### 修改列名"
   ]
  },
  {
   "cell_type": "code",
   "execution_count": 93,
   "metadata": {},
   "outputs": [
    {
     "name": "stdout",
     "output_type": "stream",
     "text": [
      "    区域   门店      上月销售   10月人员数量\n",
      "0  四川B  门店3  0.689927  0.926292\n",
      "1  四川B  门店4  0.407408  0.595283\n",
      "2  四川C  门店5  0.068880  0.592748\n",
      "3  四川C  门店6  0.943595  0.586487\n",
      "4  四川D  门店7  0.896747  0.942178\n",
      "5  四川D  门店8  0.154836  0.548522\n"
     ]
    }
   ],
   "source": [
    "df=df.rename(columns={'上月销量':'10月销量','人员数量':'10月人员数量'})\n",
    "print(df)"
   ]
  },
  {
   "cell_type": "markdown",
   "metadata": {},
   "source": [
    "### 修改索引名"
   ]
  },
  {
   "cell_type": "code",
   "execution_count": 94,
   "metadata": {},
   "outputs": [
    {
     "name": "stdout",
     "output_type": "stream",
     "text": [
      "    区域   门店      上月销售   10月人员数量\n",
      "0  四川B  门店3  0.689927  0.926292\n",
      "A  四川B  门店4  0.407408  0.595283\n",
      "B  四川C  门店5  0.068880  0.592748\n",
      "3  四川C  门店6  0.943595  0.586487\n",
      "4  四川D  门店7  0.896747  0.942178\n",
      "5  四川D  门店8  0.154836  0.548522\n"
     ]
    }
   ],
   "source": [
    "df=df.rename(index={1:'A',2:'B'})\n",
    "print(df)"
   ]
  },
  {
   "cell_type": "markdown",
   "metadata": {},
   "source": [
    "## 简单运算及groupby()"
   ]
  },
  {
   "cell_type": "markdown",
   "metadata": {},
   "source": [
    "### 对每列求和"
   ]
  },
  {
   "cell_type": "code",
   "execution_count": 99,
   "metadata": {},
   "outputs": [
    {
     "data": {
      "text/plain": [
       "区域         四川B四川B四川C四川C四川D四川D\n",
       "门店         门店3门店4门店5门店6门店7门店8\n",
       "上月销售                  3.16139\n",
       "10月人员数量               4.19151\n",
       "dtype: object"
      ]
     },
     "execution_count": 99,
     "metadata": {},
     "output_type": "execute_result"
    }
   ],
   "source": [
    "df.sum()"
   ]
  },
  {
   "cell_type": "code",
   "execution_count": 100,
   "metadata": {
    "scrolled": true
   },
   "outputs": [
    {
     "data": {
      "text/plain": [
       "上月销售       3.161393\n",
       "10月人员数量    4.191511\n",
       "dtype: float64"
      ]
     },
     "execution_count": 100,
     "metadata": {},
     "output_type": "execute_result"
    }
   ],
   "source": [
    "#跳过非数值的列\n",
    "df.sum(numeric_only=True)"
   ]
  },
  {
   "cell_type": "markdown",
   "metadata": {},
   "source": [
    "如果DataFrame有多层索引，可以添加参数 level='索引层的名称', df.sum(level='索引层名称')就能根据索引层次的数据进行分组运算"
   ]
  },
  {
   "cell_type": "markdown",
   "metadata": {},
   "source": [
    "### 将数据根据指定的列进行分组"
   ]
  },
  {
   "cell_type": "code",
   "execution_count": 104,
   "metadata": {},
   "outputs": [
    {
     "data": {
      "text/html": [
       "<div>\n",
       "<style scoped>\n",
       "    .dataframe tbody tr th:only-of-type {\n",
       "        vertical-align: middle;\n",
       "    }\n",
       "\n",
       "    .dataframe tbody tr th {\n",
       "        vertical-align: top;\n",
       "    }\n",
       "\n",
       "    .dataframe thead th {\n",
       "        text-align: right;\n",
       "    }\n",
       "</style>\n",
       "<table border=\"1\" class=\"dataframe\">\n",
       "  <thead>\n",
       "    <tr style=\"text-align: right;\">\n",
       "      <th></th>\n",
       "      <th>上月销售</th>\n",
       "      <th>10月人员数量</th>\n",
       "    </tr>\n",
       "    <tr>\n",
       "      <th>区域</th>\n",
       "      <th></th>\n",
       "      <th></th>\n",
       "    </tr>\n",
       "  </thead>\n",
       "  <tbody>\n",
       "    <tr>\n",
       "      <th>四川B</th>\n",
       "      <td>1.097335</td>\n",
       "      <td>1.521575</td>\n",
       "    </tr>\n",
       "    <tr>\n",
       "      <th>四川C</th>\n",
       "      <td>1.012475</td>\n",
       "      <td>1.179235</td>\n",
       "    </tr>\n",
       "    <tr>\n",
       "      <th>四川D</th>\n",
       "      <td>1.051583</td>\n",
       "      <td>1.490700</td>\n",
       "    </tr>\n",
       "  </tbody>\n",
       "</table>\n",
       "</div>"
      ],
      "text/plain": [
       "         上月销售   10月人员数量\n",
       "区域                     \n",
       "四川B  1.097335  1.521575\n",
       "四川C  1.012475  1.179235\n",
       "四川D  1.051583  1.490700"
      ]
     },
     "execution_count": 104,
     "metadata": {},
     "output_type": "execute_result"
    }
   ],
   "source": [
    "df.groupby(by='区域').sum()"
   ]
  },
  {
   "cell_type": "code",
   "execution_count": 105,
   "metadata": {},
   "outputs": [
    {
     "data": {
      "text/html": [
       "<div>\n",
       "<style scoped>\n",
       "    .dataframe tbody tr th:only-of-type {\n",
       "        vertical-align: middle;\n",
       "    }\n",
       "\n",
       "    .dataframe tbody tr th {\n",
       "        vertical-align: top;\n",
       "    }\n",
       "\n",
       "    .dataframe thead th {\n",
       "        text-align: right;\n",
       "    }\n",
       "</style>\n",
       "<table border=\"1\" class=\"dataframe\">\n",
       "  <thead>\n",
       "    <tr style=\"text-align: right;\">\n",
       "      <th></th>\n",
       "      <th>门店</th>\n",
       "      <th>上月销售</th>\n",
       "      <th>10月人员数量</th>\n",
       "    </tr>\n",
       "    <tr>\n",
       "      <th>区域</th>\n",
       "      <th></th>\n",
       "      <th></th>\n",
       "      <th></th>\n",
       "    </tr>\n",
       "  </thead>\n",
       "  <tbody>\n",
       "    <tr>\n",
       "      <th>四川B</th>\n",
       "      <td>2</td>\n",
       "      <td>2</td>\n",
       "      <td>2</td>\n",
       "    </tr>\n",
       "    <tr>\n",
       "      <th>四川C</th>\n",
       "      <td>2</td>\n",
       "      <td>2</td>\n",
       "      <td>2</td>\n",
       "    </tr>\n",
       "    <tr>\n",
       "      <th>四川D</th>\n",
       "      <td>2</td>\n",
       "      <td>2</td>\n",
       "      <td>2</td>\n",
       "    </tr>\n",
       "  </tbody>\n",
       "</table>\n",
       "</div>"
      ],
      "text/plain": [
       "     门店  上月销售  10月人员数量\n",
       "区域                    \n",
       "四川B   2     2        2\n",
       "四川C   2     2        2\n",
       "四川D   2     2        2"
      ]
     },
     "execution_count": 105,
     "metadata": {},
     "output_type": "execute_result"
    }
   ],
   "source": [
    "df.groupby(by='区域').count()"
   ]
  },
  {
   "cell_type": "code",
   "execution_count": 111,
   "metadata": {},
   "outputs": [
    {
     "data": {
      "text/html": [
       "<div>\n",
       "<style scoped>\n",
       "    .dataframe tbody tr th:only-of-type {\n",
       "        vertical-align: middle;\n",
       "    }\n",
       "\n",
       "    .dataframe tbody tr th {\n",
       "        vertical-align: top;\n",
       "    }\n",
       "\n",
       "    .dataframe thead th {\n",
       "        text-align: right;\n",
       "    }\n",
       "</style>\n",
       "<table border=\"1\" class=\"dataframe\">\n",
       "  <thead>\n",
       "    <tr style=\"text-align: right;\">\n",
       "      <th></th>\n",
       "      <th>销售合计</th>\n",
       "      <th>人员合计</th>\n",
       "    </tr>\n",
       "    <tr>\n",
       "      <th>区域</th>\n",
       "      <th></th>\n",
       "      <th></th>\n",
       "    </tr>\n",
       "  </thead>\n",
       "  <tbody>\n",
       "    <tr>\n",
       "      <th>四川B</th>\n",
       "      <td>1.097335</td>\n",
       "      <td>1.521575</td>\n",
       "    </tr>\n",
       "    <tr>\n",
       "      <th>四川C</th>\n",
       "      <td>1.012475</td>\n",
       "      <td>1.179235</td>\n",
       "    </tr>\n",
       "    <tr>\n",
       "      <th>四川D</th>\n",
       "      <td>1.051583</td>\n",
       "      <td>1.490700</td>\n",
       "    </tr>\n",
       "  </tbody>\n",
       "</table>\n",
       "</div>"
      ],
      "text/plain": [
       "         销售合计      人员合计\n",
       "区域                     \n",
       "四川B  1.097335  1.521575\n",
       "四川C  1.012475  1.179235\n",
       "四川D  1.051583  1.490700"
      ]
     },
     "execution_count": 111,
     "metadata": {},
     "output_type": "execute_result"
    }
   ],
   "source": [
    "df2=df.groupby(by='区域').sum()\n",
    "df2=df2.rename(columns={'上月销售':'销售合计','10月人员数量':'人员合计'})\n",
    "df2"
   ]
  },
  {
   "cell_type": "code",
   "execution_count": 113,
   "metadata": {
    "scrolled": true
   },
   "outputs": [
    {
     "data": {
      "text/html": [
       "<div>\n",
       "<style scoped>\n",
       "    .dataframe tbody tr th:only-of-type {\n",
       "        vertical-align: middle;\n",
       "    }\n",
       "\n",
       "    .dataframe tbody tr th {\n",
       "        vertical-align: top;\n",
       "    }\n",
       "\n",
       "    .dataframe thead th {\n",
       "        text-align: right;\n",
       "    }\n",
       "</style>\n",
       "<table border=\"1\" class=\"dataframe\">\n",
       "  <thead>\n",
       "    <tr style=\"text-align: right;\">\n",
       "      <th></th>\n",
       "      <th>平均销售</th>\n",
       "      <th>平均人员数量</th>\n",
       "    </tr>\n",
       "    <tr>\n",
       "      <th>区域</th>\n",
       "      <th></th>\n",
       "      <th></th>\n",
       "    </tr>\n",
       "  </thead>\n",
       "  <tbody>\n",
       "    <tr>\n",
       "      <th>四川B</th>\n",
       "      <td>0.548667</td>\n",
       "      <td>0.760788</td>\n",
       "    </tr>\n",
       "    <tr>\n",
       "      <th>四川C</th>\n",
       "      <td>0.506237</td>\n",
       "      <td>0.589618</td>\n",
       "    </tr>\n",
       "    <tr>\n",
       "      <th>四川D</th>\n",
       "      <td>0.525791</td>\n",
       "      <td>0.745350</td>\n",
       "    </tr>\n",
       "  </tbody>\n",
       "</table>\n",
       "</div>"
      ],
      "text/plain": [
       "         平均销售    平均人员数量\n",
       "区域                     \n",
       "四川B  0.548667  0.760788\n",
       "四川C  0.506237  0.589618\n",
       "四川D  0.525791  0.745350"
      ]
     },
     "execution_count": 113,
     "metadata": {},
     "output_type": "execute_result"
    }
   ],
   "source": [
    "df3=df.groupby(by='区域').mean().rename(columns={'上月销售':'平均销售','10月人员数量':'平均人员数量'})\n",
    "df3"
   ]
  },
  {
   "cell_type": "code",
   "execution_count": 114,
   "metadata": {},
   "outputs": [
    {
     "data": {
      "text/html": [
       "<div>\n",
       "<style scoped>\n",
       "    .dataframe tbody tr th:only-of-type {\n",
       "        vertical-align: middle;\n",
       "    }\n",
       "\n",
       "    .dataframe tbody tr th {\n",
       "        vertical-align: top;\n",
       "    }\n",
       "\n",
       "    .dataframe thead th {\n",
       "        text-align: right;\n",
       "    }\n",
       "</style>\n",
       "<table border=\"1\" class=\"dataframe\">\n",
       "  <thead>\n",
       "    <tr style=\"text-align: right;\">\n",
       "      <th></th>\n",
       "      <th>销售合计</th>\n",
       "      <th>人员合计</th>\n",
       "      <th>平均销售</th>\n",
       "      <th>平均人员数量</th>\n",
       "    </tr>\n",
       "    <tr>\n",
       "      <th>区域</th>\n",
       "      <th></th>\n",
       "      <th></th>\n",
       "      <th></th>\n",
       "      <th></th>\n",
       "    </tr>\n",
       "  </thead>\n",
       "  <tbody>\n",
       "    <tr>\n",
       "      <th>四川B</th>\n",
       "      <td>1.097335</td>\n",
       "      <td>1.521575</td>\n",
       "      <td>0.548667</td>\n",
       "      <td>0.760788</td>\n",
       "    </tr>\n",
       "    <tr>\n",
       "      <th>四川C</th>\n",
       "      <td>1.012475</td>\n",
       "      <td>1.179235</td>\n",
       "      <td>0.506237</td>\n",
       "      <td>0.589618</td>\n",
       "    </tr>\n",
       "    <tr>\n",
       "      <th>四川D</th>\n",
       "      <td>1.051583</td>\n",
       "      <td>1.490700</td>\n",
       "      <td>0.525791</td>\n",
       "      <td>0.745350</td>\n",
       "    </tr>\n",
       "  </tbody>\n",
       "</table>\n",
       "</div>"
      ],
      "text/plain": [
       "         销售合计      人员合计      平均销售    平均人员数量\n",
       "区域                                         \n",
       "四川B  1.097335  1.521575  0.548667  0.760788\n",
       "四川C  1.012475  1.179235  0.506237  0.589618\n",
       "四川D  1.051583  1.490700  0.525791  0.745350"
      ]
     },
     "execution_count": 114,
     "metadata": {},
     "output_type": "execute_result"
    }
   ],
   "source": [
    "#合并\n",
    "pd.merge(df2,df3,left_index=True,right_index=True)\n"
   ]
  },
  {
   "cell_type": "markdown",
   "metadata": {},
   "source": [
    "## 透视表pivot_table"
   ]
  },
  {
   "cell_type": "code",
   "execution_count": 3,
   "metadata": {},
   "outputs": [
    {
     "data": {
      "text/html": [
       "<div>\n",
       "<style scoped>\n",
       "    .dataframe tbody tr th:only-of-type {\n",
       "        vertical-align: middle;\n",
       "    }\n",
       "\n",
       "    .dataframe tbody tr th {\n",
       "        vertical-align: top;\n",
       "    }\n",
       "\n",
       "    .dataframe thead th {\n",
       "        text-align: right;\n",
       "    }\n",
       "</style>\n",
       "<table border=\"1\" class=\"dataframe\">\n",
       "  <thead>\n",
       "    <tr style=\"text-align: right;\">\n",
       "      <th></th>\n",
       "      <th>区域</th>\n",
       "      <th>门店</th>\n",
       "      <th>产品</th>\n",
       "      <th>销售</th>\n",
       "      <th>人员数量</th>\n",
       "    </tr>\n",
       "  </thead>\n",
       "  <tbody>\n",
       "    <tr>\n",
       "      <th>0</th>\n",
       "      <td>四川A</td>\n",
       "      <td>门店1</td>\n",
       "      <td>产品1</td>\n",
       "      <td>0.728537</td>\n",
       "      <td>0.945129</td>\n",
       "    </tr>\n",
       "    <tr>\n",
       "      <th>1</th>\n",
       "      <td>四川A</td>\n",
       "      <td>门店1</td>\n",
       "      <td>产品2</td>\n",
       "      <td>0.516077</td>\n",
       "      <td>0.858616</td>\n",
       "    </tr>\n",
       "    <tr>\n",
       "      <th>2</th>\n",
       "      <td>四川A</td>\n",
       "      <td>门店2</td>\n",
       "      <td>产品1</td>\n",
       "      <td>0.008290</td>\n",
       "      <td>0.307723</td>\n",
       "    </tr>\n",
       "    <tr>\n",
       "      <th>3</th>\n",
       "      <td>四川A</td>\n",
       "      <td>门店2</td>\n",
       "      <td>产品2</td>\n",
       "      <td>0.690966</td>\n",
       "      <td>0.309242</td>\n",
       "    </tr>\n",
       "    <tr>\n",
       "      <th>4</th>\n",
       "      <td>四川B</td>\n",
       "      <td>门店1</td>\n",
       "      <td>产品1</td>\n",
       "      <td>0.772821</td>\n",
       "      <td>0.426638</td>\n",
       "    </tr>\n",
       "    <tr>\n",
       "      <th>5</th>\n",
       "      <td>四川B</td>\n",
       "      <td>门店1</td>\n",
       "      <td>产品2</td>\n",
       "      <td>0.223006</td>\n",
       "      <td>0.176738</td>\n",
       "    </tr>\n",
       "    <tr>\n",
       "      <th>6</th>\n",
       "      <td>四川B</td>\n",
       "      <td>门店2</td>\n",
       "      <td>产品1</td>\n",
       "      <td>0.541728</td>\n",
       "      <td>0.756716</td>\n",
       "    </tr>\n",
       "    <tr>\n",
       "      <th>7</th>\n",
       "      <td>四川B</td>\n",
       "      <td>门店2</td>\n",
       "      <td>产品2</td>\n",
       "      <td>0.522602</td>\n",
       "      <td>0.393496</td>\n",
       "    </tr>\n",
       "    <tr>\n",
       "      <th>8</th>\n",
       "      <td>四川C</td>\n",
       "      <td>门店1</td>\n",
       "      <td>产品1</td>\n",
       "      <td>0.856656</td>\n",
       "      <td>0.333277</td>\n",
       "    </tr>\n",
       "    <tr>\n",
       "      <th>9</th>\n",
       "      <td>四川C</td>\n",
       "      <td>门店1</td>\n",
       "      <td>产品2</td>\n",
       "      <td>0.410003</td>\n",
       "      <td>0.537979</td>\n",
       "    </tr>\n",
       "    <tr>\n",
       "      <th>10</th>\n",
       "      <td>四川C</td>\n",
       "      <td>门店2</td>\n",
       "      <td>产品1</td>\n",
       "      <td>0.961074</td>\n",
       "      <td>0.314425</td>\n",
       "    </tr>\n",
       "    <tr>\n",
       "      <th>11</th>\n",
       "      <td>四川C</td>\n",
       "      <td>门店2</td>\n",
       "      <td>产品2</td>\n",
       "      <td>0.998688</td>\n",
       "      <td>0.665639</td>\n",
       "    </tr>\n",
       "  </tbody>\n",
       "</table>\n",
       "</div>"
      ],
      "text/plain": [
       "     区域   门店   产品        销售      人员数量\n",
       "0   四川A  门店1  产品1  0.728537  0.945129\n",
       "1   四川A  门店1  产品2  0.516077  0.858616\n",
       "2   四川A  门店2  产品1  0.008290  0.307723\n",
       "3   四川A  门店2  产品2  0.690966  0.309242\n",
       "4   四川B  门店1  产品1  0.772821  0.426638\n",
       "5   四川B  门店1  产品2  0.223006  0.176738\n",
       "6   四川B  门店2  产品1  0.541728  0.756716\n",
       "7   四川B  门店2  产品2  0.522602  0.393496\n",
       "8   四川C  门店1  产品1  0.856656  0.333277\n",
       "9   四川C  门店1  产品2  0.410003  0.537979\n",
       "10  四川C  门店2  产品1  0.961074  0.314425\n",
       "11  四川C  门店2  产品2  0.998688  0.665639"
      ]
     },
     "execution_count": 3,
     "metadata": {},
     "output_type": "execute_result"
    }
   ],
   "source": [
    "df=pd.read_excel(r'C:\\Users\\shifeng.tian\\Desktop\\Python学习\\test2.xlsx')\n",
    "df"
   ]
  },
  {
   "cell_type": "markdown",
   "metadata": {},
   "source": [
    "### 生成透视表"
   ]
  },
  {
   "cell_type": "code",
   "execution_count": 4,
   "metadata": {},
   "outputs": [
    {
     "data": {
      "text/html": [
       "<div>\n",
       "<style scoped>\n",
       "    .dataframe tbody tr th:only-of-type {\n",
       "        vertical-align: middle;\n",
       "    }\n",
       "\n",
       "    .dataframe tbody tr th {\n",
       "        vertical-align: top;\n",
       "    }\n",
       "\n",
       "    .dataframe thead tr th {\n",
       "        text-align: left;\n",
       "    }\n",
       "\n",
       "    .dataframe thead tr:last-of-type th {\n",
       "        text-align: right;\n",
       "    }\n",
       "</style>\n",
       "<table border=\"1\" class=\"dataframe\">\n",
       "  <thead>\n",
       "    <tr>\n",
       "      <th></th>\n",
       "      <th></th>\n",
       "      <th colspan=\"2\" halign=\"left\">人员数量</th>\n",
       "      <th colspan=\"2\" halign=\"left\">销售</th>\n",
       "    </tr>\n",
       "    <tr>\n",
       "      <th></th>\n",
       "      <th>产品</th>\n",
       "      <th>产品1</th>\n",
       "      <th>产品2</th>\n",
       "      <th>产品1</th>\n",
       "      <th>产品2</th>\n",
       "    </tr>\n",
       "    <tr>\n",
       "      <th>区域</th>\n",
       "      <th>门店</th>\n",
       "      <th></th>\n",
       "      <th></th>\n",
       "      <th></th>\n",
       "      <th></th>\n",
       "    </tr>\n",
       "  </thead>\n",
       "  <tbody>\n",
       "    <tr>\n",
       "      <th rowspan=\"2\" valign=\"top\">四川A</th>\n",
       "      <th>门店1</th>\n",
       "      <td>0.945129</td>\n",
       "      <td>0.858616</td>\n",
       "      <td>0.728537</td>\n",
       "      <td>0.516077</td>\n",
       "    </tr>\n",
       "    <tr>\n",
       "      <th>门店2</th>\n",
       "      <td>0.307723</td>\n",
       "      <td>0.309242</td>\n",
       "      <td>0.008290</td>\n",
       "      <td>0.690966</td>\n",
       "    </tr>\n",
       "    <tr>\n",
       "      <th rowspan=\"2\" valign=\"top\">四川B</th>\n",
       "      <th>门店1</th>\n",
       "      <td>0.426638</td>\n",
       "      <td>0.176738</td>\n",
       "      <td>0.772821</td>\n",
       "      <td>0.223006</td>\n",
       "    </tr>\n",
       "    <tr>\n",
       "      <th>门店2</th>\n",
       "      <td>0.756716</td>\n",
       "      <td>0.393496</td>\n",
       "      <td>0.541728</td>\n",
       "      <td>0.522602</td>\n",
       "    </tr>\n",
       "    <tr>\n",
       "      <th rowspan=\"2\" valign=\"top\">四川C</th>\n",
       "      <th>门店1</th>\n",
       "      <td>0.333277</td>\n",
       "      <td>0.537979</td>\n",
       "      <td>0.856656</td>\n",
       "      <td>0.410003</td>\n",
       "    </tr>\n",
       "    <tr>\n",
       "      <th>门店2</th>\n",
       "      <td>0.314425</td>\n",
       "      <td>0.665639</td>\n",
       "      <td>0.961074</td>\n",
       "      <td>0.998688</td>\n",
       "    </tr>\n",
       "  </tbody>\n",
       "</table>\n",
       "</div>"
      ],
      "text/plain": [
       "             人员数量                  销售          \n",
       "产品            产品1       产品2       产品1       产品2\n",
       "区域  门店                                         \n",
       "四川A 门店1  0.945129  0.858616  0.728537  0.516077\n",
       "    门店2  0.307723  0.309242  0.008290  0.690966\n",
       "四川B 门店1  0.426638  0.176738  0.772821  0.223006\n",
       "    门店2  0.756716  0.393496  0.541728  0.522602\n",
       "四川C 门店1  0.333277  0.537979  0.856656  0.410003\n",
       "    门店2  0.314425  0.665639  0.961074  0.998688"
      ]
     },
     "execution_count": 4,
     "metadata": {},
     "output_type": "execute_result"
    }
   ],
   "source": [
    "pd.pivot_table(df,values=['销售','人员数量'],index=['区域','门店'],columns='产品',aggfunc='sum')"
   ]
  },
  {
   "cell_type": "markdown",
   "metadata": {},
   "source": [
    "### 不同列用不同算法"
   ]
  },
  {
   "cell_type": "code",
   "execution_count": 6,
   "metadata": {},
   "outputs": [
    {
     "data": {
      "text/html": [
       "<div>\n",
       "<style scoped>\n",
       "    .dataframe tbody tr th:only-of-type {\n",
       "        vertical-align: middle;\n",
       "    }\n",
       "\n",
       "    .dataframe tbody tr th {\n",
       "        vertical-align: top;\n",
       "    }\n",
       "\n",
       "    .dataframe thead tr th {\n",
       "        text-align: left;\n",
       "    }\n",
       "\n",
       "    .dataframe thead tr:last-of-type th {\n",
       "        text-align: right;\n",
       "    }\n",
       "</style>\n",
       "<table border=\"1\" class=\"dataframe\">\n",
       "  <thead>\n",
       "    <tr>\n",
       "      <th></th>\n",
       "      <th></th>\n",
       "      <th colspan=\"2\" halign=\"left\">人员数量</th>\n",
       "      <th colspan=\"2\" halign=\"left\">销售</th>\n",
       "    </tr>\n",
       "    <tr>\n",
       "      <th></th>\n",
       "      <th>产品</th>\n",
       "      <th>产品1</th>\n",
       "      <th>产品2</th>\n",
       "      <th>产品1</th>\n",
       "      <th>产品2</th>\n",
       "    </tr>\n",
       "    <tr>\n",
       "      <th>区域</th>\n",
       "      <th>门店</th>\n",
       "      <th></th>\n",
       "      <th></th>\n",
       "      <th></th>\n",
       "      <th></th>\n",
       "    </tr>\n",
       "  </thead>\n",
       "  <tbody>\n",
       "    <tr>\n",
       "      <th rowspan=\"2\" valign=\"top\">四川A</th>\n",
       "      <th>门店1</th>\n",
       "      <td>1</td>\n",
       "      <td>1</td>\n",
       "      <td>0.728537</td>\n",
       "      <td>0.516077</td>\n",
       "    </tr>\n",
       "    <tr>\n",
       "      <th>门店2</th>\n",
       "      <td>1</td>\n",
       "      <td>1</td>\n",
       "      <td>0.008290</td>\n",
       "      <td>0.690966</td>\n",
       "    </tr>\n",
       "    <tr>\n",
       "      <th rowspan=\"2\" valign=\"top\">四川B</th>\n",
       "      <th>门店1</th>\n",
       "      <td>1</td>\n",
       "      <td>1</td>\n",
       "      <td>0.772821</td>\n",
       "      <td>0.223006</td>\n",
       "    </tr>\n",
       "    <tr>\n",
       "      <th>门店2</th>\n",
       "      <td>1</td>\n",
       "      <td>1</td>\n",
       "      <td>0.541728</td>\n",
       "      <td>0.522602</td>\n",
       "    </tr>\n",
       "    <tr>\n",
       "      <th rowspan=\"2\" valign=\"top\">四川C</th>\n",
       "      <th>门店1</th>\n",
       "      <td>1</td>\n",
       "      <td>1</td>\n",
       "      <td>0.856656</td>\n",
       "      <td>0.410003</td>\n",
       "    </tr>\n",
       "    <tr>\n",
       "      <th>门店2</th>\n",
       "      <td>1</td>\n",
       "      <td>1</td>\n",
       "      <td>0.961074</td>\n",
       "      <td>0.998688</td>\n",
       "    </tr>\n",
       "  </tbody>\n",
       "</table>\n",
       "</div>"
      ],
      "text/plain": [
       "        人员数量            销售          \n",
       "产品       产品1 产品2       产品1       产品2\n",
       "区域  门店                              \n",
       "四川A 门店1    1   1  0.728537  0.516077\n",
       "    门店2    1   1  0.008290  0.690966\n",
       "四川B 门店1    1   1  0.772821  0.223006\n",
       "    门店2    1   1  0.541728  0.522602\n",
       "四川C 门店1    1   1  0.856656  0.410003\n",
       "    门店2    1   1  0.961074  0.998688"
      ]
     },
     "execution_count": 6,
     "metadata": {},
     "output_type": "execute_result"
    }
   ],
   "source": [
    "pd.pivot_table(df,values=['销售','人员数量'],index=['区域','门店'],columns='产品',aggfunc={'销售':'sum','人员数量':'count'})"
   ]
  },
  {
   "cell_type": "markdown",
   "metadata": {},
   "source": [
    "### 添加合计"
   ]
  },
  {
   "cell_type": "code",
   "execution_count": 7,
   "metadata": {},
   "outputs": [
    {
     "data": {
      "text/html": [
       "<div>\n",
       "<style scoped>\n",
       "    .dataframe tbody tr th:only-of-type {\n",
       "        vertical-align: middle;\n",
       "    }\n",
       "\n",
       "    .dataframe tbody tr th {\n",
       "        vertical-align: top;\n",
       "    }\n",
       "\n",
       "    .dataframe thead tr th {\n",
       "        text-align: left;\n",
       "    }\n",
       "\n",
       "    .dataframe thead tr:last-of-type th {\n",
       "        text-align: right;\n",
       "    }\n",
       "</style>\n",
       "<table border=\"1\" class=\"dataframe\">\n",
       "  <thead>\n",
       "    <tr>\n",
       "      <th></th>\n",
       "      <th></th>\n",
       "      <th colspan=\"3\" halign=\"left\">人员数量</th>\n",
       "      <th colspan=\"3\" halign=\"left\">销售</th>\n",
       "    </tr>\n",
       "    <tr>\n",
       "      <th></th>\n",
       "      <th>产品</th>\n",
       "      <th>产品1</th>\n",
       "      <th>产品2</th>\n",
       "      <th>总计</th>\n",
       "      <th>产品1</th>\n",
       "      <th>产品2</th>\n",
       "      <th>总计</th>\n",
       "    </tr>\n",
       "    <tr>\n",
       "      <th>区域</th>\n",
       "      <th>门店</th>\n",
       "      <th></th>\n",
       "      <th></th>\n",
       "      <th></th>\n",
       "      <th></th>\n",
       "      <th></th>\n",
       "      <th></th>\n",
       "    </tr>\n",
       "  </thead>\n",
       "  <tbody>\n",
       "    <tr>\n",
       "      <th rowspan=\"2\" valign=\"top\">四川A</th>\n",
       "      <th>门店1</th>\n",
       "      <td>1</td>\n",
       "      <td>1</td>\n",
       "      <td>2</td>\n",
       "      <td>0.728537</td>\n",
       "      <td>0.516077</td>\n",
       "      <td>1.244614</td>\n",
       "    </tr>\n",
       "    <tr>\n",
       "      <th>门店2</th>\n",
       "      <td>1</td>\n",
       "      <td>1</td>\n",
       "      <td>2</td>\n",
       "      <td>0.008290</td>\n",
       "      <td>0.690966</td>\n",
       "      <td>0.699256</td>\n",
       "    </tr>\n",
       "    <tr>\n",
       "      <th rowspan=\"2\" valign=\"top\">四川B</th>\n",
       "      <th>门店1</th>\n",
       "      <td>1</td>\n",
       "      <td>1</td>\n",
       "      <td>2</td>\n",
       "      <td>0.772821</td>\n",
       "      <td>0.223006</td>\n",
       "      <td>0.995828</td>\n",
       "    </tr>\n",
       "    <tr>\n",
       "      <th>门店2</th>\n",
       "      <td>1</td>\n",
       "      <td>1</td>\n",
       "      <td>2</td>\n",
       "      <td>0.541728</td>\n",
       "      <td>0.522602</td>\n",
       "      <td>1.064329</td>\n",
       "    </tr>\n",
       "    <tr>\n",
       "      <th rowspan=\"2\" valign=\"top\">四川C</th>\n",
       "      <th>门店1</th>\n",
       "      <td>1</td>\n",
       "      <td>1</td>\n",
       "      <td>2</td>\n",
       "      <td>0.856656</td>\n",
       "      <td>0.410003</td>\n",
       "      <td>1.266658</td>\n",
       "    </tr>\n",
       "    <tr>\n",
       "      <th>门店2</th>\n",
       "      <td>1</td>\n",
       "      <td>1</td>\n",
       "      <td>2</td>\n",
       "      <td>0.961074</td>\n",
       "      <td>0.998688</td>\n",
       "      <td>1.959762</td>\n",
       "    </tr>\n",
       "    <tr>\n",
       "      <th>总计</th>\n",
       "      <th></th>\n",
       "      <td>6</td>\n",
       "      <td>6</td>\n",
       "      <td>12</td>\n",
       "      <td>3.869106</td>\n",
       "      <td>3.361341</td>\n",
       "      <td>7.230447</td>\n",
       "    </tr>\n",
       "  </tbody>\n",
       "</table>\n",
       "</div>"
      ],
      "text/plain": [
       "        人员数量                销售                    \n",
       "产品       产品1 产品2  总计       产品1       产品2        总计\n",
       "区域  门店                                            \n",
       "四川A 门店1    1   1   2  0.728537  0.516077  1.244614\n",
       "    门店2    1   1   2  0.008290  0.690966  0.699256\n",
       "四川B 门店1    1   1   2  0.772821  0.223006  0.995828\n",
       "    门店2    1   1   2  0.541728  0.522602  1.064329\n",
       "四川C 门店1    1   1   2  0.856656  0.410003  1.266658\n",
       "    门店2    1   1   2  0.961074  0.998688  1.959762\n",
       "总计         6   6  12  3.869106  3.361341  7.230447"
      ]
     },
     "execution_count": 7,
     "metadata": {},
     "output_type": "execute_result"
    }
   ],
   "source": [
    "pd.pivot_table(df,values=['销售','人员数量'],index=['区域','门店'],columns='产品',aggfunc={'销售':'sum','人员数量':'count'},margins=True,\n",
    "              margins_name='总计')"
   ]
  },
  {
   "cell_type": "markdown",
   "metadata": {},
   "source": [
    "## nlargest()分组取最大多行并求和"
   ]
  },
  {
   "cell_type": "code",
   "execution_count": 8,
   "metadata": {},
   "outputs": [
    {
     "data": {
      "text/html": [
       "<div>\n",
       "<style scoped>\n",
       "    .dataframe tbody tr th:only-of-type {\n",
       "        vertical-align: middle;\n",
       "    }\n",
       "\n",
       "    .dataframe tbody tr th {\n",
       "        vertical-align: top;\n",
       "    }\n",
       "\n",
       "    .dataframe thead th {\n",
       "        text-align: right;\n",
       "    }\n",
       "</style>\n",
       "<table border=\"1\" class=\"dataframe\">\n",
       "  <thead>\n",
       "    <tr style=\"text-align: right;\">\n",
       "      <th></th>\n",
       "      <th>区域</th>\n",
       "      <th>门店</th>\n",
       "      <th>产品</th>\n",
       "      <th>销售</th>\n",
       "      <th>人员数量</th>\n",
       "    </tr>\n",
       "  </thead>\n",
       "  <tbody>\n",
       "    <tr>\n",
       "      <th>0</th>\n",
       "      <td>四川A</td>\n",
       "      <td>门店1</td>\n",
       "      <td>产品1</td>\n",
       "      <td>0.728537</td>\n",
       "      <td>0.945129</td>\n",
       "    </tr>\n",
       "    <tr>\n",
       "      <th>1</th>\n",
       "      <td>四川A</td>\n",
       "      <td>门店1</td>\n",
       "      <td>产品2</td>\n",
       "      <td>0.516077</td>\n",
       "      <td>0.858616</td>\n",
       "    </tr>\n",
       "    <tr>\n",
       "      <th>2</th>\n",
       "      <td>四川A</td>\n",
       "      <td>门店2</td>\n",
       "      <td>产品1</td>\n",
       "      <td>0.008290</td>\n",
       "      <td>0.307723</td>\n",
       "    </tr>\n",
       "    <tr>\n",
       "      <th>3</th>\n",
       "      <td>四川A</td>\n",
       "      <td>门店2</td>\n",
       "      <td>产品2</td>\n",
       "      <td>0.690966</td>\n",
       "      <td>0.309242</td>\n",
       "    </tr>\n",
       "    <tr>\n",
       "      <th>4</th>\n",
       "      <td>四川B</td>\n",
       "      <td>门店1</td>\n",
       "      <td>产品1</td>\n",
       "      <td>0.772821</td>\n",
       "      <td>0.426638</td>\n",
       "    </tr>\n",
       "    <tr>\n",
       "      <th>5</th>\n",
       "      <td>四川B</td>\n",
       "      <td>门店1</td>\n",
       "      <td>产品2</td>\n",
       "      <td>0.223006</td>\n",
       "      <td>0.176738</td>\n",
       "    </tr>\n",
       "    <tr>\n",
       "      <th>6</th>\n",
       "      <td>四川B</td>\n",
       "      <td>门店2</td>\n",
       "      <td>产品1</td>\n",
       "      <td>0.541728</td>\n",
       "      <td>0.756716</td>\n",
       "    </tr>\n",
       "    <tr>\n",
       "      <th>7</th>\n",
       "      <td>四川B</td>\n",
       "      <td>门店2</td>\n",
       "      <td>产品2</td>\n",
       "      <td>0.522602</td>\n",
       "      <td>0.393496</td>\n",
       "    </tr>\n",
       "    <tr>\n",
       "      <th>8</th>\n",
       "      <td>四川C</td>\n",
       "      <td>门店1</td>\n",
       "      <td>产品1</td>\n",
       "      <td>0.856656</td>\n",
       "      <td>0.333277</td>\n",
       "    </tr>\n",
       "    <tr>\n",
       "      <th>9</th>\n",
       "      <td>四川C</td>\n",
       "      <td>门店1</td>\n",
       "      <td>产品2</td>\n",
       "      <td>0.410003</td>\n",
       "      <td>0.537979</td>\n",
       "    </tr>\n",
       "    <tr>\n",
       "      <th>10</th>\n",
       "      <td>四川C</td>\n",
       "      <td>门店2</td>\n",
       "      <td>产品1</td>\n",
       "      <td>0.961074</td>\n",
       "      <td>0.314425</td>\n",
       "    </tr>\n",
       "    <tr>\n",
       "      <th>11</th>\n",
       "      <td>四川C</td>\n",
       "      <td>门店2</td>\n",
       "      <td>产品2</td>\n",
       "      <td>0.998688</td>\n",
       "      <td>0.665639</td>\n",
       "    </tr>\n",
       "  </tbody>\n",
       "</table>\n",
       "</div>"
      ],
      "text/plain": [
       "     区域   门店   产品        销售      人员数量\n",
       "0   四川A  门店1  产品1  0.728537  0.945129\n",
       "1   四川A  门店1  产品2  0.516077  0.858616\n",
       "2   四川A  门店2  产品1  0.008290  0.307723\n",
       "3   四川A  门店2  产品2  0.690966  0.309242\n",
       "4   四川B  门店1  产品1  0.772821  0.426638\n",
       "5   四川B  门店1  产品2  0.223006  0.176738\n",
       "6   四川B  门店2  产品1  0.541728  0.756716\n",
       "7   四川B  门店2  产品2  0.522602  0.393496\n",
       "8   四川C  门店1  产品1  0.856656  0.333277\n",
       "9   四川C  门店1  产品2  0.410003  0.537979\n",
       "10  四川C  门店2  产品1  0.961074  0.314425\n",
       "11  四川C  门店2  产品2  0.998688  0.665639"
      ]
     },
     "execution_count": 8,
     "metadata": {},
     "output_type": "execute_result"
    }
   ],
   "source": [
    "df"
   ]
  },
  {
   "cell_type": "markdown",
   "metadata": {},
   "source": [
    "### 查看单列排名"
   ]
  },
  {
   "cell_type": "code",
   "execution_count": 9,
   "metadata": {},
   "outputs": [
    {
     "data": {
      "text/html": [
       "<div>\n",
       "<style scoped>\n",
       "    .dataframe tbody tr th:only-of-type {\n",
       "        vertical-align: middle;\n",
       "    }\n",
       "\n",
       "    .dataframe tbody tr th {\n",
       "        vertical-align: top;\n",
       "    }\n",
       "\n",
       "    .dataframe thead th {\n",
       "        text-align: right;\n",
       "    }\n",
       "</style>\n",
       "<table border=\"1\" class=\"dataframe\">\n",
       "  <thead>\n",
       "    <tr style=\"text-align: right;\">\n",
       "      <th></th>\n",
       "      <th>区域</th>\n",
       "      <th>门店</th>\n",
       "      <th>产品</th>\n",
       "      <th>销售</th>\n",
       "      <th>人员数量</th>\n",
       "    </tr>\n",
       "  </thead>\n",
       "  <tbody>\n",
       "    <tr>\n",
       "      <th>11</th>\n",
       "      <td>四川C</td>\n",
       "      <td>门店2</td>\n",
       "      <td>产品2</td>\n",
       "      <td>0.998688</td>\n",
       "      <td>0.665639</td>\n",
       "    </tr>\n",
       "    <tr>\n",
       "      <th>10</th>\n",
       "      <td>四川C</td>\n",
       "      <td>门店2</td>\n",
       "      <td>产品1</td>\n",
       "      <td>0.961074</td>\n",
       "      <td>0.314425</td>\n",
       "    </tr>\n",
       "    <tr>\n",
       "      <th>8</th>\n",
       "      <td>四川C</td>\n",
       "      <td>门店1</td>\n",
       "      <td>产品1</td>\n",
       "      <td>0.856656</td>\n",
       "      <td>0.333277</td>\n",
       "    </tr>\n",
       "  </tbody>\n",
       "</table>\n",
       "</div>"
      ],
      "text/plain": [
       "     区域   门店   产品        销售      人员数量\n",
       "11  四川C  门店2  产品2  0.998688  0.665639\n",
       "10  四川C  门店2  产品1  0.961074  0.314425\n",
       "8   四川C  门店1  产品1  0.856656  0.333277"
      ]
     },
     "execution_count": 9,
     "metadata": {},
     "output_type": "execute_result"
    }
   ],
   "source": [
    "#查看总体销售前3的\n",
    "df.nlargest(3,'销售')\n",
    "#不需要排序，也可以排序后用head"
   ]
  },
  {
   "cell_type": "markdown",
   "metadata": {},
   "source": [
    "### 分组找最大的"
   ]
  },
  {
   "cell_type": "code",
   "execution_count": 10,
   "metadata": {},
   "outputs": [
    {
     "data": {
      "text/html": [
       "<div>\n",
       "<style scoped>\n",
       "    .dataframe tbody tr th:only-of-type {\n",
       "        vertical-align: middle;\n",
       "    }\n",
       "\n",
       "    .dataframe tbody tr th {\n",
       "        vertical-align: top;\n",
       "    }\n",
       "\n",
       "    .dataframe thead th {\n",
       "        text-align: right;\n",
       "    }\n",
       "</style>\n",
       "<table border=\"1\" class=\"dataframe\">\n",
       "  <thead>\n",
       "    <tr style=\"text-align: right;\">\n",
       "      <th></th>\n",
       "      <th>门店</th>\n",
       "      <th>产品</th>\n",
       "      <th>销售</th>\n",
       "      <th>人员数量</th>\n",
       "    </tr>\n",
       "    <tr>\n",
       "      <th>区域</th>\n",
       "      <th></th>\n",
       "      <th></th>\n",
       "      <th></th>\n",
       "      <th></th>\n",
       "    </tr>\n",
       "  </thead>\n",
       "  <tbody>\n",
       "    <tr>\n",
       "      <th>四川A</th>\n",
       "      <td>门店2</td>\n",
       "      <td>产品2</td>\n",
       "      <td>0.728537</td>\n",
       "      <td>0.945129</td>\n",
       "    </tr>\n",
       "    <tr>\n",
       "      <th>四川B</th>\n",
       "      <td>门店2</td>\n",
       "      <td>产品2</td>\n",
       "      <td>0.772821</td>\n",
       "      <td>0.756716</td>\n",
       "    </tr>\n",
       "    <tr>\n",
       "      <th>四川C</th>\n",
       "      <td>门店2</td>\n",
       "      <td>产品2</td>\n",
       "      <td>0.998688</td>\n",
       "      <td>0.665639</td>\n",
       "    </tr>\n",
       "  </tbody>\n",
       "</table>\n",
       "</div>"
      ],
      "text/plain": [
       "      门店   产品        销售      人员数量\n",
       "区域                               \n",
       "四川A  门店2  产品2  0.728537  0.945129\n",
       "四川B  门店2  产品2  0.772821  0.756716\n",
       "四川C  门店2  产品2  0.998688  0.665639"
      ]
     },
     "execution_count": 10,
     "metadata": {},
     "output_type": "execute_result"
    }
   ],
   "source": [
    "df.groupby(by='区域').max()"
   ]
  },
  {
   "cell_type": "markdown",
   "metadata": {},
   "source": [
    "### 分组找前三名"
   ]
  },
  {
   "cell_type": "code",
   "execution_count": 13,
   "metadata": {
    "scrolled": true
   },
   "outputs": [
    {
     "data": {
      "text/html": [
       "<div>\n",
       "<style scoped>\n",
       "    .dataframe tbody tr th:only-of-type {\n",
       "        vertical-align: middle;\n",
       "    }\n",
       "\n",
       "    .dataframe tbody tr th {\n",
       "        vertical-align: top;\n",
       "    }\n",
       "\n",
       "    .dataframe thead th {\n",
       "        text-align: right;\n",
       "    }\n",
       "</style>\n",
       "<table border=\"1\" class=\"dataframe\">\n",
       "  <thead>\n",
       "    <tr style=\"text-align: right;\">\n",
       "      <th></th>\n",
       "      <th></th>\n",
       "      <th>区域</th>\n",
       "      <th>门店</th>\n",
       "      <th>产品</th>\n",
       "      <th>销售</th>\n",
       "      <th>人员数量</th>\n",
       "    </tr>\n",
       "    <tr>\n",
       "      <th>区域</th>\n",
       "      <th></th>\n",
       "      <th></th>\n",
       "      <th></th>\n",
       "      <th></th>\n",
       "      <th></th>\n",
       "      <th></th>\n",
       "    </tr>\n",
       "  </thead>\n",
       "  <tbody>\n",
       "    <tr>\n",
       "      <th rowspan=\"3\" valign=\"top\">四川A</th>\n",
       "      <th>0</th>\n",
       "      <td>四川A</td>\n",
       "      <td>门店1</td>\n",
       "      <td>产品1</td>\n",
       "      <td>0.728537</td>\n",
       "      <td>0.945129</td>\n",
       "    </tr>\n",
       "    <tr>\n",
       "      <th>3</th>\n",
       "      <td>四川A</td>\n",
       "      <td>门店2</td>\n",
       "      <td>产品2</td>\n",
       "      <td>0.690966</td>\n",
       "      <td>0.309242</td>\n",
       "    </tr>\n",
       "    <tr>\n",
       "      <th>1</th>\n",
       "      <td>四川A</td>\n",
       "      <td>门店1</td>\n",
       "      <td>产品2</td>\n",
       "      <td>0.516077</td>\n",
       "      <td>0.858616</td>\n",
       "    </tr>\n",
       "    <tr>\n",
       "      <th rowspan=\"3\" valign=\"top\">四川B</th>\n",
       "      <th>4</th>\n",
       "      <td>四川B</td>\n",
       "      <td>门店1</td>\n",
       "      <td>产品1</td>\n",
       "      <td>0.772821</td>\n",
       "      <td>0.426638</td>\n",
       "    </tr>\n",
       "    <tr>\n",
       "      <th>6</th>\n",
       "      <td>四川B</td>\n",
       "      <td>门店2</td>\n",
       "      <td>产品1</td>\n",
       "      <td>0.541728</td>\n",
       "      <td>0.756716</td>\n",
       "    </tr>\n",
       "    <tr>\n",
       "      <th>7</th>\n",
       "      <td>四川B</td>\n",
       "      <td>门店2</td>\n",
       "      <td>产品2</td>\n",
       "      <td>0.522602</td>\n",
       "      <td>0.393496</td>\n",
       "    </tr>\n",
       "    <tr>\n",
       "      <th rowspan=\"3\" valign=\"top\">四川C</th>\n",
       "      <th>11</th>\n",
       "      <td>四川C</td>\n",
       "      <td>门店2</td>\n",
       "      <td>产品2</td>\n",
       "      <td>0.998688</td>\n",
       "      <td>0.665639</td>\n",
       "    </tr>\n",
       "    <tr>\n",
       "      <th>10</th>\n",
       "      <td>四川C</td>\n",
       "      <td>门店2</td>\n",
       "      <td>产品1</td>\n",
       "      <td>0.961074</td>\n",
       "      <td>0.314425</td>\n",
       "    </tr>\n",
       "    <tr>\n",
       "      <th>8</th>\n",
       "      <td>四川C</td>\n",
       "      <td>门店1</td>\n",
       "      <td>产品1</td>\n",
       "      <td>0.856656</td>\n",
       "      <td>0.333277</td>\n",
       "    </tr>\n",
       "  </tbody>\n",
       "</table>\n",
       "</div>"
      ],
      "text/plain": [
       "         区域   门店   产品        销售      人员数量\n",
       "区域                                       \n",
       "四川A 0   四川A  门店1  产品1  0.728537  0.945129\n",
       "    3   四川A  门店2  产品2  0.690966  0.309242\n",
       "    1   四川A  门店1  产品2  0.516077  0.858616\n",
       "四川B 4   四川B  门店1  产品1  0.772821  0.426638\n",
       "    6   四川B  门店2  产品1  0.541728  0.756716\n",
       "    7   四川B  门店2  产品2  0.522602  0.393496\n",
       "四川C 11  四川C  门店2  产品2  0.998688  0.665639\n",
       "    10  四川C  门店2  产品1  0.961074  0.314425\n",
       "    8   四川C  门店1  产品1  0.856656  0.333277"
      ]
     },
     "execution_count": 13,
     "metadata": {},
     "output_type": "execute_result"
    }
   ],
   "source": [
    "df.groupby(by='区域').apply(lambda x:x.nlargest(3,'销售'))"
   ]
  },
  {
   "cell_type": "markdown",
   "metadata": {},
   "source": [
    "### 分组找前三的和"
   ]
  },
  {
   "cell_type": "code",
   "execution_count": 23,
   "metadata": {},
   "outputs": [
    {
     "data": {
      "text/html": [
       "<div>\n",
       "<style scoped>\n",
       "    .dataframe tbody tr th:only-of-type {\n",
       "        vertical-align: middle;\n",
       "    }\n",
       "\n",
       "    .dataframe tbody tr th {\n",
       "        vertical-align: top;\n",
       "    }\n",
       "\n",
       "    .dataframe thead th {\n",
       "        text-align: right;\n",
       "    }\n",
       "</style>\n",
       "<table border=\"1\" class=\"dataframe\">\n",
       "  <thead>\n",
       "    <tr style=\"text-align: right;\">\n",
       "      <th></th>\n",
       "      <th>销售</th>\n",
       "      <th>人员数量</th>\n",
       "    </tr>\n",
       "    <tr>\n",
       "      <th>区域</th>\n",
       "      <th></th>\n",
       "      <th></th>\n",
       "    </tr>\n",
       "  </thead>\n",
       "  <tbody>\n",
       "    <tr>\n",
       "      <th>四川A</th>\n",
       "      <td>1.935580</td>\n",
       "      <td>2.112987</td>\n",
       "    </tr>\n",
       "    <tr>\n",
       "      <th>四川B</th>\n",
       "      <td>1.837150</td>\n",
       "      <td>1.576850</td>\n",
       "    </tr>\n",
       "    <tr>\n",
       "      <th>四川C</th>\n",
       "      <td>2.816417</td>\n",
       "      <td>1.313340</td>\n",
       "    </tr>\n",
       "  </tbody>\n",
       "</table>\n",
       "</div>"
      ],
      "text/plain": [
       "           销售      人员数量\n",
       "区域                     \n",
       "四川A  1.935580  2.112987\n",
       "四川B  1.837150  1.576850\n",
       "四川C  2.816417  1.313340"
      ]
     },
     "execution_count": 23,
     "metadata": {},
     "output_type": "execute_result"
    }
   ],
   "source": [
    " df.groupby(by='区域').apply(lambda x:x.nlargest(3,'销售')).sum(level='区域')"
   ]
  },
  {
   "cell_type": "markdown",
   "metadata": {},
   "source": [
    "## 函数应用apply()和applymap()"
   ]
  },
  {
   "cell_type": "markdown",
   "metadata": {},
   "source": [
    "apply()是对DataFrame里的每行或列进行函数应用。\n",
    "\n",
    "applymap()是对DataFrame里的每个元素进行函数应用。\n",
    "\n",
    "map()是对Series里（就是单独一列）的每个元素进行函数应用。"
   ]
  },
  {
   "cell_type": "code",
   "execution_count": 24,
   "metadata": {},
   "outputs": [
    {
     "data": {
      "text/html": [
       "<div>\n",
       "<style scoped>\n",
       "    .dataframe tbody tr th:only-of-type {\n",
       "        vertical-align: middle;\n",
       "    }\n",
       "\n",
       "    .dataframe tbody tr th {\n",
       "        vertical-align: top;\n",
       "    }\n",
       "\n",
       "    .dataframe thead th {\n",
       "        text-align: right;\n",
       "    }\n",
       "</style>\n",
       "<table border=\"1\" class=\"dataframe\">\n",
       "  <thead>\n",
       "    <tr style=\"text-align: right;\">\n",
       "      <th></th>\n",
       "      <th>区域</th>\n",
       "      <th>门店</th>\n",
       "      <th>产品</th>\n",
       "      <th>销售</th>\n",
       "      <th>人员数量</th>\n",
       "    </tr>\n",
       "  </thead>\n",
       "  <tbody>\n",
       "    <tr>\n",
       "      <th>0</th>\n",
       "      <td>四川A</td>\n",
       "      <td>门店1</td>\n",
       "      <td>产品1</td>\n",
       "      <td>0.728537</td>\n",
       "      <td>0.945129</td>\n",
       "    </tr>\n",
       "    <tr>\n",
       "      <th>1</th>\n",
       "      <td>四川A</td>\n",
       "      <td>门店1</td>\n",
       "      <td>产品2</td>\n",
       "      <td>0.516077</td>\n",
       "      <td>0.858616</td>\n",
       "    </tr>\n",
       "    <tr>\n",
       "      <th>2</th>\n",
       "      <td>四川A</td>\n",
       "      <td>门店2</td>\n",
       "      <td>产品1</td>\n",
       "      <td>0.008290</td>\n",
       "      <td>0.307723</td>\n",
       "    </tr>\n",
       "    <tr>\n",
       "      <th>3</th>\n",
       "      <td>四川A</td>\n",
       "      <td>门店2</td>\n",
       "      <td>产品2</td>\n",
       "      <td>0.690966</td>\n",
       "      <td>0.309242</td>\n",
       "    </tr>\n",
       "    <tr>\n",
       "      <th>4</th>\n",
       "      <td>四川B</td>\n",
       "      <td>门店1</td>\n",
       "      <td>产品1</td>\n",
       "      <td>0.772821</td>\n",
       "      <td>0.426638</td>\n",
       "    </tr>\n",
       "    <tr>\n",
       "      <th>5</th>\n",
       "      <td>四川B</td>\n",
       "      <td>门店1</td>\n",
       "      <td>产品2</td>\n",
       "      <td>0.223006</td>\n",
       "      <td>0.176738</td>\n",
       "    </tr>\n",
       "    <tr>\n",
       "      <th>6</th>\n",
       "      <td>四川B</td>\n",
       "      <td>门店2</td>\n",
       "      <td>产品1</td>\n",
       "      <td>0.541728</td>\n",
       "      <td>0.756716</td>\n",
       "    </tr>\n",
       "    <tr>\n",
       "      <th>7</th>\n",
       "      <td>四川B</td>\n",
       "      <td>门店2</td>\n",
       "      <td>产品2</td>\n",
       "      <td>0.522602</td>\n",
       "      <td>0.393496</td>\n",
       "    </tr>\n",
       "    <tr>\n",
       "      <th>8</th>\n",
       "      <td>四川C</td>\n",
       "      <td>门店1</td>\n",
       "      <td>产品1</td>\n",
       "      <td>0.856656</td>\n",
       "      <td>0.333277</td>\n",
       "    </tr>\n",
       "    <tr>\n",
       "      <th>9</th>\n",
       "      <td>四川C</td>\n",
       "      <td>门店1</td>\n",
       "      <td>产品2</td>\n",
       "      <td>0.410003</td>\n",
       "      <td>0.537979</td>\n",
       "    </tr>\n",
       "    <tr>\n",
       "      <th>10</th>\n",
       "      <td>四川C</td>\n",
       "      <td>门店2</td>\n",
       "      <td>产品1</td>\n",
       "      <td>0.961074</td>\n",
       "      <td>0.314425</td>\n",
       "    </tr>\n",
       "    <tr>\n",
       "      <th>11</th>\n",
       "      <td>四川C</td>\n",
       "      <td>门店2</td>\n",
       "      <td>产品2</td>\n",
       "      <td>0.998688</td>\n",
       "      <td>0.665639</td>\n",
       "    </tr>\n",
       "  </tbody>\n",
       "</table>\n",
       "</div>"
      ],
      "text/plain": [
       "     区域   门店   产品        销售      人员数量\n",
       "0   四川A  门店1  产品1  0.728537  0.945129\n",
       "1   四川A  门店1  产品2  0.516077  0.858616\n",
       "2   四川A  门店2  产品1  0.008290  0.307723\n",
       "3   四川A  门店2  产品2  0.690966  0.309242\n",
       "4   四川B  门店1  产品1  0.772821  0.426638\n",
       "5   四川B  门店1  产品2  0.223006  0.176738\n",
       "6   四川B  门店2  产品1  0.541728  0.756716\n",
       "7   四川B  门店2  产品2  0.522602  0.393496\n",
       "8   四川C  门店1  产品1  0.856656  0.333277\n",
       "9   四川C  门店1  产品2  0.410003  0.537979\n",
       "10  四川C  门店2  产品1  0.961074  0.314425\n",
       "11  四川C  门店2  产品2  0.998688  0.665639"
      ]
     },
     "execution_count": 24,
     "metadata": {},
     "output_type": "execute_result"
    }
   ],
   "source": [
    "df"
   ]
  },
  {
   "cell_type": "markdown",
   "metadata": {},
   "source": [
    "### 用.applymap()修改小数位数"
   ]
  },
  {
   "cell_type": "code",
   "execution_count": 25,
   "metadata": {
    "scrolled": false
   },
   "outputs": [
    {
     "data": {
      "text/html": [
       "<div>\n",
       "<style scoped>\n",
       "    .dataframe tbody tr th:only-of-type {\n",
       "        vertical-align: middle;\n",
       "    }\n",
       "\n",
       "    .dataframe tbody tr th {\n",
       "        vertical-align: top;\n",
       "    }\n",
       "\n",
       "    .dataframe thead th {\n",
       "        text-align: right;\n",
       "    }\n",
       "</style>\n",
       "<table border=\"1\" class=\"dataframe\">\n",
       "  <thead>\n",
       "    <tr style=\"text-align: right;\">\n",
       "      <th></th>\n",
       "      <th>销售</th>\n",
       "      <th>人员数量</th>\n",
       "    </tr>\n",
       "  </thead>\n",
       "  <tbody>\n",
       "    <tr>\n",
       "      <th>0</th>\n",
       "      <td>0.73</td>\n",
       "      <td>0.95</td>\n",
       "    </tr>\n",
       "    <tr>\n",
       "      <th>1</th>\n",
       "      <td>0.52</td>\n",
       "      <td>0.86</td>\n",
       "    </tr>\n",
       "    <tr>\n",
       "      <th>2</th>\n",
       "      <td>0.01</td>\n",
       "      <td>0.31</td>\n",
       "    </tr>\n",
       "    <tr>\n",
       "      <th>3</th>\n",
       "      <td>0.69</td>\n",
       "      <td>0.31</td>\n",
       "    </tr>\n",
       "    <tr>\n",
       "      <th>4</th>\n",
       "      <td>0.77</td>\n",
       "      <td>0.43</td>\n",
       "    </tr>\n",
       "    <tr>\n",
       "      <th>5</th>\n",
       "      <td>0.22</td>\n",
       "      <td>0.18</td>\n",
       "    </tr>\n",
       "    <tr>\n",
       "      <th>6</th>\n",
       "      <td>0.54</td>\n",
       "      <td>0.76</td>\n",
       "    </tr>\n",
       "    <tr>\n",
       "      <th>7</th>\n",
       "      <td>0.52</td>\n",
       "      <td>0.39</td>\n",
       "    </tr>\n",
       "    <tr>\n",
       "      <th>8</th>\n",
       "      <td>0.86</td>\n",
       "      <td>0.33</td>\n",
       "    </tr>\n",
       "    <tr>\n",
       "      <th>9</th>\n",
       "      <td>0.41</td>\n",
       "      <td>0.54</td>\n",
       "    </tr>\n",
       "    <tr>\n",
       "      <th>10</th>\n",
       "      <td>0.96</td>\n",
       "      <td>0.31</td>\n",
       "    </tr>\n",
       "    <tr>\n",
       "      <th>11</th>\n",
       "      <td>1.00</td>\n",
       "      <td>0.67</td>\n",
       "    </tr>\n",
       "  </tbody>\n",
       "</table>\n",
       "</div>"
      ],
      "text/plain": [
       "      销售  人员数量\n",
       "0   0.73  0.95\n",
       "1   0.52  0.86\n",
       "2   0.01  0.31\n",
       "3   0.69  0.31\n",
       "4   0.77  0.43\n",
       "5   0.22  0.18\n",
       "6   0.54  0.76\n",
       "7   0.52  0.39\n",
       "8   0.86  0.33\n",
       "9   0.41  0.54\n",
       "10  0.96  0.31\n",
       "11  1.00  0.67"
      ]
     },
     "execution_count": 25,
     "metadata": {},
     "output_type": "execute_result"
    }
   ],
   "source": [
    "df[['销售','人员数量']].applymap(lambda x:'%.2f'%x)"
   ]
  },
  {
   "cell_type": "markdown",
   "metadata": {},
   "source": [
    "### 定义函数（lambda不能重复应用）"
   ]
  },
  {
   "cell_type": "code",
   "execution_count": 28,
   "metadata": {},
   "outputs": [],
   "source": [
    "def get_sum(x):\n",
    "    try:\n",
    "        return sum(x)\n",
    "    except:\n",
    "        return '总计'"
   ]
  },
  {
   "cell_type": "code",
   "execution_count": 29,
   "metadata": {
    "scrolled": false
   },
   "outputs": [
    {
     "data": {
      "text/html": [
       "<div>\n",
       "<style scoped>\n",
       "    .dataframe tbody tr th:only-of-type {\n",
       "        vertical-align: middle;\n",
       "    }\n",
       "\n",
       "    .dataframe tbody tr th {\n",
       "        vertical-align: top;\n",
       "    }\n",
       "\n",
       "    .dataframe thead th {\n",
       "        text-align: right;\n",
       "    }\n",
       "</style>\n",
       "<table border=\"1\" class=\"dataframe\">\n",
       "  <thead>\n",
       "    <tr style=\"text-align: right;\">\n",
       "      <th></th>\n",
       "      <th>区域</th>\n",
       "      <th>门店</th>\n",
       "      <th>产品</th>\n",
       "      <th>销售</th>\n",
       "      <th>人员数量</th>\n",
       "    </tr>\n",
       "  </thead>\n",
       "  <tbody>\n",
       "    <tr>\n",
       "      <th>0</th>\n",
       "      <td>四川A</td>\n",
       "      <td>门店1</td>\n",
       "      <td>产品1</td>\n",
       "      <td>0.728537</td>\n",
       "      <td>0.945129</td>\n",
       "    </tr>\n",
       "    <tr>\n",
       "      <th>1</th>\n",
       "      <td>四川A</td>\n",
       "      <td>门店1</td>\n",
       "      <td>产品2</td>\n",
       "      <td>0.516077</td>\n",
       "      <td>0.858616</td>\n",
       "    </tr>\n",
       "    <tr>\n",
       "      <th>2</th>\n",
       "      <td>四川A</td>\n",
       "      <td>门店2</td>\n",
       "      <td>产品1</td>\n",
       "      <td>0.008290</td>\n",
       "      <td>0.307723</td>\n",
       "    </tr>\n",
       "    <tr>\n",
       "      <th>3</th>\n",
       "      <td>四川A</td>\n",
       "      <td>门店2</td>\n",
       "      <td>产品2</td>\n",
       "      <td>0.690966</td>\n",
       "      <td>0.309242</td>\n",
       "    </tr>\n",
       "    <tr>\n",
       "      <th>4</th>\n",
       "      <td>四川B</td>\n",
       "      <td>门店1</td>\n",
       "      <td>产品1</td>\n",
       "      <td>0.772821</td>\n",
       "      <td>0.426638</td>\n",
       "    </tr>\n",
       "    <tr>\n",
       "      <th>5</th>\n",
       "      <td>四川B</td>\n",
       "      <td>门店1</td>\n",
       "      <td>产品2</td>\n",
       "      <td>0.223006</td>\n",
       "      <td>0.176738</td>\n",
       "    </tr>\n",
       "    <tr>\n",
       "      <th>6</th>\n",
       "      <td>四川B</td>\n",
       "      <td>门店2</td>\n",
       "      <td>产品1</td>\n",
       "      <td>0.541728</td>\n",
       "      <td>0.756716</td>\n",
       "    </tr>\n",
       "    <tr>\n",
       "      <th>7</th>\n",
       "      <td>四川B</td>\n",
       "      <td>门店2</td>\n",
       "      <td>产品2</td>\n",
       "      <td>0.522602</td>\n",
       "      <td>0.393496</td>\n",
       "    </tr>\n",
       "    <tr>\n",
       "      <th>8</th>\n",
       "      <td>四川C</td>\n",
       "      <td>门店1</td>\n",
       "      <td>产品1</td>\n",
       "      <td>0.856656</td>\n",
       "      <td>0.333277</td>\n",
       "    </tr>\n",
       "    <tr>\n",
       "      <th>9</th>\n",
       "      <td>四川C</td>\n",
       "      <td>门店1</td>\n",
       "      <td>产品2</td>\n",
       "      <td>0.410003</td>\n",
       "      <td>0.537979</td>\n",
       "    </tr>\n",
       "    <tr>\n",
       "      <th>10</th>\n",
       "      <td>四川C</td>\n",
       "      <td>门店2</td>\n",
       "      <td>产品1</td>\n",
       "      <td>0.961074</td>\n",
       "      <td>0.314425</td>\n",
       "    </tr>\n",
       "    <tr>\n",
       "      <th>11</th>\n",
       "      <td>四川C</td>\n",
       "      <td>门店2</td>\n",
       "      <td>产品2</td>\n",
       "      <td>0.998688</td>\n",
       "      <td>0.665639</td>\n",
       "    </tr>\n",
       "    <tr>\n",
       "      <th>12</th>\n",
       "      <td>总计</td>\n",
       "      <td>总计</td>\n",
       "      <td>总计</td>\n",
       "      <td>7.230447</td>\n",
       "      <td>6.025618</td>\n",
       "    </tr>\n",
       "  </tbody>\n",
       "</table>\n",
       "</div>"
      ],
      "text/plain": [
       "     区域   门店   产品        销售      人员数量\n",
       "0   四川A  门店1  产品1  0.728537  0.945129\n",
       "1   四川A  门店1  产品2  0.516077  0.858616\n",
       "2   四川A  门店2  产品1  0.008290  0.307723\n",
       "3   四川A  门店2  产品2  0.690966  0.309242\n",
       "4   四川B  门店1  产品1  0.772821  0.426638\n",
       "5   四川B  门店1  产品2  0.223006  0.176738\n",
       "6   四川B  门店2  产品1  0.541728  0.756716\n",
       "7   四川B  门店2  产品2  0.522602  0.393496\n",
       "8   四川C  门店1  产品1  0.856656  0.333277\n",
       "9   四川C  门店1  产品2  0.410003  0.537979\n",
       "10  四川C  门店2  产品1  0.961074  0.314425\n",
       "11  四川C  门店2  产品2  0.998688  0.665639\n",
       "12   总计   总计   总计  7.230447  6.025618"
      ]
     },
     "execution_count": 29,
     "metadata": {},
     "output_type": "execute_result"
    }
   ],
   "source": [
    "df.loc[12]=df.apply(get_sum)\n",
    "df"
   ]
  },
  {
   "cell_type": "markdown",
   "metadata": {},
   "source": [
    "## 分列 str.split() 切片及str.extract()"
   ]
  },
  {
   "cell_type": "markdown",
   "metadata": {},
   "source": [
    "### 分列 str.split()"
   ]
  },
  {
   "cell_type": "code",
   "execution_count": 36,
   "metadata": {},
   "outputs": [],
   "source": [
    "import pandas as pd\n",
    "from pandas import DataFrame\n",
    "import numpy as np"
   ]
  },
  {
   "cell_type": "code",
   "execution_count": 37,
   "metadata": {},
   "outputs": [
    {
     "data": {
      "text/html": [
       "<div>\n",
       "<style scoped>\n",
       "    .dataframe tbody tr th:only-of-type {\n",
       "        vertical-align: middle;\n",
       "    }\n",
       "\n",
       "    .dataframe tbody tr th {\n",
       "        vertical-align: top;\n",
       "    }\n",
       "\n",
       "    .dataframe thead th {\n",
       "        text-align: right;\n",
       "    }\n",
       "</style>\n",
       "<table border=\"1\" class=\"dataframe\">\n",
       "  <thead>\n",
       "    <tr style=\"text-align: right;\">\n",
       "      <th></th>\n",
       "      <th>柜台号</th>\n",
       "      <th>柜台名称</th>\n",
       "      <th>区域</th>\n",
       "      <th>10月销售</th>\n",
       "      <th>9月销售</th>\n",
       "    </tr>\n",
       "  </thead>\n",
       "  <tbody>\n",
       "    <tr>\n",
       "      <th>0</th>\n",
       "      <td>AAA 025</td>\n",
       "      <td>四川-A店</td>\n",
       "      <td>四川</td>\n",
       "      <td>0.215078</td>\n",
       "      <td>0.039083</td>\n",
       "    </tr>\n",
       "    <tr>\n",
       "      <th>1</th>\n",
       "      <td>AAA 026</td>\n",
       "      <td>四川-B店</td>\n",
       "      <td>重庆</td>\n",
       "      <td>0.751797</td>\n",
       "      <td>0.033516</td>\n",
       "    </tr>\n",
       "    <tr>\n",
       "      <th>2</th>\n",
       "      <td>AAA 027</td>\n",
       "      <td>四川-C店</td>\n",
       "      <td>四川</td>\n",
       "      <td>0.524014</td>\n",
       "      <td>0.791630</td>\n",
       "    </tr>\n",
       "    <tr>\n",
       "      <th>3</th>\n",
       "      <td>BBB 036</td>\n",
       "      <td>重庆-A店</td>\n",
       "      <td>重庆</td>\n",
       "      <td>0.487578</td>\n",
       "      <td>0.562120</td>\n",
       "    </tr>\n",
       "    <tr>\n",
       "      <th>4</th>\n",
       "      <td>BBB 037</td>\n",
       "      <td>重庆-B店</td>\n",
       "      <td>云南</td>\n",
       "      <td>0.916536</td>\n",
       "      <td>0.050265</td>\n",
       "    </tr>\n",
       "    <tr>\n",
       "      <th>5</th>\n",
       "      <td>BBB 038</td>\n",
       "      <td>重庆-C店</td>\n",
       "      <td>重庆</td>\n",
       "      <td>0.610875</td>\n",
       "      <td>0.203620</td>\n",
       "    </tr>\n",
       "  </tbody>\n",
       "</table>\n",
       "</div>"
      ],
      "text/plain": [
       "       柜台号   柜台名称  区域     10月销售      9月销售\n",
       "0  AAA 025  四川-A店  四川  0.215078  0.039083\n",
       "1  AAA 026  四川-B店  重庆  0.751797  0.033516\n",
       "2  AAA 027  四川-C店  四川  0.524014  0.791630\n",
       "3  BBB 036  重庆-A店  重庆  0.487578  0.562120\n",
       "4  BBB 037  重庆-B店  云南  0.916536  0.050265\n",
       "5  BBB 038  重庆-C店  重庆  0.610875  0.203620"
      ]
     },
     "execution_count": 37,
     "metadata": {},
     "output_type": "execute_result"
    }
   ],
   "source": [
    "df=pd.read_excel(r'C:\\Users\\shifeng.tian\\Desktop\\Python学习\\test2.xlsx')\n",
    "df"
   ]
  },
  {
   "cell_type": "code",
   "execution_count": 38,
   "metadata": {},
   "outputs": [
    {
     "data": {
      "text/html": [
       "<div>\n",
       "<style scoped>\n",
       "    .dataframe tbody tr th:only-of-type {\n",
       "        vertical-align: middle;\n",
       "    }\n",
       "\n",
       "    .dataframe tbody tr th {\n",
       "        vertical-align: top;\n",
       "    }\n",
       "\n",
       "    .dataframe thead th {\n",
       "        text-align: right;\n",
       "    }\n",
       "</style>\n",
       "<table border=\"1\" class=\"dataframe\">\n",
       "  <thead>\n",
       "    <tr style=\"text-align: right;\">\n",
       "      <th></th>\n",
       "      <th>0</th>\n",
       "      <th>1</th>\n",
       "    </tr>\n",
       "  </thead>\n",
       "  <tbody>\n",
       "    <tr>\n",
       "      <th>0</th>\n",
       "      <td>四川</td>\n",
       "      <td>A店</td>\n",
       "    </tr>\n",
       "    <tr>\n",
       "      <th>1</th>\n",
       "      <td>四川</td>\n",
       "      <td>B店</td>\n",
       "    </tr>\n",
       "    <tr>\n",
       "      <th>2</th>\n",
       "      <td>四川</td>\n",
       "      <td>C店</td>\n",
       "    </tr>\n",
       "    <tr>\n",
       "      <th>3</th>\n",
       "      <td>重庆</td>\n",
       "      <td>A店</td>\n",
       "    </tr>\n",
       "    <tr>\n",
       "      <th>4</th>\n",
       "      <td>重庆</td>\n",
       "      <td>B店</td>\n",
       "    </tr>\n",
       "    <tr>\n",
       "      <th>5</th>\n",
       "      <td>重庆</td>\n",
       "      <td>C店</td>\n",
       "    </tr>\n",
       "  </tbody>\n",
       "</table>\n",
       "</div>"
      ],
      "text/plain": [
       "    0   1\n",
       "0  四川  A店\n",
       "1  四川  B店\n",
       "2  四川  C店\n",
       "3  重庆  A店\n",
       "4  重庆  B店\n",
       "5  重庆  C店"
      ]
     },
     "execution_count": 38,
     "metadata": {},
     "output_type": "execute_result"
    }
   ],
   "source": [
    "df['柜台名称'].str.split('-',expand=True)"
   ]
  },
  {
   "cell_type": "code",
   "execution_count": 39,
   "metadata": {},
   "outputs": [
    {
     "data": {
      "text/html": [
       "<div>\n",
       "<style scoped>\n",
       "    .dataframe tbody tr th:only-of-type {\n",
       "        vertical-align: middle;\n",
       "    }\n",
       "\n",
       "    .dataframe tbody tr th {\n",
       "        vertical-align: top;\n",
       "    }\n",
       "\n",
       "    .dataframe thead th {\n",
       "        text-align: right;\n",
       "    }\n",
       "</style>\n",
       "<table border=\"1\" class=\"dataframe\">\n",
       "  <thead>\n",
       "    <tr style=\"text-align: right;\">\n",
       "      <th></th>\n",
       "      <th>柜台号</th>\n",
       "      <th>柜台名称</th>\n",
       "      <th>区域</th>\n",
       "      <th>10月销售</th>\n",
       "      <th>9月销售</th>\n",
       "      <th>0</th>\n",
       "      <th>1</th>\n",
       "    </tr>\n",
       "  </thead>\n",
       "  <tbody>\n",
       "    <tr>\n",
       "      <th>0</th>\n",
       "      <td>AAA 025</td>\n",
       "      <td>四川-A店</td>\n",
       "      <td>四川</td>\n",
       "      <td>0.215078</td>\n",
       "      <td>0.039083</td>\n",
       "      <td>四川</td>\n",
       "      <td>A店</td>\n",
       "    </tr>\n",
       "    <tr>\n",
       "      <th>1</th>\n",
       "      <td>AAA 026</td>\n",
       "      <td>四川-B店</td>\n",
       "      <td>重庆</td>\n",
       "      <td>0.751797</td>\n",
       "      <td>0.033516</td>\n",
       "      <td>四川</td>\n",
       "      <td>B店</td>\n",
       "    </tr>\n",
       "    <tr>\n",
       "      <th>2</th>\n",
       "      <td>AAA 027</td>\n",
       "      <td>四川-C店</td>\n",
       "      <td>四川</td>\n",
       "      <td>0.524014</td>\n",
       "      <td>0.791630</td>\n",
       "      <td>四川</td>\n",
       "      <td>C店</td>\n",
       "    </tr>\n",
       "    <tr>\n",
       "      <th>3</th>\n",
       "      <td>BBB 036</td>\n",
       "      <td>重庆-A店</td>\n",
       "      <td>重庆</td>\n",
       "      <td>0.487578</td>\n",
       "      <td>0.562120</td>\n",
       "      <td>重庆</td>\n",
       "      <td>A店</td>\n",
       "    </tr>\n",
       "    <tr>\n",
       "      <th>4</th>\n",
       "      <td>BBB 037</td>\n",
       "      <td>重庆-B店</td>\n",
       "      <td>云南</td>\n",
       "      <td>0.916536</td>\n",
       "      <td>0.050265</td>\n",
       "      <td>重庆</td>\n",
       "      <td>B店</td>\n",
       "    </tr>\n",
       "    <tr>\n",
       "      <th>5</th>\n",
       "      <td>BBB 038</td>\n",
       "      <td>重庆-C店</td>\n",
       "      <td>重庆</td>\n",
       "      <td>0.610875</td>\n",
       "      <td>0.203620</td>\n",
       "      <td>重庆</td>\n",
       "      <td>C店</td>\n",
       "    </tr>\n",
       "  </tbody>\n",
       "</table>\n",
       "</div>"
      ],
      "text/plain": [
       "       柜台号   柜台名称  区域     10月销售      9月销售   0   1\n",
       "0  AAA 025  四川-A店  四川  0.215078  0.039083  四川  A店\n",
       "1  AAA 026  四川-B店  重庆  0.751797  0.033516  四川  B店\n",
       "2  AAA 027  四川-C店  四川  0.524014  0.791630  四川  C店\n",
       "3  BBB 036  重庆-A店  重庆  0.487578  0.562120  重庆  A店\n",
       "4  BBB 037  重庆-B店  云南  0.916536  0.050265  重庆  B店\n",
       "5  BBB 038  重庆-C店  重庆  0.610875  0.203620  重庆  C店"
      ]
     },
     "execution_count": 39,
     "metadata": {},
     "output_type": "execute_result"
    }
   ],
   "source": [
    "pd.merge(df,df['柜台名称'].str.split('-',expand=True),how='left',left_index=True,right_index=True)\n"
   ]
  },
  {
   "cell_type": "markdown",
   "metadata": {},
   "source": [
    "str.split()有三个参数：第一个参数就是引号里的内容：就是分列的依据。可以是空格，符号，字符串等等。\n",
    "第二个参数就是前面用到的expand=True，这个参数直接将分列后的结果转换成DataFrame。\n",
    "第三个参数的n=数字就是限制分列的次数。"
   ]
  },
  {
   "cell_type": "markdown",
   "metadata": {},
   "source": [
    "### 合并"
   ]
  },
  {
   "cell_type": "code",
   "execution_count": null,
   "metadata": {},
   "outputs": [],
   "source": [
    "df[0'].str.cat(df['1'],sep='_')\n",
    "#如果是数值型要先转化成字符串"
   ]
  },
  {
   "cell_type": "markdown",
   "metadata": {},
   "source": [
    "### 切片及str.extract()"
   ]
  },
  {
   "cell_type": "code",
   "execution_count": 40,
   "metadata": {},
   "outputs": [
    {
     "data": {
      "text/html": [
       "<div>\n",
       "<style scoped>\n",
       "    .dataframe tbody tr th:only-of-type {\n",
       "        vertical-align: middle;\n",
       "    }\n",
       "\n",
       "    .dataframe tbody tr th {\n",
       "        vertical-align: top;\n",
       "    }\n",
       "\n",
       "    .dataframe thead th {\n",
       "        text-align: right;\n",
       "    }\n",
       "</style>\n",
       "<table border=\"1\" class=\"dataframe\">\n",
       "  <thead>\n",
       "    <tr style=\"text-align: right;\">\n",
       "      <th></th>\n",
       "      <th>订单号</th>\n",
       "      <th>区域</th>\n",
       "      <th>门店</th>\n",
       "      <th>销售</th>\n",
       "    </tr>\n",
       "  </thead>\n",
       "  <tbody>\n",
       "    <tr>\n",
       "      <th>0</th>\n",
       "      <td>sc452de</td>\n",
       "      <td>四川B</td>\n",
       "      <td>门店3</td>\n",
       "      <td>0.073657</td>\n",
       "    </tr>\n",
       "    <tr>\n",
       "      <th>1</th>\n",
       "      <td>sc4534d</td>\n",
       "      <td>四川B</td>\n",
       "      <td>门店4</td>\n",
       "      <td>0.385466</td>\n",
       "    </tr>\n",
       "    <tr>\n",
       "      <th>2</th>\n",
       "      <td>sc454de</td>\n",
       "      <td>四川C</td>\n",
       "      <td>门店5</td>\n",
       "      <td>0.658468</td>\n",
       "    </tr>\n",
       "    <tr>\n",
       "      <th>3</th>\n",
       "      <td>sc4553d</td>\n",
       "      <td>四川C</td>\n",
       "      <td>门店6</td>\n",
       "      <td>0.650569</td>\n",
       "    </tr>\n",
       "    <tr>\n",
       "      <th>4</th>\n",
       "      <td>sc456de</td>\n",
       "      <td>四川D</td>\n",
       "      <td>门店7</td>\n",
       "      <td>0.826578</td>\n",
       "    </tr>\n",
       "    <tr>\n",
       "      <th>5</th>\n",
       "      <td>sc457dd</td>\n",
       "      <td>四川D</td>\n",
       "      <td>门店8</td>\n",
       "      <td>0.558015</td>\n",
       "    </tr>\n",
       "  </tbody>\n",
       "</table>\n",
       "</div>"
      ],
      "text/plain": [
       "       订单号   区域   门店        销售\n",
       "0  sc452de  四川B  门店3  0.073657\n",
       "1  sc4534d  四川B  门店4  0.385466\n",
       "2  sc454de  四川C  门店5  0.658468\n",
       "3  sc4553d  四川C  门店6  0.650569\n",
       "4  sc456de  四川D  门店7  0.826578\n",
       "5  sc457dd  四川D  门店8  0.558015"
      ]
     },
     "execution_count": 40,
     "metadata": {},
     "output_type": "execute_result"
    }
   ],
   "source": [
    "df=pd.read_excel(r'C:\\Users\\shifeng.tian\\Desktop\\Python学习\\test2.xlsx')\n",
    "df"
   ]
  },
  {
   "cell_type": "code",
   "execution_count": 42,
   "metadata": {},
   "outputs": [
    {
     "data": {
      "text/plain": [
       "0    452de\n",
       "1    4534d\n",
       "2    454de\n",
       "3    4553d\n",
       "4    456de\n",
       "5    457dd\n",
       "Name: 订单号, dtype: object"
      ]
     },
     "execution_count": 42,
     "metadata": {},
     "output_type": "execute_result"
    }
   ],
   "source": [
    "df['订单号'].str[2:]"
   ]
  },
  {
   "cell_type": "markdown",
   "metadata": {},
   "source": [
    "### 只需要数字或字母"
   ]
  },
  {
   "cell_type": "code",
   "execution_count": 43,
   "metadata": {},
   "outputs": [
    {
     "data": {
      "text/html": [
       "<div>\n",
       "<style scoped>\n",
       "    .dataframe tbody tr th:only-of-type {\n",
       "        vertical-align: middle;\n",
       "    }\n",
       "\n",
       "    .dataframe tbody tr th {\n",
       "        vertical-align: top;\n",
       "    }\n",
       "\n",
       "    .dataframe thead th {\n",
       "        text-align: right;\n",
       "    }\n",
       "</style>\n",
       "<table border=\"1\" class=\"dataframe\">\n",
       "  <thead>\n",
       "    <tr style=\"text-align: right;\">\n",
       "      <th></th>\n",
       "      <th>0</th>\n",
       "    </tr>\n",
       "  </thead>\n",
       "  <tbody>\n",
       "    <tr>\n",
       "      <th>0</th>\n",
       "      <td>452</td>\n",
       "    </tr>\n",
       "    <tr>\n",
       "      <th>1</th>\n",
       "      <td>4534</td>\n",
       "    </tr>\n",
       "    <tr>\n",
       "      <th>2</th>\n",
       "      <td>454</td>\n",
       "    </tr>\n",
       "    <tr>\n",
       "      <th>3</th>\n",
       "      <td>4553</td>\n",
       "    </tr>\n",
       "    <tr>\n",
       "      <th>4</th>\n",
       "      <td>456</td>\n",
       "    </tr>\n",
       "    <tr>\n",
       "      <th>5</th>\n",
       "      <td>457</td>\n",
       "    </tr>\n",
       "  </tbody>\n",
       "</table>\n",
       "</div>"
      ],
      "text/plain": [
       "      0\n",
       "0   452\n",
       "1  4534\n",
       "2   454\n",
       "3  4553\n",
       "4   456\n",
       "5   457"
      ]
     },
     "execution_count": 43,
     "metadata": {},
     "output_type": "execute_result"
    }
   ],
   "source": [
    "#要用到str.extract()及正则表达式。\n",
    "df['订单号'].str.extract('(\\d+)')"
   ]
  },
  {
   "cell_type": "code",
   "execution_count": 45,
   "metadata": {},
   "outputs": [
    {
     "data": {
      "text/html": [
       "<div>\n",
       "<style scoped>\n",
       "    .dataframe tbody tr th:only-of-type {\n",
       "        vertical-align: middle;\n",
       "    }\n",
       "\n",
       "    .dataframe tbody tr th {\n",
       "        vertical-align: top;\n",
       "    }\n",
       "\n",
       "    .dataframe thead th {\n",
       "        text-align: right;\n",
       "    }\n",
       "</style>\n",
       "<table border=\"1\" class=\"dataframe\">\n",
       "  <thead>\n",
       "    <tr style=\"text-align: right;\">\n",
       "      <th></th>\n",
       "      <th>0</th>\n",
       "    </tr>\n",
       "  </thead>\n",
       "  <tbody>\n",
       "    <tr>\n",
       "      <th>0</th>\n",
       "      <td>sc</td>\n",
       "    </tr>\n",
       "    <tr>\n",
       "      <th>1</th>\n",
       "      <td>sc</td>\n",
       "    </tr>\n",
       "    <tr>\n",
       "      <th>2</th>\n",
       "      <td>sc</td>\n",
       "    </tr>\n",
       "    <tr>\n",
       "      <th>3</th>\n",
       "      <td>sc</td>\n",
       "    </tr>\n",
       "    <tr>\n",
       "      <th>4</th>\n",
       "      <td>sc</td>\n",
       "    </tr>\n",
       "    <tr>\n",
       "      <th>5</th>\n",
       "      <td>sc</td>\n",
       "    </tr>\n",
       "  </tbody>\n",
       "</table>\n",
       "</div>"
      ],
      "text/plain": [
       "    0\n",
       "0  sc\n",
       "1  sc\n",
       "2  sc\n",
       "3  sc\n",
       "4  sc\n",
       "5  sc"
      ]
     },
     "execution_count": 45,
     "metadata": {},
     "output_type": "execute_result"
    }
   ],
   "source": [
    "df['订单号'].str.extract('([a-z]+)')"
   ]
  },
  {
   "cell_type": "markdown",
   "metadata": {},
   "source": [
    "## 分段函数及cut()"
   ]
  },
  {
   "cell_type": "markdown",
   "metadata": {},
   "source": [
    "### 用函数方法分段"
   ]
  },
  {
   "cell_type": "code",
   "execution_count": 47,
   "metadata": {},
   "outputs": [
    {
     "data": {
      "text/html": [
       "<div>\n",
       "<style scoped>\n",
       "    .dataframe tbody tr th:only-of-type {\n",
       "        vertical-align: middle;\n",
       "    }\n",
       "\n",
       "    .dataframe tbody tr th {\n",
       "        vertical-align: top;\n",
       "    }\n",
       "\n",
       "    .dataframe thead th {\n",
       "        text-align: right;\n",
       "    }\n",
       "</style>\n",
       "<table border=\"1\" class=\"dataframe\">\n",
       "  <thead>\n",
       "    <tr style=\"text-align: right;\">\n",
       "      <th></th>\n",
       "      <th>Unnamed: 0</th>\n",
       "      <th>门店</th>\n",
       "      <th>销售百分比</th>\n",
       "      <th>人员数量</th>\n",
       "    </tr>\n",
       "  </thead>\n",
       "  <tbody>\n",
       "    <tr>\n",
       "      <th>0</th>\n",
       "      <td>0</td>\n",
       "      <td>门店4</td>\n",
       "      <td>0.932113</td>\n",
       "      <td>49.346374</td>\n",
       "    </tr>\n",
       "    <tr>\n",
       "      <th>1</th>\n",
       "      <td>1</td>\n",
       "      <td>门店5</td>\n",
       "      <td>0.200338</td>\n",
       "      <td>85.124263</td>\n",
       "    </tr>\n",
       "    <tr>\n",
       "      <th>2</th>\n",
       "      <td>2</td>\n",
       "      <td>门店6</td>\n",
       "      <td>0.720286</td>\n",
       "      <td>89.888142</td>\n",
       "    </tr>\n",
       "    <tr>\n",
       "      <th>3</th>\n",
       "      <td>3</td>\n",
       "      <td>门店7</td>\n",
       "      <td>0.717116</td>\n",
       "      <td>65.852216</td>\n",
       "    </tr>\n",
       "    <tr>\n",
       "      <th>4</th>\n",
       "      <td>4</td>\n",
       "      <td>门店8</td>\n",
       "      <td>0.104306</td>\n",
       "      <td>81.744211</td>\n",
       "    </tr>\n",
       "    <tr>\n",
       "      <th>5</th>\n",
       "      <td>5</td>\n",
       "      <td>门店9</td>\n",
       "      <td>0.644102</td>\n",
       "      <td>91.133356</td>\n",
       "    </tr>\n",
       "    <tr>\n",
       "      <th>6</th>\n",
       "      <td>6</td>\n",
       "      <td>门店10</td>\n",
       "      <td>0.730772</td>\n",
       "      <td>7.237513</td>\n",
       "    </tr>\n",
       "    <tr>\n",
       "      <th>7</th>\n",
       "      <td>7</td>\n",
       "      <td>门店11</td>\n",
       "      <td>0.511563</td>\n",
       "      <td>24.422889</td>\n",
       "    </tr>\n",
       "    <tr>\n",
       "      <th>8</th>\n",
       "      <td>8</td>\n",
       "      <td>门店12</td>\n",
       "      <td>0.187337</td>\n",
       "      <td>77.094575</td>\n",
       "    </tr>\n",
       "    <tr>\n",
       "      <th>9</th>\n",
       "      <td>9</td>\n",
       "      <td>门店13</td>\n",
       "      <td>0.864266</td>\n",
       "      <td>80.167927</td>\n",
       "    </tr>\n",
       "    <tr>\n",
       "      <th>10</th>\n",
       "      <td>10</td>\n",
       "      <td>门店14</td>\n",
       "      <td>0.281137</td>\n",
       "      <td>9.939298</td>\n",
       "    </tr>\n",
       "    <tr>\n",
       "      <th>11</th>\n",
       "      <td>11</td>\n",
       "      <td>门店15</td>\n",
       "      <td>0.015485</td>\n",
       "      <td>8.946040</td>\n",
       "    </tr>\n",
       "    <tr>\n",
       "      <th>12</th>\n",
       "      <td>12</td>\n",
       "      <td>门店16</td>\n",
       "      <td>0.055760</td>\n",
       "      <td>26.606808</td>\n",
       "    </tr>\n",
       "    <tr>\n",
       "      <th>13</th>\n",
       "      <td>13</td>\n",
       "      <td>门店17</td>\n",
       "      <td>0.986753</td>\n",
       "      <td>44.245572</td>\n",
       "    </tr>\n",
       "    <tr>\n",
       "      <th>14</th>\n",
       "      <td>14</td>\n",
       "      <td>门店18</td>\n",
       "      <td>0.816509</td>\n",
       "      <td>96.036392</td>\n",
       "    </tr>\n",
       "    <tr>\n",
       "      <th>15</th>\n",
       "      <td>15</td>\n",
       "      <td>门店19</td>\n",
       "      <td>0.217803</td>\n",
       "      <td>76.024301</td>\n",
       "    </tr>\n",
       "    <tr>\n",
       "      <th>16</th>\n",
       "      <td>16</td>\n",
       "      <td>门店20</td>\n",
       "      <td>0.435242</td>\n",
       "      <td>0.316817</td>\n",
       "    </tr>\n",
       "    <tr>\n",
       "      <th>17</th>\n",
       "      <td>17</td>\n",
       "      <td>门店21</td>\n",
       "      <td>0.414019</td>\n",
       "      <td>60.977326</td>\n",
       "    </tr>\n",
       "    <tr>\n",
       "      <th>18</th>\n",
       "      <td>18</td>\n",
       "      <td>门店22</td>\n",
       "      <td>0.626343</td>\n",
       "      <td>38.316628</td>\n",
       "    </tr>\n",
       "    <tr>\n",
       "      <th>19</th>\n",
       "      <td>19</td>\n",
       "      <td>门店23</td>\n",
       "      <td>0.002006</td>\n",
       "      <td>6.068786</td>\n",
       "    </tr>\n",
       "    <tr>\n",
       "      <th>20</th>\n",
       "      <td>20</td>\n",
       "      <td>门店24</td>\n",
       "      <td>0.932771</td>\n",
       "      <td>66.841866</td>\n",
       "    </tr>\n",
       "    <tr>\n",
       "      <th>21</th>\n",
       "      <td>21</td>\n",
       "      <td>门店25</td>\n",
       "      <td>0.271033</td>\n",
       "      <td>8.209565</td>\n",
       "    </tr>\n",
       "    <tr>\n",
       "      <th>22</th>\n",
       "      <td>22</td>\n",
       "      <td>门店26</td>\n",
       "      <td>0.071355</td>\n",
       "      <td>24.971019</td>\n",
       "    </tr>\n",
       "  </tbody>\n",
       "</table>\n",
       "</div>"
      ],
      "text/plain": [
       "    Unnamed: 0    门店     销售百分比       人员数量\n",
       "0            0   门店4  0.932113  49.346374\n",
       "1            1   门店5  0.200338  85.124263\n",
       "2            2   门店6  0.720286  89.888142\n",
       "3            3   门店7  0.717116  65.852216\n",
       "4            4   门店8  0.104306  81.744211\n",
       "5            5   门店9  0.644102  91.133356\n",
       "6            6  门店10  0.730772   7.237513\n",
       "7            7  门店11  0.511563  24.422889\n",
       "8            8  门店12  0.187337  77.094575\n",
       "9            9  门店13  0.864266  80.167927\n",
       "10          10  门店14  0.281137   9.939298\n",
       "11          11  门店15  0.015485   8.946040\n",
       "12          12  门店16  0.055760  26.606808\n",
       "13          13  门店17  0.986753  44.245572\n",
       "14          14  门店18  0.816509  96.036392\n",
       "15          15  门店19  0.217803  76.024301\n",
       "16          16  门店20  0.435242   0.316817\n",
       "17          17  门店21  0.414019  60.977326\n",
       "18          18  门店22  0.626343  38.316628\n",
       "19          19  门店23  0.002006   6.068786\n",
       "20          20  门店24  0.932771  66.841866\n",
       "21          21  门店25  0.271033   8.209565\n",
       "22          22  门店26  0.071355  24.971019"
      ]
     },
     "execution_count": 47,
     "metadata": {},
     "output_type": "execute_result"
    }
   ],
   "source": [
    "df=pd.read_excel(r'C:\\Users\\shifeng.tian\\Desktop\\Python学习\\test2.xlsx')\n",
    "df"
   ]
  },
  {
   "cell_type": "code",
   "execution_count": 48,
   "metadata": {},
   "outputs": [],
   "source": [
    "def cut_to(x):\n",
    "    if x<=20:\n",
    "        return '20以下'\n",
    "    elif x<=40:\n",
    "        return '20-40'\n",
    "    elif x<=60:\n",
    "        return '40-60'\n",
    "    elif x<=80:\n",
    "        return '60-80'\n",
    "    else:\n",
    "        return '80-100'\n",
    "    "
   ]
  },
  {
   "cell_type": "code",
   "execution_count": 49,
   "metadata": {
    "scrolled": true
   },
   "outputs": [
    {
     "data": {
      "text/html": [
       "<div>\n",
       "<style scoped>\n",
       "    .dataframe tbody tr th:only-of-type {\n",
       "        vertical-align: middle;\n",
       "    }\n",
       "\n",
       "    .dataframe tbody tr th {\n",
       "        vertical-align: top;\n",
       "    }\n",
       "\n",
       "    .dataframe thead th {\n",
       "        text-align: right;\n",
       "    }\n",
       "</style>\n",
       "<table border=\"1\" class=\"dataframe\">\n",
       "  <thead>\n",
       "    <tr style=\"text-align: right;\">\n",
       "      <th></th>\n",
       "      <th>Unnamed: 0</th>\n",
       "      <th>门店</th>\n",
       "      <th>销售百分比</th>\n",
       "      <th>人员数量</th>\n",
       "      <th>人数分段</th>\n",
       "    </tr>\n",
       "  </thead>\n",
       "  <tbody>\n",
       "    <tr>\n",
       "      <th>0</th>\n",
       "      <td>0</td>\n",
       "      <td>门店4</td>\n",
       "      <td>0.932113</td>\n",
       "      <td>49.346374</td>\n",
       "      <td>40-60</td>\n",
       "    </tr>\n",
       "    <tr>\n",
       "      <th>1</th>\n",
       "      <td>1</td>\n",
       "      <td>门店5</td>\n",
       "      <td>0.200338</td>\n",
       "      <td>85.124263</td>\n",
       "      <td>80-100</td>\n",
       "    </tr>\n",
       "    <tr>\n",
       "      <th>2</th>\n",
       "      <td>2</td>\n",
       "      <td>门店6</td>\n",
       "      <td>0.720286</td>\n",
       "      <td>89.888142</td>\n",
       "      <td>80-100</td>\n",
       "    </tr>\n",
       "    <tr>\n",
       "      <th>3</th>\n",
       "      <td>3</td>\n",
       "      <td>门店7</td>\n",
       "      <td>0.717116</td>\n",
       "      <td>65.852216</td>\n",
       "      <td>60-80</td>\n",
       "    </tr>\n",
       "    <tr>\n",
       "      <th>4</th>\n",
       "      <td>4</td>\n",
       "      <td>门店8</td>\n",
       "      <td>0.104306</td>\n",
       "      <td>81.744211</td>\n",
       "      <td>80-100</td>\n",
       "    </tr>\n",
       "    <tr>\n",
       "      <th>5</th>\n",
       "      <td>5</td>\n",
       "      <td>门店9</td>\n",
       "      <td>0.644102</td>\n",
       "      <td>91.133356</td>\n",
       "      <td>80-100</td>\n",
       "    </tr>\n",
       "    <tr>\n",
       "      <th>6</th>\n",
       "      <td>6</td>\n",
       "      <td>门店10</td>\n",
       "      <td>0.730772</td>\n",
       "      <td>7.237513</td>\n",
       "      <td>20以下</td>\n",
       "    </tr>\n",
       "    <tr>\n",
       "      <th>7</th>\n",
       "      <td>7</td>\n",
       "      <td>门店11</td>\n",
       "      <td>0.511563</td>\n",
       "      <td>24.422889</td>\n",
       "      <td>20-40</td>\n",
       "    </tr>\n",
       "    <tr>\n",
       "      <th>8</th>\n",
       "      <td>8</td>\n",
       "      <td>门店12</td>\n",
       "      <td>0.187337</td>\n",
       "      <td>77.094575</td>\n",
       "      <td>60-80</td>\n",
       "    </tr>\n",
       "    <tr>\n",
       "      <th>9</th>\n",
       "      <td>9</td>\n",
       "      <td>门店13</td>\n",
       "      <td>0.864266</td>\n",
       "      <td>80.167927</td>\n",
       "      <td>80-100</td>\n",
       "    </tr>\n",
       "    <tr>\n",
       "      <th>10</th>\n",
       "      <td>10</td>\n",
       "      <td>门店14</td>\n",
       "      <td>0.281137</td>\n",
       "      <td>9.939298</td>\n",
       "      <td>20以下</td>\n",
       "    </tr>\n",
       "    <tr>\n",
       "      <th>11</th>\n",
       "      <td>11</td>\n",
       "      <td>门店15</td>\n",
       "      <td>0.015485</td>\n",
       "      <td>8.946040</td>\n",
       "      <td>20以下</td>\n",
       "    </tr>\n",
       "    <tr>\n",
       "      <th>12</th>\n",
       "      <td>12</td>\n",
       "      <td>门店16</td>\n",
       "      <td>0.055760</td>\n",
       "      <td>26.606808</td>\n",
       "      <td>20-40</td>\n",
       "    </tr>\n",
       "    <tr>\n",
       "      <th>13</th>\n",
       "      <td>13</td>\n",
       "      <td>门店17</td>\n",
       "      <td>0.986753</td>\n",
       "      <td>44.245572</td>\n",
       "      <td>40-60</td>\n",
       "    </tr>\n",
       "    <tr>\n",
       "      <th>14</th>\n",
       "      <td>14</td>\n",
       "      <td>门店18</td>\n",
       "      <td>0.816509</td>\n",
       "      <td>96.036392</td>\n",
       "      <td>80-100</td>\n",
       "    </tr>\n",
       "    <tr>\n",
       "      <th>15</th>\n",
       "      <td>15</td>\n",
       "      <td>门店19</td>\n",
       "      <td>0.217803</td>\n",
       "      <td>76.024301</td>\n",
       "      <td>60-80</td>\n",
       "    </tr>\n",
       "    <tr>\n",
       "      <th>16</th>\n",
       "      <td>16</td>\n",
       "      <td>门店20</td>\n",
       "      <td>0.435242</td>\n",
       "      <td>0.316817</td>\n",
       "      <td>20以下</td>\n",
       "    </tr>\n",
       "    <tr>\n",
       "      <th>17</th>\n",
       "      <td>17</td>\n",
       "      <td>门店21</td>\n",
       "      <td>0.414019</td>\n",
       "      <td>60.977326</td>\n",
       "      <td>60-80</td>\n",
       "    </tr>\n",
       "    <tr>\n",
       "      <th>18</th>\n",
       "      <td>18</td>\n",
       "      <td>门店22</td>\n",
       "      <td>0.626343</td>\n",
       "      <td>38.316628</td>\n",
       "      <td>20-40</td>\n",
       "    </tr>\n",
       "    <tr>\n",
       "      <th>19</th>\n",
       "      <td>19</td>\n",
       "      <td>门店23</td>\n",
       "      <td>0.002006</td>\n",
       "      <td>6.068786</td>\n",
       "      <td>20以下</td>\n",
       "    </tr>\n",
       "    <tr>\n",
       "      <th>20</th>\n",
       "      <td>20</td>\n",
       "      <td>门店24</td>\n",
       "      <td>0.932771</td>\n",
       "      <td>66.841866</td>\n",
       "      <td>60-80</td>\n",
       "    </tr>\n",
       "    <tr>\n",
       "      <th>21</th>\n",
       "      <td>21</td>\n",
       "      <td>门店25</td>\n",
       "      <td>0.271033</td>\n",
       "      <td>8.209565</td>\n",
       "      <td>20以下</td>\n",
       "    </tr>\n",
       "    <tr>\n",
       "      <th>22</th>\n",
       "      <td>22</td>\n",
       "      <td>门店26</td>\n",
       "      <td>0.071355</td>\n",
       "      <td>24.971019</td>\n",
       "      <td>20-40</td>\n",
       "    </tr>\n",
       "  </tbody>\n",
       "</table>\n",
       "</div>"
      ],
      "text/plain": [
       "    Unnamed: 0    门店     销售百分比       人员数量    人数分段\n",
       "0            0   门店4  0.932113  49.346374   40-60\n",
       "1            1   门店5  0.200338  85.124263  80-100\n",
       "2            2   门店6  0.720286  89.888142  80-100\n",
       "3            3   门店7  0.717116  65.852216   60-80\n",
       "4            4   门店8  0.104306  81.744211  80-100\n",
       "5            5   门店9  0.644102  91.133356  80-100\n",
       "6            6  门店10  0.730772   7.237513    20以下\n",
       "7            7  门店11  0.511563  24.422889   20-40\n",
       "8            8  门店12  0.187337  77.094575   60-80\n",
       "9            9  门店13  0.864266  80.167927  80-100\n",
       "10          10  门店14  0.281137   9.939298    20以下\n",
       "11          11  门店15  0.015485   8.946040    20以下\n",
       "12          12  门店16  0.055760  26.606808   20-40\n",
       "13          13  门店17  0.986753  44.245572   40-60\n",
       "14          14  门店18  0.816509  96.036392  80-100\n",
       "15          15  门店19  0.217803  76.024301   60-80\n",
       "16          16  门店20  0.435242   0.316817    20以下\n",
       "17          17  门店21  0.414019  60.977326   60-80\n",
       "18          18  门店22  0.626343  38.316628   20-40\n",
       "19          19  门店23  0.002006   6.068786    20以下\n",
       "20          20  门店24  0.932771  66.841866   60-80\n",
       "21          21  门店25  0.271033   8.209565    20以下\n",
       "22          22  门店26  0.071355  24.971019   20-40"
      ]
     },
     "execution_count": 49,
     "metadata": {},
     "output_type": "execute_result"
    }
   ],
   "source": [
    "df['人数分段']=df['人员数量'].map(cut_to)\n",
    "df"
   ]
  },
  {
   "cell_type": "code",
   "execution_count": 50,
   "metadata": {},
   "outputs": [
    {
     "data": {
      "text/html": [
       "<div>\n",
       "<style scoped>\n",
       "    .dataframe tbody tr th:only-of-type {\n",
       "        vertical-align: middle;\n",
       "    }\n",
       "\n",
       "    .dataframe tbody tr th {\n",
       "        vertical-align: top;\n",
       "    }\n",
       "\n",
       "    .dataframe thead th {\n",
       "        text-align: right;\n",
       "    }\n",
       "</style>\n",
       "<table border=\"1\" class=\"dataframe\">\n",
       "  <thead>\n",
       "    <tr style=\"text-align: right;\">\n",
       "      <th></th>\n",
       "      <th>Unnamed: 0</th>\n",
       "      <th>门店</th>\n",
       "      <th>销售百分比</th>\n",
       "      <th>人员数量</th>\n",
       "    </tr>\n",
       "    <tr>\n",
       "      <th>人数分段</th>\n",
       "      <th></th>\n",
       "      <th></th>\n",
       "      <th></th>\n",
       "      <th></th>\n",
       "    </tr>\n",
       "  </thead>\n",
       "  <tbody>\n",
       "    <tr>\n",
       "      <th>20-40</th>\n",
       "      <td>4</td>\n",
       "      <td>4</td>\n",
       "      <td>4</td>\n",
       "      <td>4</td>\n",
       "    </tr>\n",
       "    <tr>\n",
       "      <th>20以下</th>\n",
       "      <td>6</td>\n",
       "      <td>6</td>\n",
       "      <td>6</td>\n",
       "      <td>6</td>\n",
       "    </tr>\n",
       "    <tr>\n",
       "      <th>40-60</th>\n",
       "      <td>2</td>\n",
       "      <td>2</td>\n",
       "      <td>2</td>\n",
       "      <td>2</td>\n",
       "    </tr>\n",
       "    <tr>\n",
       "      <th>60-80</th>\n",
       "      <td>5</td>\n",
       "      <td>5</td>\n",
       "      <td>5</td>\n",
       "      <td>5</td>\n",
       "    </tr>\n",
       "    <tr>\n",
       "      <th>80-100</th>\n",
       "      <td>6</td>\n",
       "      <td>6</td>\n",
       "      <td>6</td>\n",
       "      <td>6</td>\n",
       "    </tr>\n",
       "  </tbody>\n",
       "</table>\n",
       "</div>"
      ],
      "text/plain": [
       "        Unnamed: 0  门店  销售百分比  人员数量\n",
       "人数分段                               \n",
       "20-40            4   4      4     4\n",
       "20以下             6   6      6     6\n",
       "40-60            2   2      2     2\n",
       "60-80            5   5      5     5\n",
       "80-100           6   6      6     6"
      ]
     },
     "execution_count": 50,
     "metadata": {},
     "output_type": "execute_result"
    }
   ],
   "source": [
    "#分组并计数\n",
    "df.groupby(by='人数分段').count()"
   ]
  },
  {
   "cell_type": "markdown",
   "metadata": {},
   "source": [
    "### 用.cut()分段"
   ]
  },
  {
   "cell_type": "code",
   "execution_count": 51,
   "metadata": {},
   "outputs": [
    {
     "data": {
      "text/html": [
       "<div>\n",
       "<style scoped>\n",
       "    .dataframe tbody tr th:only-of-type {\n",
       "        vertical-align: middle;\n",
       "    }\n",
       "\n",
       "    .dataframe tbody tr th {\n",
       "        vertical-align: top;\n",
       "    }\n",
       "\n",
       "    .dataframe thead th {\n",
       "        text-align: right;\n",
       "    }\n",
       "</style>\n",
       "<table border=\"1\" class=\"dataframe\">\n",
       "  <thead>\n",
       "    <tr style=\"text-align: right;\">\n",
       "      <th></th>\n",
       "      <th>Unnamed: 0</th>\n",
       "      <th>门店</th>\n",
       "      <th>销售百分比</th>\n",
       "      <th>人员数量</th>\n",
       "      <th>人数分段</th>\n",
       "      <th>分段函数2</th>\n",
       "    </tr>\n",
       "  </thead>\n",
       "  <tbody>\n",
       "    <tr>\n",
       "      <th>0</th>\n",
       "      <td>0</td>\n",
       "      <td>门店4</td>\n",
       "      <td>0.932113</td>\n",
       "      <td>49.346374</td>\n",
       "      <td>40-60</td>\n",
       "      <td>40-60</td>\n",
       "    </tr>\n",
       "    <tr>\n",
       "      <th>1</th>\n",
       "      <td>1</td>\n",
       "      <td>门店5</td>\n",
       "      <td>0.200338</td>\n",
       "      <td>85.124263</td>\n",
       "      <td>80-100</td>\n",
       "      <td>80-100</td>\n",
       "    </tr>\n",
       "    <tr>\n",
       "      <th>2</th>\n",
       "      <td>2</td>\n",
       "      <td>门店6</td>\n",
       "      <td>0.720286</td>\n",
       "      <td>89.888142</td>\n",
       "      <td>80-100</td>\n",
       "      <td>80-100</td>\n",
       "    </tr>\n",
       "    <tr>\n",
       "      <th>3</th>\n",
       "      <td>3</td>\n",
       "      <td>门店7</td>\n",
       "      <td>0.717116</td>\n",
       "      <td>65.852216</td>\n",
       "      <td>60-80</td>\n",
       "      <td>60-80</td>\n",
       "    </tr>\n",
       "    <tr>\n",
       "      <th>4</th>\n",
       "      <td>4</td>\n",
       "      <td>门店8</td>\n",
       "      <td>0.104306</td>\n",
       "      <td>81.744211</td>\n",
       "      <td>80-100</td>\n",
       "      <td>80-100</td>\n",
       "    </tr>\n",
       "    <tr>\n",
       "      <th>5</th>\n",
       "      <td>5</td>\n",
       "      <td>门店9</td>\n",
       "      <td>0.644102</td>\n",
       "      <td>91.133356</td>\n",
       "      <td>80-100</td>\n",
       "      <td>80-100</td>\n",
       "    </tr>\n",
       "    <tr>\n",
       "      <th>6</th>\n",
       "      <td>6</td>\n",
       "      <td>门店10</td>\n",
       "      <td>0.730772</td>\n",
       "      <td>7.237513</td>\n",
       "      <td>20以下</td>\n",
       "      <td>20以下</td>\n",
       "    </tr>\n",
       "    <tr>\n",
       "      <th>7</th>\n",
       "      <td>7</td>\n",
       "      <td>门店11</td>\n",
       "      <td>0.511563</td>\n",
       "      <td>24.422889</td>\n",
       "      <td>20-40</td>\n",
       "      <td>20-40</td>\n",
       "    </tr>\n",
       "    <tr>\n",
       "      <th>8</th>\n",
       "      <td>8</td>\n",
       "      <td>门店12</td>\n",
       "      <td>0.187337</td>\n",
       "      <td>77.094575</td>\n",
       "      <td>60-80</td>\n",
       "      <td>60-80</td>\n",
       "    </tr>\n",
       "    <tr>\n",
       "      <th>9</th>\n",
       "      <td>9</td>\n",
       "      <td>门店13</td>\n",
       "      <td>0.864266</td>\n",
       "      <td>80.167927</td>\n",
       "      <td>80-100</td>\n",
       "      <td>80-100</td>\n",
       "    </tr>\n",
       "    <tr>\n",
       "      <th>10</th>\n",
       "      <td>10</td>\n",
       "      <td>门店14</td>\n",
       "      <td>0.281137</td>\n",
       "      <td>9.939298</td>\n",
       "      <td>20以下</td>\n",
       "      <td>20以下</td>\n",
       "    </tr>\n",
       "    <tr>\n",
       "      <th>11</th>\n",
       "      <td>11</td>\n",
       "      <td>门店15</td>\n",
       "      <td>0.015485</td>\n",
       "      <td>8.946040</td>\n",
       "      <td>20以下</td>\n",
       "      <td>20以下</td>\n",
       "    </tr>\n",
       "    <tr>\n",
       "      <th>12</th>\n",
       "      <td>12</td>\n",
       "      <td>门店16</td>\n",
       "      <td>0.055760</td>\n",
       "      <td>26.606808</td>\n",
       "      <td>20-40</td>\n",
       "      <td>20-40</td>\n",
       "    </tr>\n",
       "    <tr>\n",
       "      <th>13</th>\n",
       "      <td>13</td>\n",
       "      <td>门店17</td>\n",
       "      <td>0.986753</td>\n",
       "      <td>44.245572</td>\n",
       "      <td>40-60</td>\n",
       "      <td>40-60</td>\n",
       "    </tr>\n",
       "    <tr>\n",
       "      <th>14</th>\n",
       "      <td>14</td>\n",
       "      <td>门店18</td>\n",
       "      <td>0.816509</td>\n",
       "      <td>96.036392</td>\n",
       "      <td>80-100</td>\n",
       "      <td>80-100</td>\n",
       "    </tr>\n",
       "    <tr>\n",
       "      <th>15</th>\n",
       "      <td>15</td>\n",
       "      <td>门店19</td>\n",
       "      <td>0.217803</td>\n",
       "      <td>76.024301</td>\n",
       "      <td>60-80</td>\n",
       "      <td>60-80</td>\n",
       "    </tr>\n",
       "    <tr>\n",
       "      <th>16</th>\n",
       "      <td>16</td>\n",
       "      <td>门店20</td>\n",
       "      <td>0.435242</td>\n",
       "      <td>0.316817</td>\n",
       "      <td>20以下</td>\n",
       "      <td>20以下</td>\n",
       "    </tr>\n",
       "    <tr>\n",
       "      <th>17</th>\n",
       "      <td>17</td>\n",
       "      <td>门店21</td>\n",
       "      <td>0.414019</td>\n",
       "      <td>60.977326</td>\n",
       "      <td>60-80</td>\n",
       "      <td>60-80</td>\n",
       "    </tr>\n",
       "    <tr>\n",
       "      <th>18</th>\n",
       "      <td>18</td>\n",
       "      <td>门店22</td>\n",
       "      <td>0.626343</td>\n",
       "      <td>38.316628</td>\n",
       "      <td>20-40</td>\n",
       "      <td>20-40</td>\n",
       "    </tr>\n",
       "    <tr>\n",
       "      <th>19</th>\n",
       "      <td>19</td>\n",
       "      <td>门店23</td>\n",
       "      <td>0.002006</td>\n",
       "      <td>6.068786</td>\n",
       "      <td>20以下</td>\n",
       "      <td>20以下</td>\n",
       "    </tr>\n",
       "    <tr>\n",
       "      <th>20</th>\n",
       "      <td>20</td>\n",
       "      <td>门店24</td>\n",
       "      <td>0.932771</td>\n",
       "      <td>66.841866</td>\n",
       "      <td>60-80</td>\n",
       "      <td>60-80</td>\n",
       "    </tr>\n",
       "    <tr>\n",
       "      <th>21</th>\n",
       "      <td>21</td>\n",
       "      <td>门店25</td>\n",
       "      <td>0.271033</td>\n",
       "      <td>8.209565</td>\n",
       "      <td>20以下</td>\n",
       "      <td>20以下</td>\n",
       "    </tr>\n",
       "    <tr>\n",
       "      <th>22</th>\n",
       "      <td>22</td>\n",
       "      <td>门店26</td>\n",
       "      <td>0.071355</td>\n",
       "      <td>24.971019</td>\n",
       "      <td>20-40</td>\n",
       "      <td>20-40</td>\n",
       "    </tr>\n",
       "  </tbody>\n",
       "</table>\n",
       "</div>"
      ],
      "text/plain": [
       "    Unnamed: 0    门店     销售百分比       人员数量    人数分段   分段函数2\n",
       "0            0   门店4  0.932113  49.346374   40-60   40-60\n",
       "1            1   门店5  0.200338  85.124263  80-100  80-100\n",
       "2            2   门店6  0.720286  89.888142  80-100  80-100\n",
       "3            3   门店7  0.717116  65.852216   60-80   60-80\n",
       "4            4   门店8  0.104306  81.744211  80-100  80-100\n",
       "5            5   门店9  0.644102  91.133356  80-100  80-100\n",
       "6            6  门店10  0.730772   7.237513    20以下    20以下\n",
       "7            7  门店11  0.511563  24.422889   20-40   20-40\n",
       "8            8  门店12  0.187337  77.094575   60-80   60-80\n",
       "9            9  门店13  0.864266  80.167927  80-100  80-100\n",
       "10          10  门店14  0.281137   9.939298    20以下    20以下\n",
       "11          11  门店15  0.015485   8.946040    20以下    20以下\n",
       "12          12  门店16  0.055760  26.606808   20-40   20-40\n",
       "13          13  门店17  0.986753  44.245572   40-60   40-60\n",
       "14          14  门店18  0.816509  96.036392  80-100  80-100\n",
       "15          15  门店19  0.217803  76.024301   60-80   60-80\n",
       "16          16  门店20  0.435242   0.316817    20以下    20以下\n",
       "17          17  门店21  0.414019  60.977326   60-80   60-80\n",
       "18          18  门店22  0.626343  38.316628   20-40   20-40\n",
       "19          19  门店23  0.002006   6.068786    20以下    20以下\n",
       "20          20  门店24  0.932771  66.841866   60-80   60-80\n",
       "21          21  门店25  0.271033   8.209565    20以下    20以下\n",
       "22          22  门店26  0.071355  24.971019   20-40   20-40"
      ]
     },
     "execution_count": 51,
     "metadata": {},
     "output_type": "execute_result"
    }
   ],
   "source": [
    "df['分段函数2']=pd.cut(df['人员数量'],[0,20,40,60,80,100],labels=['20以下','20-40','40-60','60-80','80-100'])\n",
    "df"
   ]
  },
  {
   "cell_type": "markdown",
   "metadata": {},
   "source": [
    "## 替换 replace()及部分替换"
   ]
  },
  {
   "cell_type": "code",
   "execution_count": 78,
   "metadata": {},
   "outputs": [
    {
     "data": {
      "text/html": [
       "<div>\n",
       "<style scoped>\n",
       "    .dataframe tbody tr th:only-of-type {\n",
       "        vertical-align: middle;\n",
       "    }\n",
       "\n",
       "    .dataframe tbody tr th {\n",
       "        vertical-align: top;\n",
       "    }\n",
       "\n",
       "    .dataframe thead th {\n",
       "        text-align: right;\n",
       "    }\n",
       "</style>\n",
       "<table border=\"1\" class=\"dataframe\">\n",
       "  <thead>\n",
       "    <tr style=\"text-align: right;\">\n",
       "      <th></th>\n",
       "      <th>门店</th>\n",
       "      <th>数量</th>\n",
       "      <th>金额</th>\n",
       "      <th>合计</th>\n",
       "    </tr>\n",
       "  </thead>\n",
       "  <tbody>\n",
       "    <tr>\n",
       "      <th>0</th>\n",
       "      <td>门店1</td>\n",
       "      <td>A</td>\n",
       "      <td>0</td>\n",
       "      <td>D</td>\n",
       "    </tr>\n",
       "    <tr>\n",
       "      <th>1</th>\n",
       "      <td>门店2</td>\n",
       "      <td>0.99</td>\n",
       "      <td>18.2383</td>\n",
       "      <td>0.99</td>\n",
       "    </tr>\n",
       "    <tr>\n",
       "      <th>2</th>\n",
       "      <td>门店3</td>\n",
       "      <td>0.382586</td>\n",
       "      <td>64.7223</td>\n",
       "      <td>0.566236</td>\n",
       "    </tr>\n",
       "    <tr>\n",
       "      <th>3</th>\n",
       "      <td>门店4</td>\n",
       "      <td>0.99</td>\n",
       "      <td>C</td>\n",
       "      <td>E</td>\n",
       "    </tr>\n",
       "    <tr>\n",
       "      <th>4</th>\n",
       "      <td>门店5</td>\n",
       "      <td>0.26951</td>\n",
       "      <td>18.9447</td>\n",
       "      <td>0.326625</td>\n",
       "    </tr>\n",
       "    <tr>\n",
       "      <th>5</th>\n",
       "      <td>门店6</td>\n",
       "      <td>B</td>\n",
       "      <td>0</td>\n",
       "      <td>F</td>\n",
       "    </tr>\n",
       "    <tr>\n",
       "      <th>6</th>\n",
       "      <td>门店7</td>\n",
       "      <td>0.708304</td>\n",
       "      <td>0</td>\n",
       "      <td>0</td>\n",
       "    </tr>\n",
       "    <tr>\n",
       "      <th>7</th>\n",
       "      <td>门店8</td>\n",
       "      <td>0.606003</td>\n",
       "      <td>95.629</td>\n",
       "      <td>0.422686</td>\n",
       "    </tr>\n",
       "  </tbody>\n",
       "</table>\n",
       "</div>"
      ],
      "text/plain": [
       "    门店        数量       金额        合计\n",
       "0  门店1         A        0         D\n",
       "1  门店2      0.99  18.2383      0.99\n",
       "2  门店3  0.382586  64.7223  0.566236\n",
       "3  门店4      0.99        C         E\n",
       "4  门店5   0.26951  18.9447  0.326625\n",
       "5  门店6         B        0         F\n",
       "6  门店7  0.708304        0         0\n",
       "7  门店8  0.606003   95.629  0.422686"
      ]
     },
     "execution_count": 78,
     "metadata": {},
     "output_type": "execute_result"
    }
   ],
   "source": [
    "df=pd.read_excel(r'C:\\Users\\shifeng.tian\\Desktop\\Python学习\\test2.xlsx')\n",
    "df"
   ]
  },
  {
   "cell_type": "markdown",
   "metadata": {},
   "source": [
    "### 替换单个值"
   ]
  },
  {
   "cell_type": "code",
   "execution_count": 64,
   "metadata": {},
   "outputs": [
    {
     "data": {
      "text/html": [
       "<div>\n",
       "<style scoped>\n",
       "    .dataframe tbody tr th:only-of-type {\n",
       "        vertical-align: middle;\n",
       "    }\n",
       "\n",
       "    .dataframe tbody tr th {\n",
       "        vertical-align: top;\n",
       "    }\n",
       "\n",
       "    .dataframe thead th {\n",
       "        text-align: right;\n",
       "    }\n",
       "</style>\n",
       "<table border=\"1\" class=\"dataframe\">\n",
       "  <thead>\n",
       "    <tr style=\"text-align: right;\">\n",
       "      <th></th>\n",
       "      <th>门店</th>\n",
       "      <th>数量</th>\n",
       "      <th>金额</th>\n",
       "      <th>合计</th>\n",
       "    </tr>\n",
       "  </thead>\n",
       "  <tbody>\n",
       "    <tr>\n",
       "      <th>0</th>\n",
       "      <td>门店1</td>\n",
       "      <td>0.1</td>\n",
       "      <td>0</td>\n",
       "      <td>D</td>\n",
       "    </tr>\n",
       "    <tr>\n",
       "      <th>1</th>\n",
       "      <td>门店2</td>\n",
       "      <td>0.99</td>\n",
       "      <td>18.2383</td>\n",
       "      <td>0.99</td>\n",
       "    </tr>\n",
       "    <tr>\n",
       "      <th>2</th>\n",
       "      <td>门店3</td>\n",
       "      <td>0.382586</td>\n",
       "      <td>64.7223</td>\n",
       "      <td>0.566236</td>\n",
       "    </tr>\n",
       "    <tr>\n",
       "      <th>3</th>\n",
       "      <td>门店4</td>\n",
       "      <td>0.99</td>\n",
       "      <td>C</td>\n",
       "      <td>E</td>\n",
       "    </tr>\n",
       "    <tr>\n",
       "      <th>4</th>\n",
       "      <td>门店5</td>\n",
       "      <td>0.26951</td>\n",
       "      <td>18.9447</td>\n",
       "      <td>0.326625</td>\n",
       "    </tr>\n",
       "    <tr>\n",
       "      <th>5</th>\n",
       "      <td>门店6</td>\n",
       "      <td>B</td>\n",
       "      <td>0</td>\n",
       "      <td>F</td>\n",
       "    </tr>\n",
       "    <tr>\n",
       "      <th>6</th>\n",
       "      <td>门店7</td>\n",
       "      <td>0.708304</td>\n",
       "      <td>0</td>\n",
       "      <td>0</td>\n",
       "    </tr>\n",
       "    <tr>\n",
       "      <th>7</th>\n",
       "      <td>门店8</td>\n",
       "      <td>0.606003</td>\n",
       "      <td>95.629</td>\n",
       "      <td>0.422686</td>\n",
       "    </tr>\n",
       "  </tbody>\n",
       "</table>\n",
       "</div>"
      ],
      "text/plain": [
       "    门店        数量       金额        合计\n",
       "0  门店1       0.1        0         D\n",
       "1  门店2      0.99  18.2383      0.99\n",
       "2  门店3  0.382586  64.7223  0.566236\n",
       "3  门店4      0.99        C         E\n",
       "4  门店5   0.26951  18.9447  0.326625\n",
       "5  门店6         B        0         F\n",
       "6  门店7  0.708304        0         0\n",
       "7  门店8  0.606003   95.629  0.422686"
      ]
     },
     "execution_count": 64,
     "metadata": {},
     "output_type": "execute_result"
    }
   ],
   "source": [
    "df.replace('A',0.1)"
   ]
  },
  {
   "cell_type": "code",
   "execution_count": 68,
   "metadata": {},
   "outputs": [],
   "source": [
    "df['金额'].replace(0,0.22,inplace=True)"
   ]
  },
  {
   "cell_type": "markdown",
   "metadata": {},
   "source": [
    "### 替换多个值"
   ]
  },
  {
   "cell_type": "code",
   "execution_count": 69,
   "metadata": {},
   "outputs": [
    {
     "data": {
      "text/html": [
       "<div>\n",
       "<style scoped>\n",
       "    .dataframe tbody tr th:only-of-type {\n",
       "        vertical-align: middle;\n",
       "    }\n",
       "\n",
       "    .dataframe tbody tr th {\n",
       "        vertical-align: top;\n",
       "    }\n",
       "\n",
       "    .dataframe thead th {\n",
       "        text-align: right;\n",
       "    }\n",
       "</style>\n",
       "<table border=\"1\" class=\"dataframe\">\n",
       "  <thead>\n",
       "    <tr style=\"text-align: right;\">\n",
       "      <th></th>\n",
       "      <th>门店</th>\n",
       "      <th>数量</th>\n",
       "      <th>金额</th>\n",
       "      <th>合计</th>\n",
       "    </tr>\n",
       "  </thead>\n",
       "  <tbody>\n",
       "    <tr>\n",
       "      <th>0</th>\n",
       "      <td>门店1</td>\n",
       "      <td>0.1</td>\n",
       "      <td>0.220000</td>\n",
       "      <td>D</td>\n",
       "    </tr>\n",
       "    <tr>\n",
       "      <th>1</th>\n",
       "      <td>门店2</td>\n",
       "      <td>0.99</td>\n",
       "      <td>18.238338</td>\n",
       "      <td>0.99</td>\n",
       "    </tr>\n",
       "    <tr>\n",
       "      <th>2</th>\n",
       "      <td>门店3</td>\n",
       "      <td>0.382586</td>\n",
       "      <td>64.722255</td>\n",
       "      <td>0.566236</td>\n",
       "    </tr>\n",
       "    <tr>\n",
       "      <th>3</th>\n",
       "      <td>门店4</td>\n",
       "      <td>0.99</td>\n",
       "      <td>0.880000</td>\n",
       "      <td>E</td>\n",
       "    </tr>\n",
       "    <tr>\n",
       "      <th>4</th>\n",
       "      <td>门店5</td>\n",
       "      <td>0.26951</td>\n",
       "      <td>18.944699</td>\n",
       "      <td>0.326625</td>\n",
       "    </tr>\n",
       "    <tr>\n",
       "      <th>5</th>\n",
       "      <td>门店6</td>\n",
       "      <td>B</td>\n",
       "      <td>0.220000</td>\n",
       "      <td>0.777</td>\n",
       "    </tr>\n",
       "    <tr>\n",
       "      <th>6</th>\n",
       "      <td>门店7</td>\n",
       "      <td>0.708304</td>\n",
       "      <td>0.220000</td>\n",
       "      <td>0</td>\n",
       "    </tr>\n",
       "    <tr>\n",
       "      <th>7</th>\n",
       "      <td>门店8</td>\n",
       "      <td>0.606003</td>\n",
       "      <td>95.628993</td>\n",
       "      <td>0.422686</td>\n",
       "    </tr>\n",
       "  </tbody>\n",
       "</table>\n",
       "</div>"
      ],
      "text/plain": [
       "    门店        数量         金额        合计\n",
       "0  门店1       0.1   0.220000         D\n",
       "1  门店2      0.99  18.238338      0.99\n",
       "2  门店3  0.382586  64.722255  0.566236\n",
       "3  门店4      0.99   0.880000         E\n",
       "4  门店5   0.26951  18.944699  0.326625\n",
       "5  门店6         B   0.220000     0.777\n",
       "6  门店7  0.708304   0.220000         0\n",
       "7  门店8  0.606003  95.628993  0.422686"
      ]
     },
     "execution_count": 69,
     "metadata": {},
     "output_type": "execute_result"
    }
   ],
   "source": [
    "df.replace({'C':0.88,'F':0.777})"
   ]
  },
  {
   "cell_type": "code",
   "execution_count": 70,
   "metadata": {},
   "outputs": [
    {
     "data": {
      "text/html": [
       "<div>\n",
       "<style scoped>\n",
       "    .dataframe tbody tr th:only-of-type {\n",
       "        vertical-align: middle;\n",
       "    }\n",
       "\n",
       "    .dataframe tbody tr th {\n",
       "        vertical-align: top;\n",
       "    }\n",
       "\n",
       "    .dataframe thead th {\n",
       "        text-align: right;\n",
       "    }\n",
       "</style>\n",
       "<table border=\"1\" class=\"dataframe\">\n",
       "  <thead>\n",
       "    <tr style=\"text-align: right;\">\n",
       "      <th></th>\n",
       "      <th>门店</th>\n",
       "      <th>数量</th>\n",
       "      <th>金额</th>\n",
       "      <th>合计</th>\n",
       "    </tr>\n",
       "  </thead>\n",
       "  <tbody>\n",
       "    <tr>\n",
       "      <th>0</th>\n",
       "      <td>门店1</td>\n",
       "      <td>0.100000</td>\n",
       "      <td>0.220000</td>\n",
       "      <td>0.990000</td>\n",
       "    </tr>\n",
       "    <tr>\n",
       "      <th>1</th>\n",
       "      <td>门店2</td>\n",
       "      <td>0.990000</td>\n",
       "      <td>18.238338</td>\n",
       "      <td>0.990000</td>\n",
       "    </tr>\n",
       "    <tr>\n",
       "      <th>2</th>\n",
       "      <td>门店3</td>\n",
       "      <td>0.382586</td>\n",
       "      <td>64.722255</td>\n",
       "      <td>0.566236</td>\n",
       "    </tr>\n",
       "    <tr>\n",
       "      <th>3</th>\n",
       "      <td>门店4</td>\n",
       "      <td>0.990000</td>\n",
       "      <td>0.990000</td>\n",
       "      <td>0.990000</td>\n",
       "    </tr>\n",
       "    <tr>\n",
       "      <th>4</th>\n",
       "      <td>门店5</td>\n",
       "      <td>0.269510</td>\n",
       "      <td>18.944699</td>\n",
       "      <td>0.326625</td>\n",
       "    </tr>\n",
       "    <tr>\n",
       "      <th>5</th>\n",
       "      <td>门店6</td>\n",
       "      <td>0.990000</td>\n",
       "      <td>0.220000</td>\n",
       "      <td>0.990000</td>\n",
       "    </tr>\n",
       "    <tr>\n",
       "      <th>6</th>\n",
       "      <td>门店7</td>\n",
       "      <td>0.708304</td>\n",
       "      <td>0.220000</td>\n",
       "      <td>0.000000</td>\n",
       "    </tr>\n",
       "    <tr>\n",
       "      <th>7</th>\n",
       "      <td>门店8</td>\n",
       "      <td>0.606003</td>\n",
       "      <td>95.628993</td>\n",
       "      <td>0.422686</td>\n",
       "    </tr>\n",
       "  </tbody>\n",
       "</table>\n",
       "</div>"
      ],
      "text/plain": [
       "    门店        数量         金额        合计\n",
       "0  门店1  0.100000   0.220000  0.990000\n",
       "1  门店2  0.990000  18.238338  0.990000\n",
       "2  门店3  0.382586  64.722255  0.566236\n",
       "3  门店4  0.990000   0.990000  0.990000\n",
       "4  门店5  0.269510  18.944699  0.326625\n",
       "5  门店6  0.990000   0.220000  0.990000\n",
       "6  门店7  0.708304   0.220000  0.000000\n",
       "7  门店8  0.606003  95.628993  0.422686"
      ]
     },
     "execution_count": 70,
     "metadata": {},
     "output_type": "execute_result"
    }
   ],
   "source": [
    "df.replace('[A-Z]',0.99,regex=True)"
   ]
  },
  {
   "cell_type": "markdown",
   "metadata": {},
   "source": [
    "### 修改数据的部分内容"
   ]
  },
  {
   "cell_type": "code",
   "execution_count": 79,
   "metadata": {
    "scrolled": true
   },
   "outputs": [
    {
     "data": {
      "text/html": [
       "<div>\n",
       "<style scoped>\n",
       "    .dataframe tbody tr th:only-of-type {\n",
       "        vertical-align: middle;\n",
       "    }\n",
       "\n",
       "    .dataframe tbody tr th {\n",
       "        vertical-align: top;\n",
       "    }\n",
       "\n",
       "    .dataframe thead th {\n",
       "        text-align: right;\n",
       "    }\n",
       "</style>\n",
       "<table border=\"1\" class=\"dataframe\">\n",
       "  <thead>\n",
       "    <tr style=\"text-align: right;\">\n",
       "      <th></th>\n",
       "      <th>门店</th>\n",
       "      <th>数量</th>\n",
       "      <th>金额</th>\n",
       "      <th>合计</th>\n",
       "    </tr>\n",
       "  </thead>\n",
       "  <tbody>\n",
       "    <tr>\n",
       "      <th>0</th>\n",
       "      <td>Store1</td>\n",
       "      <td>A</td>\n",
       "      <td>0</td>\n",
       "      <td>D</td>\n",
       "    </tr>\n",
       "    <tr>\n",
       "      <th>1</th>\n",
       "      <td>Store2</td>\n",
       "      <td>0.99</td>\n",
       "      <td>18.2383</td>\n",
       "      <td>0.99</td>\n",
       "    </tr>\n",
       "    <tr>\n",
       "      <th>2</th>\n",
       "      <td>Store3</td>\n",
       "      <td>0.382586</td>\n",
       "      <td>64.7223</td>\n",
       "      <td>0.566236</td>\n",
       "    </tr>\n",
       "    <tr>\n",
       "      <th>3</th>\n",
       "      <td>Store4</td>\n",
       "      <td>0.99</td>\n",
       "      <td>C</td>\n",
       "      <td>E</td>\n",
       "    </tr>\n",
       "    <tr>\n",
       "      <th>4</th>\n",
       "      <td>Store5</td>\n",
       "      <td>0.26951</td>\n",
       "      <td>18.9447</td>\n",
       "      <td>0.326625</td>\n",
       "    </tr>\n",
       "    <tr>\n",
       "      <th>5</th>\n",
       "      <td>Store6</td>\n",
       "      <td>B</td>\n",
       "      <td>0</td>\n",
       "      <td>F</td>\n",
       "    </tr>\n",
       "    <tr>\n",
       "      <th>6</th>\n",
       "      <td>Store7</td>\n",
       "      <td>0.708304</td>\n",
       "      <td>0</td>\n",
       "      <td>0</td>\n",
       "    </tr>\n",
       "    <tr>\n",
       "      <th>7</th>\n",
       "      <td>Store8</td>\n",
       "      <td>0.606003</td>\n",
       "      <td>95.629</td>\n",
       "      <td>0.422686</td>\n",
       "    </tr>\n",
       "  </tbody>\n",
       "</table>\n",
       "</div>"
      ],
      "text/plain": [
       "       门店        数量       金额        合计\n",
       "0  Store1         A        0         D\n",
       "1  Store2      0.99  18.2383      0.99\n",
       "2  Store3  0.382586  64.7223  0.566236\n",
       "3  Store4      0.99        C         E\n",
       "4  Store5   0.26951  18.9447  0.326625\n",
       "5  Store6         B        0         F\n",
       "6  Store7  0.708304        0         0\n",
       "7  Store8  0.606003   95.629  0.422686"
      ]
     },
     "execution_count": 79,
     "metadata": {},
     "output_type": "execute_result"
    }
   ],
   "source": [
    "df['门店']=df['门店'].str.replace('门店','Store')\n",
    "df"
   ]
  },
  {
   "cell_type": "code",
   "execution_count": 80,
   "metadata": {},
   "outputs": [
    {
     "data": {
      "text/html": [
       "<div>\n",
       "<style scoped>\n",
       "    .dataframe tbody tr th:only-of-type {\n",
       "        vertical-align: middle;\n",
       "    }\n",
       "\n",
       "    .dataframe tbody tr th {\n",
       "        vertical-align: top;\n",
       "    }\n",
       "\n",
       "    .dataframe thead th {\n",
       "        text-align: right;\n",
       "    }\n",
       "</style>\n",
       "<table border=\"1\" class=\"dataframe\">\n",
       "  <thead>\n",
       "    <tr style=\"text-align: right;\">\n",
       "      <th></th>\n",
       "      <th>门店</th>\n",
       "      <th>数量</th>\n",
       "      <th>金额</th>\n",
       "      <th>合计</th>\n",
       "    </tr>\n",
       "  </thead>\n",
       "  <tbody>\n",
       "    <tr>\n",
       "      <th>0</th>\n",
       "      <td>门店1</td>\n",
       "      <td>NaN</td>\n",
       "      <td>0.872744</td>\n",
       "      <td>NaN</td>\n",
       "    </tr>\n",
       "    <tr>\n",
       "      <th>1</th>\n",
       "      <td>门店2</td>\n",
       "      <td>0.306160</td>\n",
       "      <td>0.541637</td>\n",
       "      <td>0.376079</td>\n",
       "    </tr>\n",
       "    <tr>\n",
       "      <th>2</th>\n",
       "      <td>门店3</td>\n",
       "      <td>0.621357</td>\n",
       "      <td>0.408676</td>\n",
       "      <td>0.391416</td>\n",
       "    </tr>\n",
       "    <tr>\n",
       "      <th>3</th>\n",
       "      <td>门店4</td>\n",
       "      <td>0.553797</td>\n",
       "      <td>NaN</td>\n",
       "      <td>NaN</td>\n",
       "    </tr>\n",
       "    <tr>\n",
       "      <th>4</th>\n",
       "      <td>门店5</td>\n",
       "      <td>0.245860</td>\n",
       "      <td>0.512827</td>\n",
       "      <td>0.271957</td>\n",
       "    </tr>\n",
       "    <tr>\n",
       "      <th>5</th>\n",
       "      <td>门店6</td>\n",
       "      <td>NaN</td>\n",
       "      <td>0.032238</td>\n",
       "      <td>NaN</td>\n",
       "    </tr>\n",
       "    <tr>\n",
       "      <th>6</th>\n",
       "      <td>门店7</td>\n",
       "      <td>0.168084</td>\n",
       "      <td>0.421530</td>\n",
       "      <td>0.829100</td>\n",
       "    </tr>\n",
       "    <tr>\n",
       "      <th>7</th>\n",
       "      <td>门店8</td>\n",
       "      <td>0.789963</td>\n",
       "      <td>0.278334</td>\n",
       "      <td>0.832216</td>\n",
       "    </tr>\n",
       "  </tbody>\n",
       "</table>\n",
       "</div>"
      ],
      "text/plain": [
       "    门店        数量        金额        合计\n",
       "0  门店1       NaN  0.872744       NaN\n",
       "1  门店2  0.306160  0.541637  0.376079\n",
       "2  门店3  0.621357  0.408676  0.391416\n",
       "3  门店4  0.553797       NaN       NaN\n",
       "4  门店5  0.245860  0.512827  0.271957\n",
       "5  门店6       NaN  0.032238       NaN\n",
       "6  门店7  0.168084  0.421530  0.829100\n",
       "7  门店8  0.789963  0.278334  0.832216"
      ]
     },
     "execution_count": 80,
     "metadata": {},
     "output_type": "execute_result"
    }
   ],
   "source": [
    "df=pd.read_excel(r'C:\\Users\\shifeng.tian\\Desktop\\Python学习\\test2.xlsx')\n",
    "df"
   ]
  },
  {
   "cell_type": "markdown",
   "metadata": {},
   "source": [
    "## 填充缺失值fillna()"
   ]
  },
  {
   "cell_type": "markdown",
   "metadata": {},
   "source": [
    "### 填充"
   ]
  },
  {
   "cell_type": "code",
   "execution_count": 81,
   "metadata": {
    "scrolled": true
   },
   "outputs": [
    {
     "data": {
      "text/html": [
       "<div>\n",
       "<style scoped>\n",
       "    .dataframe tbody tr th:only-of-type {\n",
       "        vertical-align: middle;\n",
       "    }\n",
       "\n",
       "    .dataframe tbody tr th {\n",
       "        vertical-align: top;\n",
       "    }\n",
       "\n",
       "    .dataframe thead th {\n",
       "        text-align: right;\n",
       "    }\n",
       "</style>\n",
       "<table border=\"1\" class=\"dataframe\">\n",
       "  <thead>\n",
       "    <tr style=\"text-align: right;\">\n",
       "      <th></th>\n",
       "      <th>门店</th>\n",
       "      <th>数量</th>\n",
       "      <th>金额</th>\n",
       "      <th>合计</th>\n",
       "    </tr>\n",
       "  </thead>\n",
       "  <tbody>\n",
       "    <tr>\n",
       "      <th>0</th>\n",
       "      <td>门店1</td>\n",
       "      <td>0.000000</td>\n",
       "      <td>0.872744</td>\n",
       "      <td>NaN</td>\n",
       "    </tr>\n",
       "    <tr>\n",
       "      <th>1</th>\n",
       "      <td>门店2</td>\n",
       "      <td>0.306160</td>\n",
       "      <td>0.541637</td>\n",
       "      <td>0.376079</td>\n",
       "    </tr>\n",
       "    <tr>\n",
       "      <th>2</th>\n",
       "      <td>门店3</td>\n",
       "      <td>0.621357</td>\n",
       "      <td>0.408676</td>\n",
       "      <td>0.391416</td>\n",
       "    </tr>\n",
       "    <tr>\n",
       "      <th>3</th>\n",
       "      <td>门店4</td>\n",
       "      <td>0.553797</td>\n",
       "      <td>NaN</td>\n",
       "      <td>NaN</td>\n",
       "    </tr>\n",
       "    <tr>\n",
       "      <th>4</th>\n",
       "      <td>门店5</td>\n",
       "      <td>0.245860</td>\n",
       "      <td>0.512827</td>\n",
       "      <td>0.271957</td>\n",
       "    </tr>\n",
       "    <tr>\n",
       "      <th>5</th>\n",
       "      <td>门店6</td>\n",
       "      <td>0.000000</td>\n",
       "      <td>0.032238</td>\n",
       "      <td>NaN</td>\n",
       "    </tr>\n",
       "    <tr>\n",
       "      <th>6</th>\n",
       "      <td>门店7</td>\n",
       "      <td>0.168084</td>\n",
       "      <td>0.421530</td>\n",
       "      <td>0.829100</td>\n",
       "    </tr>\n",
       "    <tr>\n",
       "      <th>7</th>\n",
       "      <td>门店8</td>\n",
       "      <td>0.789963</td>\n",
       "      <td>0.278334</td>\n",
       "      <td>0.832216</td>\n",
       "    </tr>\n",
       "  </tbody>\n",
       "</table>\n",
       "</div>"
      ],
      "text/plain": [
       "    门店        数量        金额        合计\n",
       "0  门店1  0.000000  0.872744       NaN\n",
       "1  门店2  0.306160  0.541637  0.376079\n",
       "2  门店3  0.621357  0.408676  0.391416\n",
       "3  门店4  0.553797       NaN       NaN\n",
       "4  门店5  0.245860  0.512827  0.271957\n",
       "5  门店6  0.000000  0.032238       NaN\n",
       "6  门店7  0.168084  0.421530  0.829100\n",
       "7  门店8  0.789963  0.278334  0.832216"
      ]
     },
     "execution_count": 81,
     "metadata": {},
     "output_type": "execute_result"
    }
   ],
   "source": [
    "df['数量'].fillna(0,inplace=True)\n",
    "df"
   ]
  },
  {
   "cell_type": "code",
   "execution_count": 88,
   "metadata": {
    "scrolled": true
   },
   "outputs": [
    {
     "data": {
      "text/html": [
       "<div>\n",
       "<style scoped>\n",
       "    .dataframe tbody tr th:only-of-type {\n",
       "        vertical-align: middle;\n",
       "    }\n",
       "\n",
       "    .dataframe tbody tr th {\n",
       "        vertical-align: top;\n",
       "    }\n",
       "\n",
       "    .dataframe thead th {\n",
       "        text-align: right;\n",
       "    }\n",
       "</style>\n",
       "<table border=\"1\" class=\"dataframe\">\n",
       "  <thead>\n",
       "    <tr style=\"text-align: right;\">\n",
       "      <th></th>\n",
       "      <th>门店</th>\n",
       "      <th>数量</th>\n",
       "      <th>金额</th>\n",
       "      <th>合计</th>\n",
       "    </tr>\n",
       "  </thead>\n",
       "  <tbody>\n",
       "    <tr>\n",
       "      <th>0</th>\n",
       "      <td>门店1</td>\n",
       "      <td>0.000000</td>\n",
       "      <td>0.872744</td>\n",
       "      <td>NaN</td>\n",
       "    </tr>\n",
       "    <tr>\n",
       "      <th>1</th>\n",
       "      <td>门店2</td>\n",
       "      <td>0.306160</td>\n",
       "      <td>0.541637</td>\n",
       "      <td>0.376079</td>\n",
       "    </tr>\n",
       "    <tr>\n",
       "      <th>2</th>\n",
       "      <td>门店3</td>\n",
       "      <td>0.621357</td>\n",
       "      <td>0.408676</td>\n",
       "      <td>0.391416</td>\n",
       "    </tr>\n",
       "    <tr>\n",
       "      <th>3</th>\n",
       "      <td>门店4</td>\n",
       "      <td>0.553797</td>\n",
       "      <td>0.408676</td>\n",
       "      <td>0.391416</td>\n",
       "    </tr>\n",
       "    <tr>\n",
       "      <th>4</th>\n",
       "      <td>门店5</td>\n",
       "      <td>0.245860</td>\n",
       "      <td>0.512827</td>\n",
       "      <td>0.271957</td>\n",
       "    </tr>\n",
       "    <tr>\n",
       "      <th>5</th>\n",
       "      <td>门店6</td>\n",
       "      <td>0.000000</td>\n",
       "      <td>0.032238</td>\n",
       "      <td>0.271957</td>\n",
       "    </tr>\n",
       "    <tr>\n",
       "      <th>6</th>\n",
       "      <td>门店7</td>\n",
       "      <td>0.168084</td>\n",
       "      <td>0.421530</td>\n",
       "      <td>0.829100</td>\n",
       "    </tr>\n",
       "    <tr>\n",
       "      <th>7</th>\n",
       "      <td>门店8</td>\n",
       "      <td>0.789963</td>\n",
       "      <td>0.278334</td>\n",
       "      <td>0.832216</td>\n",
       "    </tr>\n",
       "  </tbody>\n",
       "</table>\n",
       "</div>"
      ],
      "text/plain": [
       "    门店        数量        金额        合计\n",
       "0  门店1  0.000000  0.872744       NaN\n",
       "1  门店2  0.306160  0.541637  0.376079\n",
       "2  门店3  0.621357  0.408676  0.391416\n",
       "3  门店4  0.553797  0.408676  0.391416\n",
       "4  门店5  0.245860  0.512827  0.271957\n",
       "5  门店6  0.000000  0.032238  0.271957\n",
       "6  门店7  0.168084  0.421530  0.829100\n",
       "7  门店8  0.789963  0.278334  0.832216"
      ]
     },
     "execution_count": 88,
     "metadata": {},
     "output_type": "execute_result"
    }
   ],
   "source": [
    "df.fillna(method='ffill')"
   ]
  },
  {
   "cell_type": "code",
   "execution_count": 97,
   "metadata": {},
   "outputs": [
    {
     "data": {
      "text/html": [
       "<div>\n",
       "<style scoped>\n",
       "    .dataframe tbody tr th:only-of-type {\n",
       "        vertical-align: middle;\n",
       "    }\n",
       "\n",
       "    .dataframe tbody tr th {\n",
       "        vertical-align: top;\n",
       "    }\n",
       "\n",
       "    .dataframe thead th {\n",
       "        text-align: right;\n",
       "    }\n",
       "</style>\n",
       "<table border=\"1\" class=\"dataframe\">\n",
       "  <thead>\n",
       "    <tr style=\"text-align: right;\">\n",
       "      <th></th>\n",
       "      <th>门店</th>\n",
       "      <th>数量</th>\n",
       "      <th>金额</th>\n",
       "      <th>合计</th>\n",
       "    </tr>\n",
       "  </thead>\n",
       "  <tbody>\n",
       "    <tr>\n",
       "      <th>0</th>\n",
       "      <td>门店1</td>\n",
       "      <td>0.000000</td>\n",
       "      <td>0.872744</td>\n",
       "      <td>NaN</td>\n",
       "    </tr>\n",
       "    <tr>\n",
       "      <th>1</th>\n",
       "      <td>门店2</td>\n",
       "      <td>0.306160</td>\n",
       "      <td>0.541637</td>\n",
       "      <td>0.376079</td>\n",
       "    </tr>\n",
       "    <tr>\n",
       "      <th>2</th>\n",
       "      <td>门店3</td>\n",
       "      <td>0.621357</td>\n",
       "      <td>0.408676</td>\n",
       "      <td>0.391416</td>\n",
       "    </tr>\n",
       "    <tr>\n",
       "      <th>3</th>\n",
       "      <td>门店4</td>\n",
       "      <td>0.553797</td>\n",
       "      <td>NaN</td>\n",
       "      <td>NaN</td>\n",
       "    </tr>\n",
       "    <tr>\n",
       "      <th>4</th>\n",
       "      <td>门店5</td>\n",
       "      <td>0.245860</td>\n",
       "      <td>0.512827</td>\n",
       "      <td>0.271957</td>\n",
       "    </tr>\n",
       "    <tr>\n",
       "      <th>5</th>\n",
       "      <td>门店6</td>\n",
       "      <td>0.000000</td>\n",
       "      <td>0.032238</td>\n",
       "      <td>NaN</td>\n",
       "    </tr>\n",
       "    <tr>\n",
       "      <th>6</th>\n",
       "      <td>门店7</td>\n",
       "      <td>0.168084</td>\n",
       "      <td>0.421530</td>\n",
       "      <td>0.829100</td>\n",
       "    </tr>\n",
       "    <tr>\n",
       "      <th>7</th>\n",
       "      <td>门店8</td>\n",
       "      <td>0.789963</td>\n",
       "      <td>0.278334</td>\n",
       "      <td>0.832216</td>\n",
       "    </tr>\n",
       "  </tbody>\n",
       "</table>\n",
       "</div>"
      ],
      "text/plain": [
       "    门店        数量        金额        合计\n",
       "0  门店1  0.000000  0.872744       NaN\n",
       "1  门店2  0.306160  0.541637  0.376079\n",
       "2  门店3  0.621357  0.408676  0.391416\n",
       "3  门店4  0.553797       NaN       NaN\n",
       "4  门店5  0.245860  0.512827  0.271957\n",
       "5  门店6  0.000000  0.032238       NaN\n",
       "6  门店7  0.168084  0.421530  0.829100\n",
       "7  门店8  0.789963  0.278334  0.832216"
      ]
     },
     "execution_count": 97,
     "metadata": {},
     "output_type": "execute_result"
    }
   ],
   "source": [
    "df"
   ]
  },
  {
   "cell_type": "code",
   "execution_count": 98,
   "metadata": {
    "scrolled": false
   },
   "outputs": [
    {
     "data": {
      "text/html": [
       "<div>\n",
       "<style scoped>\n",
       "    .dataframe tbody tr th:only-of-type {\n",
       "        vertical-align: middle;\n",
       "    }\n",
       "\n",
       "    .dataframe tbody tr th {\n",
       "        vertical-align: top;\n",
       "    }\n",
       "\n",
       "    .dataframe thead th {\n",
       "        text-align: right;\n",
       "    }\n",
       "</style>\n",
       "<table border=\"1\" class=\"dataframe\">\n",
       "  <thead>\n",
       "    <tr style=\"text-align: right;\">\n",
       "      <th></th>\n",
       "      <th>门店</th>\n",
       "      <th>数量</th>\n",
       "      <th>金额</th>\n",
       "      <th>合计</th>\n",
       "    </tr>\n",
       "  </thead>\n",
       "  <tbody>\n",
       "    <tr>\n",
       "      <th>0</th>\n",
       "      <td>门店1</td>\n",
       "      <td>0.000000</td>\n",
       "      <td>0.872744</td>\n",
       "      <td>0.540154</td>\n",
       "    </tr>\n",
       "    <tr>\n",
       "      <th>1</th>\n",
       "      <td>门店2</td>\n",
       "      <td>0.306160</td>\n",
       "      <td>0.541637</td>\n",
       "      <td>0.376079</td>\n",
       "    </tr>\n",
       "    <tr>\n",
       "      <th>2</th>\n",
       "      <td>门店3</td>\n",
       "      <td>0.621357</td>\n",
       "      <td>0.408676</td>\n",
       "      <td>0.391416</td>\n",
       "    </tr>\n",
       "    <tr>\n",
       "      <th>3</th>\n",
       "      <td>门店4</td>\n",
       "      <td>0.553797</td>\n",
       "      <td>0.438284</td>\n",
       "      <td>0.540154</td>\n",
       "    </tr>\n",
       "    <tr>\n",
       "      <th>4</th>\n",
       "      <td>门店5</td>\n",
       "      <td>0.245860</td>\n",
       "      <td>0.512827</td>\n",
       "      <td>0.271957</td>\n",
       "    </tr>\n",
       "    <tr>\n",
       "      <th>5</th>\n",
       "      <td>门店6</td>\n",
       "      <td>0.000000</td>\n",
       "      <td>0.032238</td>\n",
       "      <td>0.540154</td>\n",
       "    </tr>\n",
       "    <tr>\n",
       "      <th>6</th>\n",
       "      <td>门店7</td>\n",
       "      <td>0.168084</td>\n",
       "      <td>0.421530</td>\n",
       "      <td>0.829100</td>\n",
       "    </tr>\n",
       "    <tr>\n",
       "      <th>7</th>\n",
       "      <td>门店8</td>\n",
       "      <td>0.789963</td>\n",
       "      <td>0.278334</td>\n",
       "      <td>0.832216</td>\n",
       "    </tr>\n",
       "  </tbody>\n",
       "</table>\n",
       "</div>"
      ],
      "text/plain": [
       "    门店        数量        金额        合计\n",
       "0  门店1  0.000000  0.872744  0.540154\n",
       "1  门店2  0.306160  0.541637  0.376079\n",
       "2  门店3  0.621357  0.408676  0.391416\n",
       "3  门店4  0.553797  0.438284  0.540154\n",
       "4  门店5  0.245860  0.512827  0.271957\n",
       "5  门店6  0.000000  0.032238  0.540154\n",
       "6  门店7  0.168084  0.421530  0.829100\n",
       "7  门店8  0.789963  0.278334  0.832216"
      ]
     },
     "execution_count": 98,
     "metadata": {},
     "output_type": "execute_result"
    }
   ],
   "source": [
    "df.fillna(df.mean())"
   ]
  },
  {
   "cell_type": "markdown",
   "metadata": {},
   "source": [
    "### 判断是否有缺失值"
   ]
  },
  {
   "cell_type": "code",
   "execution_count": 99,
   "metadata": {},
   "outputs": [
    {
     "data": {
      "text/html": [
       "<div>\n",
       "<style scoped>\n",
       "    .dataframe tbody tr th:only-of-type {\n",
       "        vertical-align: middle;\n",
       "    }\n",
       "\n",
       "    .dataframe tbody tr th {\n",
       "        vertical-align: top;\n",
       "    }\n",
       "\n",
       "    .dataframe thead th {\n",
       "        text-align: right;\n",
       "    }\n",
       "</style>\n",
       "<table border=\"1\" class=\"dataframe\">\n",
       "  <thead>\n",
       "    <tr style=\"text-align: right;\">\n",
       "      <th></th>\n",
       "      <th>门店</th>\n",
       "      <th>数量</th>\n",
       "      <th>金额</th>\n",
       "      <th>合计</th>\n",
       "    </tr>\n",
       "  </thead>\n",
       "  <tbody>\n",
       "    <tr>\n",
       "      <th>0</th>\n",
       "      <td>False</td>\n",
       "      <td>False</td>\n",
       "      <td>False</td>\n",
       "      <td>True</td>\n",
       "    </tr>\n",
       "    <tr>\n",
       "      <th>1</th>\n",
       "      <td>False</td>\n",
       "      <td>False</td>\n",
       "      <td>False</td>\n",
       "      <td>False</td>\n",
       "    </tr>\n",
       "    <tr>\n",
       "      <th>2</th>\n",
       "      <td>False</td>\n",
       "      <td>False</td>\n",
       "      <td>False</td>\n",
       "      <td>False</td>\n",
       "    </tr>\n",
       "    <tr>\n",
       "      <th>3</th>\n",
       "      <td>False</td>\n",
       "      <td>False</td>\n",
       "      <td>True</td>\n",
       "      <td>True</td>\n",
       "    </tr>\n",
       "    <tr>\n",
       "      <th>4</th>\n",
       "      <td>False</td>\n",
       "      <td>False</td>\n",
       "      <td>False</td>\n",
       "      <td>False</td>\n",
       "    </tr>\n",
       "    <tr>\n",
       "      <th>5</th>\n",
       "      <td>False</td>\n",
       "      <td>False</td>\n",
       "      <td>False</td>\n",
       "      <td>True</td>\n",
       "    </tr>\n",
       "    <tr>\n",
       "      <th>6</th>\n",
       "      <td>False</td>\n",
       "      <td>False</td>\n",
       "      <td>False</td>\n",
       "      <td>False</td>\n",
       "    </tr>\n",
       "    <tr>\n",
       "      <th>7</th>\n",
       "      <td>False</td>\n",
       "      <td>False</td>\n",
       "      <td>False</td>\n",
       "      <td>False</td>\n",
       "    </tr>\n",
       "  </tbody>\n",
       "</table>\n",
       "</div>"
      ],
      "text/plain": [
       "      门店     数量     金额     合计\n",
       "0  False  False  False   True\n",
       "1  False  False  False  False\n",
       "2  False  False  False  False\n",
       "3  False  False   True   True\n",
       "4  False  False  False  False\n",
       "5  False  False  False   True\n",
       "6  False  False  False  False\n",
       "7  False  False  False  False"
      ]
     },
     "execution_count": 99,
     "metadata": {},
     "output_type": "execute_result"
    }
   ],
   "source": [
    "df.isnull()"
   ]
  },
  {
   "cell_type": "code",
   "execution_count": 100,
   "metadata": {},
   "outputs": [
    {
     "data": {
      "text/html": [
       "<div>\n",
       "<style scoped>\n",
       "    .dataframe tbody tr th:only-of-type {\n",
       "        vertical-align: middle;\n",
       "    }\n",
       "\n",
       "    .dataframe tbody tr th {\n",
       "        vertical-align: top;\n",
       "    }\n",
       "\n",
       "    .dataframe thead th {\n",
       "        text-align: right;\n",
       "    }\n",
       "</style>\n",
       "<table border=\"1\" class=\"dataframe\">\n",
       "  <thead>\n",
       "    <tr style=\"text-align: right;\">\n",
       "      <th></th>\n",
       "      <th>门店</th>\n",
       "      <th>数量</th>\n",
       "      <th>金额</th>\n",
       "      <th>合计</th>\n",
       "    </tr>\n",
       "  </thead>\n",
       "  <tbody>\n",
       "    <tr>\n",
       "      <th>count</th>\n",
       "      <td>8</td>\n",
       "      <td>8</td>\n",
       "      <td>8</td>\n",
       "      <td>8</td>\n",
       "    </tr>\n",
       "    <tr>\n",
       "      <th>unique</th>\n",
       "      <td>1</td>\n",
       "      <td>1</td>\n",
       "      <td>2</td>\n",
       "      <td>2</td>\n",
       "    </tr>\n",
       "    <tr>\n",
       "      <th>top</th>\n",
       "      <td>False</td>\n",
       "      <td>False</td>\n",
       "      <td>False</td>\n",
       "      <td>False</td>\n",
       "    </tr>\n",
       "    <tr>\n",
       "      <th>freq</th>\n",
       "      <td>8</td>\n",
       "      <td>8</td>\n",
       "      <td>7</td>\n",
       "      <td>5</td>\n",
       "    </tr>\n",
       "  </tbody>\n",
       "</table>\n",
       "</div>"
      ],
      "text/plain": [
       "           门店     数量     金额     合计\n",
       "count       8      8      8      8\n",
       "unique      1      1      2      2\n",
       "top     False  False  False  False\n",
       "freq        8      8      7      5"
      ]
     },
     "execution_count": 100,
     "metadata": {},
     "output_type": "execute_result"
    }
   ],
   "source": [
    "df.isnull().describe()"
   ]
  },
  {
   "cell_type": "markdown",
   "metadata": {},
   "source": [
    "## 设置数字格式，小数位数、百分号、千位分隔符"
   ]
  },
  {
   "cell_type": "code",
   "execution_count": 101,
   "metadata": {},
   "outputs": [
    {
     "data": {
      "text/html": [
       "<div>\n",
       "<style scoped>\n",
       "    .dataframe tbody tr th:only-of-type {\n",
       "        vertical-align: middle;\n",
       "    }\n",
       "\n",
       "    .dataframe tbody tr th {\n",
       "        vertical-align: top;\n",
       "    }\n",
       "\n",
       "    .dataframe thead th {\n",
       "        text-align: right;\n",
       "    }\n",
       "</style>\n",
       "<table border=\"1\" class=\"dataframe\">\n",
       "  <thead>\n",
       "    <tr style=\"text-align: right;\">\n",
       "      <th></th>\n",
       "      <th>名称</th>\n",
       "      <th>占比</th>\n",
       "      <th>金额</th>\n",
       "    </tr>\n",
       "  </thead>\n",
       "  <tbody>\n",
       "    <tr>\n",
       "      <th>0</th>\n",
       "      <td>产品1</td>\n",
       "      <td>0.850892</td>\n",
       "      <td>0.248592</td>\n",
       "    </tr>\n",
       "    <tr>\n",
       "      <th>1</th>\n",
       "      <td>产品2</td>\n",
       "      <td>0.294165</td>\n",
       "      <td>0.173945</td>\n",
       "    </tr>\n",
       "    <tr>\n",
       "      <th>2</th>\n",
       "      <td>产品3</td>\n",
       "      <td>0.206024</td>\n",
       "      <td>0.276788</td>\n",
       "    </tr>\n",
       "    <tr>\n",
       "      <th>3</th>\n",
       "      <td>产品4</td>\n",
       "      <td>0.537325</td>\n",
       "      <td>0.552235</td>\n",
       "    </tr>\n",
       "    <tr>\n",
       "      <th>4</th>\n",
       "      <td>产品5</td>\n",
       "      <td>0.740609</td>\n",
       "      <td>0.044907</td>\n",
       "    </tr>\n",
       "    <tr>\n",
       "      <th>5</th>\n",
       "      <td>产品6</td>\n",
       "      <td>0.965532</td>\n",
       "      <td>0.851820</td>\n",
       "    </tr>\n",
       "    <tr>\n",
       "      <th>6</th>\n",
       "      <td>产品7</td>\n",
       "      <td>0.883014</td>\n",
       "      <td>0.088867</td>\n",
       "    </tr>\n",
       "    <tr>\n",
       "      <th>7</th>\n",
       "      <td>产品8</td>\n",
       "      <td>0.052462</td>\n",
       "      <td>0.742300</td>\n",
       "    </tr>\n",
       "  </tbody>\n",
       "</table>\n",
       "</div>"
      ],
      "text/plain": [
       "    名称        占比        金额\n",
       "0  产品1  0.850892  0.248592\n",
       "1  产品2  0.294165  0.173945\n",
       "2  产品3  0.206024  0.276788\n",
       "3  产品4  0.537325  0.552235\n",
       "4  产品5  0.740609  0.044907\n",
       "5  产品6  0.965532  0.851820\n",
       "6  产品7  0.883014  0.088867\n",
       "7  产品8  0.052462  0.742300"
      ]
     },
     "execution_count": 101,
     "metadata": {},
     "output_type": "execute_result"
    }
   ],
   "source": [
    "df=pd.read_excel(r'C:\\Users\\shifeng.tian\\Desktop\\Python学习\\test2.xlsx')\n",
    "df"
   ]
  },
  {
   "cell_type": "markdown",
   "metadata": {},
   "source": [
    "### 设置小数位数"
   ]
  },
  {
   "cell_type": "code",
   "execution_count": 102,
   "metadata": {},
   "outputs": [
    {
     "data": {
      "text/plain": [
       "0    0.25\n",
       "1    0.17\n",
       "2    0.28\n",
       "3    0.55\n",
       "4    0.04\n",
       "5    0.85\n",
       "6    0.09\n",
       "7    0.74\n",
       "Name: 金额, dtype: float64"
      ]
     },
     "execution_count": 102,
     "metadata": {},
     "output_type": "execute_result"
    }
   ],
   "source": [
    "df['金额'].round(decimals=2)"
   ]
  },
  {
   "cell_type": "code",
   "execution_count": 103,
   "metadata": {},
   "outputs": [
    {
     "data": {
      "text/html": [
       "<div>\n",
       "<style scoped>\n",
       "    .dataframe tbody tr th:only-of-type {\n",
       "        vertical-align: middle;\n",
       "    }\n",
       "\n",
       "    .dataframe tbody tr th {\n",
       "        vertical-align: top;\n",
       "    }\n",
       "\n",
       "    .dataframe thead th {\n",
       "        text-align: right;\n",
       "    }\n",
       "</style>\n",
       "<table border=\"1\" class=\"dataframe\">\n",
       "  <thead>\n",
       "    <tr style=\"text-align: right;\">\n",
       "      <th></th>\n",
       "      <th>名称</th>\n",
       "      <th>占比</th>\n",
       "      <th>金额</th>\n",
       "    </tr>\n",
       "  </thead>\n",
       "  <tbody>\n",
       "    <tr>\n",
       "      <th>0</th>\n",
       "      <td>产品1</td>\n",
       "      <td>0.850892</td>\n",
       "      <td>0.0</td>\n",
       "    </tr>\n",
       "    <tr>\n",
       "      <th>1</th>\n",
       "      <td>产品2</td>\n",
       "      <td>0.294165</td>\n",
       "      <td>0.0</td>\n",
       "    </tr>\n",
       "    <tr>\n",
       "      <th>2</th>\n",
       "      <td>产品3</td>\n",
       "      <td>0.206024</td>\n",
       "      <td>0.0</td>\n",
       "    </tr>\n",
       "    <tr>\n",
       "      <th>3</th>\n",
       "      <td>产品4</td>\n",
       "      <td>0.537325</td>\n",
       "      <td>1.0</td>\n",
       "    </tr>\n",
       "    <tr>\n",
       "      <th>4</th>\n",
       "      <td>产品5</td>\n",
       "      <td>0.740609</td>\n",
       "      <td>0.0</td>\n",
       "    </tr>\n",
       "    <tr>\n",
       "      <th>5</th>\n",
       "      <td>产品6</td>\n",
       "      <td>0.965532</td>\n",
       "      <td>1.0</td>\n",
       "    </tr>\n",
       "    <tr>\n",
       "      <th>6</th>\n",
       "      <td>产品7</td>\n",
       "      <td>0.883014</td>\n",
       "      <td>0.0</td>\n",
       "    </tr>\n",
       "    <tr>\n",
       "      <th>7</th>\n",
       "      <td>产品8</td>\n",
       "      <td>0.052462</td>\n",
       "      <td>1.0</td>\n",
       "    </tr>\n",
       "  </tbody>\n",
       "</table>\n",
       "</div>"
      ],
      "text/plain": [
       "    名称        占比   金额\n",
       "0  产品1  0.850892  0.0\n",
       "1  产品2  0.294165  0.0\n",
       "2  产品3  0.206024  0.0\n",
       "3  产品4  0.537325  1.0\n",
       "4  产品5  0.740609  0.0\n",
       "5  产品6  0.965532  1.0\n",
       "6  产品7  0.883014  0.0\n",
       "7  产品8  0.052462  1.0"
      ]
     },
     "execution_count": 103,
     "metadata": {},
     "output_type": "execute_result"
    }
   ],
   "source": [
    "df['金额']=df['金额'].round(decimals=0)\n",
    "df"
   ]
  },
  {
   "cell_type": "markdown",
   "metadata": {},
   "source": [
    "### 百分数"
   ]
  },
  {
   "cell_type": "code",
   "execution_count": 104,
   "metadata": {},
   "outputs": [
    {
     "data": {
      "text/plain": [
       "0    85.09%\n",
       "1    29.42%\n",
       "2    20.60%\n",
       "3    53.73%\n",
       "4    74.06%\n",
       "5    96.55%\n",
       "6    88.30%\n",
       "7     5.25%\n",
       "Name: 占比, dtype: object"
      ]
     },
     "execution_count": 104,
     "metadata": {},
     "output_type": "execute_result"
    }
   ],
   "source": [
    "df['占比'].map(lambda x:format(x,'.2%'))"
   ]
  },
  {
   "cell_type": "markdown",
   "metadata": {},
   "source": [
    "### 设置千分位分隔符"
   ]
  },
  {
   "cell_type": "code",
   "execution_count": 112,
   "metadata": {},
   "outputs": [
    {
     "data": {
      "text/plain": [
       "0     85,089.18010997356\n",
       "1     29,416.52904863006\n",
       "2    20,602.430992260535\n",
       "3    53,732.505692410574\n",
       "4     74,060.87513367111\n",
       "5     96,553.23639716342\n",
       "6     88,301.37337156107\n",
       "7     5,246.219362479554\n",
       "Name: 占比, dtype: object"
      ]
     },
     "execution_count": 112,
     "metadata": {},
     "output_type": "execute_result"
    }
   ],
   "source": [
    "df['占比'].map(lambda x:format(x,','))"
   ]
  },
  {
   "cell_type": "markdown",
   "metadata": {},
   "source": [
    "## 重复值标记（duplicated）与删除（drop_duplicates）"
   ]
  },
  {
   "cell_type": "markdown",
   "metadata": {},
   "source": [
    "###  重复值标记（duplicated）"
   ]
  },
  {
   "cell_type": "code",
   "execution_count": 124,
   "metadata": {},
   "outputs": [
    {
     "data": {
      "text/html": [
       "<div>\n",
       "<style scoped>\n",
       "    .dataframe tbody tr th:only-of-type {\n",
       "        vertical-align: middle;\n",
       "    }\n",
       "\n",
       "    .dataframe tbody tr th {\n",
       "        vertical-align: top;\n",
       "    }\n",
       "\n",
       "    .dataframe thead th {\n",
       "        text-align: right;\n",
       "    }\n",
       "</style>\n",
       "<table border=\"1\" class=\"dataframe\">\n",
       "  <thead>\n",
       "    <tr style=\"text-align: right;\">\n",
       "      <th></th>\n",
       "      <th>门店</th>\n",
       "      <th>销售百分比</th>\n",
       "      <th>人员数量</th>\n",
       "    </tr>\n",
       "  </thead>\n",
       "  <tbody>\n",
       "    <tr>\n",
       "      <th>0</th>\n",
       "      <td>门店4</td>\n",
       "      <td>0.831079</td>\n",
       "      <td>97.160005</td>\n",
       "    </tr>\n",
       "    <tr>\n",
       "      <th>1</th>\n",
       "      <td>门店5</td>\n",
       "      <td>0.169893</td>\n",
       "      <td>39.420558</td>\n",
       "    </tr>\n",
       "    <tr>\n",
       "      <th>2</th>\n",
       "      <td>门店5</td>\n",
       "      <td>0.169893</td>\n",
       "      <td>39.420558</td>\n",
       "    </tr>\n",
       "    <tr>\n",
       "      <th>3</th>\n",
       "      <td>门店7</td>\n",
       "      <td>0.101917</td>\n",
       "      <td>69.756824</td>\n",
       "    </tr>\n",
       "    <tr>\n",
       "      <th>4</th>\n",
       "      <td>门店8</td>\n",
       "      <td>0.799543</td>\n",
       "      <td>87.155358</td>\n",
       "    </tr>\n",
       "    <tr>\n",
       "      <th>5</th>\n",
       "      <td>门店9</td>\n",
       "      <td>0.133825</td>\n",
       "      <td>25.915100</td>\n",
       "    </tr>\n",
       "    <tr>\n",
       "      <th>6</th>\n",
       "      <td>门店9</td>\n",
       "      <td>0.133825</td>\n",
       "      <td>25.915100</td>\n",
       "    </tr>\n",
       "    <tr>\n",
       "      <th>7</th>\n",
       "      <td>门店11</td>\n",
       "      <td>0.599909</td>\n",
       "      <td>41.243928</td>\n",
       "    </tr>\n",
       "    <tr>\n",
       "      <th>8</th>\n",
       "      <td>门店12</td>\n",
       "      <td>0.628862</td>\n",
       "      <td>13.737371</td>\n",
       "    </tr>\n",
       "    <tr>\n",
       "      <th>9</th>\n",
       "      <td>门店13</td>\n",
       "      <td>0.413330</td>\n",
       "      <td>61.677469</td>\n",
       "    </tr>\n",
       "    <tr>\n",
       "      <th>10</th>\n",
       "      <td>门店14</td>\n",
       "      <td>0.577900</td>\n",
       "      <td>3.143731</td>\n",
       "    </tr>\n",
       "    <tr>\n",
       "      <th>11</th>\n",
       "      <td>门店15</td>\n",
       "      <td>0.014238</td>\n",
       "      <td>61.504983</td>\n",
       "    </tr>\n",
       "    <tr>\n",
       "      <th>12</th>\n",
       "      <td>门店16</td>\n",
       "      <td>0.196695</td>\n",
       "      <td>29.111367</td>\n",
       "    </tr>\n",
       "    <tr>\n",
       "      <th>13</th>\n",
       "      <td>门店17</td>\n",
       "      <td>0.452330</td>\n",
       "      <td>12.139342</td>\n",
       "    </tr>\n",
       "    <tr>\n",
       "      <th>14</th>\n",
       "      <td>门店17</td>\n",
       "      <td>0.452330</td>\n",
       "      <td>20.554000</td>\n",
       "    </tr>\n",
       "    <tr>\n",
       "      <th>15</th>\n",
       "      <td>门店19</td>\n",
       "      <td>0.620580</td>\n",
       "      <td>77.245607</td>\n",
       "    </tr>\n",
       "    <tr>\n",
       "      <th>16</th>\n",
       "      <td>门店20</td>\n",
       "      <td>0.676686</td>\n",
       "      <td>87.471200</td>\n",
       "    </tr>\n",
       "    <tr>\n",
       "      <th>17</th>\n",
       "      <td>门店21</td>\n",
       "      <td>0.163953</td>\n",
       "      <td>62.193299</td>\n",
       "    </tr>\n",
       "    <tr>\n",
       "      <th>18</th>\n",
       "      <td>门店22</td>\n",
       "      <td>0.113670</td>\n",
       "      <td>23.992782</td>\n",
       "    </tr>\n",
       "    <tr>\n",
       "      <th>19</th>\n",
       "      <td>门店23</td>\n",
       "      <td>0.488743</td>\n",
       "      <td>28.058654</td>\n",
       "    </tr>\n",
       "    <tr>\n",
       "      <th>20</th>\n",
       "      <td>门店24</td>\n",
       "      <td>0.357026</td>\n",
       "      <td>60.260046</td>\n",
       "    </tr>\n",
       "    <tr>\n",
       "      <th>21</th>\n",
       "      <td>门店25</td>\n",
       "      <td>0.378413</td>\n",
       "      <td>22.015977</td>\n",
       "    </tr>\n",
       "    <tr>\n",
       "      <th>22</th>\n",
       "      <td>门店26</td>\n",
       "      <td>0.135862</td>\n",
       "      <td>2.293229</td>\n",
       "    </tr>\n",
       "  </tbody>\n",
       "</table>\n",
       "</div>"
      ],
      "text/plain": [
       "      门店     销售百分比       人员数量\n",
       "0    门店4  0.831079  97.160005\n",
       "1    门店5  0.169893  39.420558\n",
       "2    门店5  0.169893  39.420558\n",
       "3    门店7  0.101917  69.756824\n",
       "4    门店8  0.799543  87.155358\n",
       "5    门店9  0.133825  25.915100\n",
       "6    门店9  0.133825  25.915100\n",
       "7   门店11  0.599909  41.243928\n",
       "8   门店12  0.628862  13.737371\n",
       "9   门店13  0.413330  61.677469\n",
       "10  门店14  0.577900   3.143731\n",
       "11  门店15  0.014238  61.504983\n",
       "12  门店16  0.196695  29.111367\n",
       "13  门店17  0.452330  12.139342\n",
       "14  门店17  0.452330  20.554000\n",
       "15  门店19  0.620580  77.245607\n",
       "16  门店20  0.676686  87.471200\n",
       "17  门店21  0.163953  62.193299\n",
       "18  门店22  0.113670  23.992782\n",
       "19  门店23  0.488743  28.058654\n",
       "20  门店24  0.357026  60.260046\n",
       "21  门店25  0.378413  22.015977\n",
       "22  门店26  0.135862   2.293229"
      ]
     },
     "execution_count": 124,
     "metadata": {},
     "output_type": "execute_result"
    }
   ],
   "source": [
    "df=pd.read_excel(r'C:\\Users\\shifeng.tian\\Desktop\\Python学习\\test2.xlsx',sheet_name='Sheet2')\n",
    "df"
   ]
  },
  {
   "cell_type": "code",
   "execution_count": 125,
   "metadata": {},
   "outputs": [
    {
     "data": {
      "text/plain": [
       "0     False\n",
       "1     False\n",
       "2      True\n",
       "3     False\n",
       "4     False\n",
       "5     False\n",
       "6      True\n",
       "7     False\n",
       "8     False\n",
       "9     False\n",
       "10    False\n",
       "11    False\n",
       "12    False\n",
       "13    False\n",
       "14    False\n",
       "15    False\n",
       "16    False\n",
       "17    False\n",
       "18    False\n",
       "19    False\n",
       "20    False\n",
       "21    False\n",
       "22    False\n",
       "dtype: bool"
      ]
     },
     "execution_count": 125,
     "metadata": {},
     "output_type": "execute_result"
    }
   ],
   "source": [
    "df.duplicated()"
   ]
  },
  {
   "cell_type": "code",
   "execution_count": 130,
   "metadata": {},
   "outputs": [
    {
     "data": {
      "text/html": [
       "<div>\n",
       "<style scoped>\n",
       "    .dataframe tbody tr th:only-of-type {\n",
       "        vertical-align: middle;\n",
       "    }\n",
       "\n",
       "    .dataframe tbody tr th {\n",
       "        vertical-align: top;\n",
       "    }\n",
       "\n",
       "    .dataframe thead th {\n",
       "        text-align: right;\n",
       "    }\n",
       "</style>\n",
       "<table border=\"1\" class=\"dataframe\">\n",
       "  <thead>\n",
       "    <tr style=\"text-align: right;\">\n",
       "      <th></th>\n",
       "      <th>门店</th>\n",
       "      <th>销售百分比</th>\n",
       "      <th>人员数量</th>\n",
       "    </tr>\n",
       "  </thead>\n",
       "  <tbody>\n",
       "    <tr>\n",
       "      <th>2</th>\n",
       "      <td>门店5</td>\n",
       "      <td>0.169893</td>\n",
       "      <td>39.420558</td>\n",
       "    </tr>\n",
       "    <tr>\n",
       "      <th>6</th>\n",
       "      <td>门店9</td>\n",
       "      <td>0.133825</td>\n",
       "      <td>25.915100</td>\n",
       "    </tr>\n",
       "    <tr>\n",
       "      <th>14</th>\n",
       "      <td>门店17</td>\n",
       "      <td>0.452330</td>\n",
       "      <td>20.554000</td>\n",
       "    </tr>\n",
       "  </tbody>\n",
       "</table>\n",
       "</div>"
      ],
      "text/plain": [
       "      门店     销售百分比       人员数量\n",
       "2    门店5  0.169893  39.420558\n",
       "6    门店9  0.133825  25.915100\n",
       "14  门店17  0.452330  20.554000"
      ]
     },
     "execution_count": 130,
     "metadata": {},
     "output_type": "execute_result"
    }
   ],
   "source": [
    "#筛选出重复的行\n",
    "df[df.duplicated('门店')]"
   ]
  },
  {
   "cell_type": "code",
   "execution_count": 129,
   "metadata": {},
   "outputs": [
    {
     "data": {
      "text/html": [
       "<div>\n",
       "<style scoped>\n",
       "    .dataframe tbody tr th:only-of-type {\n",
       "        vertical-align: middle;\n",
       "    }\n",
       "\n",
       "    .dataframe tbody tr th {\n",
       "        vertical-align: top;\n",
       "    }\n",
       "\n",
       "    .dataframe thead th {\n",
       "        text-align: right;\n",
       "    }\n",
       "</style>\n",
       "<table border=\"1\" class=\"dataframe\">\n",
       "  <thead>\n",
       "    <tr style=\"text-align: right;\">\n",
       "      <th></th>\n",
       "      <th>门店</th>\n",
       "      <th>销售百分比</th>\n",
       "      <th>人员数量</th>\n",
       "    </tr>\n",
       "  </thead>\n",
       "  <tbody>\n",
       "    <tr>\n",
       "      <th>0</th>\n",
       "      <td>门店4</td>\n",
       "      <td>0.831079</td>\n",
       "      <td>97.160005</td>\n",
       "    </tr>\n",
       "    <tr>\n",
       "      <th>1</th>\n",
       "      <td>门店5</td>\n",
       "      <td>0.169893</td>\n",
       "      <td>39.420558</td>\n",
       "    </tr>\n",
       "    <tr>\n",
       "      <th>3</th>\n",
       "      <td>门店7</td>\n",
       "      <td>0.101917</td>\n",
       "      <td>69.756824</td>\n",
       "    </tr>\n",
       "    <tr>\n",
       "      <th>4</th>\n",
       "      <td>门店8</td>\n",
       "      <td>0.799543</td>\n",
       "      <td>87.155358</td>\n",
       "    </tr>\n",
       "    <tr>\n",
       "      <th>5</th>\n",
       "      <td>门店9</td>\n",
       "      <td>0.133825</td>\n",
       "      <td>25.915100</td>\n",
       "    </tr>\n",
       "    <tr>\n",
       "      <th>7</th>\n",
       "      <td>门店11</td>\n",
       "      <td>0.599909</td>\n",
       "      <td>41.243928</td>\n",
       "    </tr>\n",
       "    <tr>\n",
       "      <th>8</th>\n",
       "      <td>门店12</td>\n",
       "      <td>0.628862</td>\n",
       "      <td>13.737371</td>\n",
       "    </tr>\n",
       "    <tr>\n",
       "      <th>9</th>\n",
       "      <td>门店13</td>\n",
       "      <td>0.413330</td>\n",
       "      <td>61.677469</td>\n",
       "    </tr>\n",
       "    <tr>\n",
       "      <th>10</th>\n",
       "      <td>门店14</td>\n",
       "      <td>0.577900</td>\n",
       "      <td>3.143731</td>\n",
       "    </tr>\n",
       "    <tr>\n",
       "      <th>11</th>\n",
       "      <td>门店15</td>\n",
       "      <td>0.014238</td>\n",
       "      <td>61.504983</td>\n",
       "    </tr>\n",
       "    <tr>\n",
       "      <th>12</th>\n",
       "      <td>门店16</td>\n",
       "      <td>0.196695</td>\n",
       "      <td>29.111367</td>\n",
       "    </tr>\n",
       "    <tr>\n",
       "      <th>13</th>\n",
       "      <td>门店17</td>\n",
       "      <td>0.452330</td>\n",
       "      <td>12.139342</td>\n",
       "    </tr>\n",
       "    <tr>\n",
       "      <th>15</th>\n",
       "      <td>门店19</td>\n",
       "      <td>0.620580</td>\n",
       "      <td>77.245607</td>\n",
       "    </tr>\n",
       "    <tr>\n",
       "      <th>16</th>\n",
       "      <td>门店20</td>\n",
       "      <td>0.676686</td>\n",
       "      <td>87.471200</td>\n",
       "    </tr>\n",
       "    <tr>\n",
       "      <th>17</th>\n",
       "      <td>门店21</td>\n",
       "      <td>0.163953</td>\n",
       "      <td>62.193299</td>\n",
       "    </tr>\n",
       "    <tr>\n",
       "      <th>18</th>\n",
       "      <td>门店22</td>\n",
       "      <td>0.113670</td>\n",
       "      <td>23.992782</td>\n",
       "    </tr>\n",
       "    <tr>\n",
       "      <th>19</th>\n",
       "      <td>门店23</td>\n",
       "      <td>0.488743</td>\n",
       "      <td>28.058654</td>\n",
       "    </tr>\n",
       "    <tr>\n",
       "      <th>20</th>\n",
       "      <td>门店24</td>\n",
       "      <td>0.357026</td>\n",
       "      <td>60.260046</td>\n",
       "    </tr>\n",
       "    <tr>\n",
       "      <th>21</th>\n",
       "      <td>门店25</td>\n",
       "      <td>0.378413</td>\n",
       "      <td>22.015977</td>\n",
       "    </tr>\n",
       "    <tr>\n",
       "      <th>22</th>\n",
       "      <td>门店26</td>\n",
       "      <td>0.135862</td>\n",
       "      <td>2.293229</td>\n",
       "    </tr>\n",
       "  </tbody>\n",
       "</table>\n",
       "</div>"
      ],
      "text/plain": [
       "      门店     销售百分比       人员数量\n",
       "0    门店4  0.831079  97.160005\n",
       "1    门店5  0.169893  39.420558\n",
       "3    门店7  0.101917  69.756824\n",
       "4    门店8  0.799543  87.155358\n",
       "5    门店9  0.133825  25.915100\n",
       "7   门店11  0.599909  41.243928\n",
       "8   门店12  0.628862  13.737371\n",
       "9   门店13  0.413330  61.677469\n",
       "10  门店14  0.577900   3.143731\n",
       "11  门店15  0.014238  61.504983\n",
       "12  门店16  0.196695  29.111367\n",
       "13  门店17  0.452330  12.139342\n",
       "15  门店19  0.620580  77.245607\n",
       "16  门店20  0.676686  87.471200\n",
       "17  门店21  0.163953  62.193299\n",
       "18  门店22  0.113670  23.992782\n",
       "19  门店23  0.488743  28.058654\n",
       "20  门店24  0.357026  60.260046\n",
       "21  门店25  0.378413  22.015977\n",
       "22  门店26  0.135862   2.293229"
      ]
     },
     "execution_count": 129,
     "metadata": {},
     "output_type": "execute_result"
    }
   ],
   "source": [
    "#筛选出非重复的行\n",
    "df[df.duplicated('门店')==False]"
   ]
  },
  {
   "cell_type": "markdown",
   "metadata": {},
   "source": [
    "### 按照两列重复筛选重复值"
   ]
  },
  {
   "cell_type": "code",
   "execution_count": 137,
   "metadata": {},
   "outputs": [
    {
     "data": {
      "text/html": [
       "<div>\n",
       "<style scoped>\n",
       "    .dataframe tbody tr th:only-of-type {\n",
       "        vertical-align: middle;\n",
       "    }\n",
       "\n",
       "    .dataframe tbody tr th {\n",
       "        vertical-align: top;\n",
       "    }\n",
       "\n",
       "    .dataframe thead th {\n",
       "        text-align: right;\n",
       "    }\n",
       "</style>\n",
       "<table border=\"1\" class=\"dataframe\">\n",
       "  <thead>\n",
       "    <tr style=\"text-align: right;\">\n",
       "      <th></th>\n",
       "      <th>门店</th>\n",
       "      <th>销售百分比</th>\n",
       "      <th>人员数量</th>\n",
       "    </tr>\n",
       "  </thead>\n",
       "  <tbody>\n",
       "    <tr>\n",
       "      <th>2</th>\n",
       "      <td>门店5</td>\n",
       "      <td>0.169893</td>\n",
       "      <td>39.420558</td>\n",
       "    </tr>\n",
       "    <tr>\n",
       "      <th>6</th>\n",
       "      <td>门店9</td>\n",
       "      <td>0.133825</td>\n",
       "      <td>25.915100</td>\n",
       "    </tr>\n",
       "    <tr>\n",
       "      <th>14</th>\n",
       "      <td>门店17</td>\n",
       "      <td>0.452330</td>\n",
       "      <td>20.554000</td>\n",
       "    </tr>\n",
       "  </tbody>\n",
       "</table>\n",
       "</div>"
      ],
      "text/plain": [
       "      门店     销售百分比       人员数量\n",
       "2    门店5  0.169893  39.420558\n",
       "6    门店9  0.133825  25.915100\n",
       "14  门店17  0.452330  20.554000"
      ]
     },
     "execution_count": 137,
     "metadata": {},
     "output_type": "execute_result"
    }
   ],
   "source": [
    "df[df.duplicated(['门店','销售百分比'])]"
   ]
  },
  {
   "cell_type": "markdown",
   "metadata": {},
   "source": [
    "### 将重复行删除掉drop_duplicates"
   ]
  },
  {
   "cell_type": "code",
   "execution_count": 138,
   "metadata": {},
   "outputs": [
    {
     "data": {
      "text/html": [
       "<div>\n",
       "<style scoped>\n",
       "    .dataframe tbody tr th:only-of-type {\n",
       "        vertical-align: middle;\n",
       "    }\n",
       "\n",
       "    .dataframe tbody tr th {\n",
       "        vertical-align: top;\n",
       "    }\n",
       "\n",
       "    .dataframe thead th {\n",
       "        text-align: right;\n",
       "    }\n",
       "</style>\n",
       "<table border=\"1\" class=\"dataframe\">\n",
       "  <thead>\n",
       "    <tr style=\"text-align: right;\">\n",
       "      <th></th>\n",
       "      <th>门店</th>\n",
       "      <th>销售百分比</th>\n",
       "      <th>人员数量</th>\n",
       "    </tr>\n",
       "  </thead>\n",
       "  <tbody>\n",
       "    <tr>\n",
       "      <th>0</th>\n",
       "      <td>门店4</td>\n",
       "      <td>0.831079</td>\n",
       "      <td>97.160005</td>\n",
       "    </tr>\n",
       "    <tr>\n",
       "      <th>2</th>\n",
       "      <td>门店5</td>\n",
       "      <td>0.169893</td>\n",
       "      <td>39.420558</td>\n",
       "    </tr>\n",
       "    <tr>\n",
       "      <th>3</th>\n",
       "      <td>门店7</td>\n",
       "      <td>0.101917</td>\n",
       "      <td>69.756824</td>\n",
       "    </tr>\n",
       "    <tr>\n",
       "      <th>4</th>\n",
       "      <td>门店8</td>\n",
       "      <td>0.799543</td>\n",
       "      <td>87.155358</td>\n",
       "    </tr>\n",
       "    <tr>\n",
       "      <th>6</th>\n",
       "      <td>门店9</td>\n",
       "      <td>0.133825</td>\n",
       "      <td>25.915100</td>\n",
       "    </tr>\n",
       "    <tr>\n",
       "      <th>7</th>\n",
       "      <td>门店11</td>\n",
       "      <td>0.599909</td>\n",
       "      <td>41.243928</td>\n",
       "    </tr>\n",
       "    <tr>\n",
       "      <th>8</th>\n",
       "      <td>门店12</td>\n",
       "      <td>0.628862</td>\n",
       "      <td>13.737371</td>\n",
       "    </tr>\n",
       "    <tr>\n",
       "      <th>9</th>\n",
       "      <td>门店13</td>\n",
       "      <td>0.413330</td>\n",
       "      <td>61.677469</td>\n",
       "    </tr>\n",
       "    <tr>\n",
       "      <th>10</th>\n",
       "      <td>门店14</td>\n",
       "      <td>0.577900</td>\n",
       "      <td>3.143731</td>\n",
       "    </tr>\n",
       "    <tr>\n",
       "      <th>11</th>\n",
       "      <td>门店15</td>\n",
       "      <td>0.014238</td>\n",
       "      <td>61.504983</td>\n",
       "    </tr>\n",
       "    <tr>\n",
       "      <th>12</th>\n",
       "      <td>门店16</td>\n",
       "      <td>0.196695</td>\n",
       "      <td>29.111367</td>\n",
       "    </tr>\n",
       "    <tr>\n",
       "      <th>14</th>\n",
       "      <td>门店17</td>\n",
       "      <td>0.452330</td>\n",
       "      <td>20.554000</td>\n",
       "    </tr>\n",
       "    <tr>\n",
       "      <th>15</th>\n",
       "      <td>门店19</td>\n",
       "      <td>0.620580</td>\n",
       "      <td>77.245607</td>\n",
       "    </tr>\n",
       "    <tr>\n",
       "      <th>16</th>\n",
       "      <td>门店20</td>\n",
       "      <td>0.676686</td>\n",
       "      <td>87.471200</td>\n",
       "    </tr>\n",
       "    <tr>\n",
       "      <th>17</th>\n",
       "      <td>门店21</td>\n",
       "      <td>0.163953</td>\n",
       "      <td>62.193299</td>\n",
       "    </tr>\n",
       "    <tr>\n",
       "      <th>18</th>\n",
       "      <td>门店22</td>\n",
       "      <td>0.113670</td>\n",
       "      <td>23.992782</td>\n",
       "    </tr>\n",
       "    <tr>\n",
       "      <th>19</th>\n",
       "      <td>门店23</td>\n",
       "      <td>0.488743</td>\n",
       "      <td>28.058654</td>\n",
       "    </tr>\n",
       "    <tr>\n",
       "      <th>20</th>\n",
       "      <td>门店24</td>\n",
       "      <td>0.357026</td>\n",
       "      <td>60.260046</td>\n",
       "    </tr>\n",
       "    <tr>\n",
       "      <th>21</th>\n",
       "      <td>门店25</td>\n",
       "      <td>0.378413</td>\n",
       "      <td>22.015977</td>\n",
       "    </tr>\n",
       "    <tr>\n",
       "      <th>22</th>\n",
       "      <td>门店26</td>\n",
       "      <td>0.135862</td>\n",
       "      <td>2.293229</td>\n",
       "    </tr>\n",
       "  </tbody>\n",
       "</table>\n",
       "</div>"
      ],
      "text/plain": [
       "      门店     销售百分比       人员数量\n",
       "0    门店4  0.831079  97.160005\n",
       "2    门店5  0.169893  39.420558\n",
       "3    门店7  0.101917  69.756824\n",
       "4    门店8  0.799543  87.155358\n",
       "6    门店9  0.133825  25.915100\n",
       "7   门店11  0.599909  41.243928\n",
       "8   门店12  0.628862  13.737371\n",
       "9   门店13  0.413330  61.677469\n",
       "10  门店14  0.577900   3.143731\n",
       "11  门店15  0.014238  61.504983\n",
       "12  门店16  0.196695  29.111367\n",
       "14  门店17  0.452330  20.554000\n",
       "15  门店19  0.620580  77.245607\n",
       "16  门店20  0.676686  87.471200\n",
       "17  门店21  0.163953  62.193299\n",
       "18  门店22  0.113670  23.992782\n",
       "19  门店23  0.488743  28.058654\n",
       "20  门店24  0.357026  60.260046\n",
       "21  门店25  0.378413  22.015977\n",
       "22  门店26  0.135862   2.293229"
      ]
     },
     "execution_count": 138,
     "metadata": {},
     "output_type": "execute_result"
    }
   ],
   "source": [
    "df.drop_duplicates('门店',keep='last')"
   ]
  },
  {
   "cell_type": "markdown",
   "metadata": {},
   "source": [
    "## 将excel文件分成多个文件存储"
   ]
  },
  {
   "cell_type": "code",
   "execution_count": 139,
   "metadata": {},
   "outputs": [
    {
     "data": {
      "text/html": [
       "<div>\n",
       "<style scoped>\n",
       "    .dataframe tbody tr th:only-of-type {\n",
       "        vertical-align: middle;\n",
       "    }\n",
       "\n",
       "    .dataframe tbody tr th {\n",
       "        vertical-align: top;\n",
       "    }\n",
       "\n",
       "    .dataframe thead th {\n",
       "        text-align: right;\n",
       "    }\n",
       "</style>\n",
       "<table border=\"1\" class=\"dataframe\">\n",
       "  <thead>\n",
       "    <tr style=\"text-align: right;\">\n",
       "      <th></th>\n",
       "      <th>门店</th>\n",
       "      <th>数据</th>\n",
       "      <th>种类</th>\n",
       "    </tr>\n",
       "  </thead>\n",
       "  <tbody>\n",
       "    <tr>\n",
       "      <th>0</th>\n",
       "      <td>门店1</td>\n",
       "      <td>456</td>\n",
       "      <td>种类1</td>\n",
       "    </tr>\n",
       "    <tr>\n",
       "      <th>1</th>\n",
       "      <td>门店2</td>\n",
       "      <td>4845</td>\n",
       "      <td>种类2</td>\n",
       "    </tr>\n",
       "    <tr>\n",
       "      <th>2</th>\n",
       "      <td>门店3</td>\n",
       "      <td>546</td>\n",
       "      <td>种类3</td>\n",
       "    </tr>\n",
       "    <tr>\n",
       "      <th>3</th>\n",
       "      <td>门店4</td>\n",
       "      <td>78</td>\n",
       "      <td>种类1</td>\n",
       "    </tr>\n",
       "    <tr>\n",
       "      <th>4</th>\n",
       "      <td>门店5</td>\n",
       "      <td>15</td>\n",
       "      <td>种类2</td>\n",
       "    </tr>\n",
       "    <tr>\n",
       "      <th>5</th>\n",
       "      <td>门店6</td>\n",
       "      <td>54</td>\n",
       "      <td>种类3</td>\n",
       "    </tr>\n",
       "    <tr>\n",
       "      <th>6</th>\n",
       "      <td>门店7</td>\n",
       "      <td>84</td>\n",
       "      <td>种类1</td>\n",
       "    </tr>\n",
       "    <tr>\n",
       "      <th>7</th>\n",
       "      <td>门店8</td>\n",
       "      <td>54</td>\n",
       "      <td>种类2</td>\n",
       "    </tr>\n",
       "  </tbody>\n",
       "</table>\n",
       "</div>"
      ],
      "text/plain": [
       "    门店    数据   种类\n",
       "0  门店1   456  种类1\n",
       "1  门店2  4845  种类2\n",
       "2  门店3   546  种类3\n",
       "3  门店4    78  种类1\n",
       "4  门店5    15  种类2\n",
       "5  门店6    54  种类3\n",
       "6  门店7    84  种类1\n",
       "7  门店8    54  种类2"
      ]
     },
     "execution_count": 139,
     "metadata": {},
     "output_type": "execute_result"
    }
   ],
   "source": [
    "df=pd.read_excel(r'C:\\Users\\shifeng.tian\\Desktop\\Python学习\\test2.xlsx',sheet_name='Sheet3')\n",
    "df"
   ]
  },
  {
   "cell_type": "code",
   "execution_count": 141,
   "metadata": {},
   "outputs": [
    {
     "data": {
      "text/plain": [
       "0    种类1\n",
       "1    种类2\n",
       "2    种类3\n",
       "Name: 种类, dtype: object"
      ]
     },
     "execution_count": 141,
     "metadata": {},
     "output_type": "execute_result"
    }
   ],
   "source": [
    "df2=df[df.duplicated('种类')==False]['种类']\n",
    "df2"
   ]
  },
  {
   "cell_type": "code",
   "execution_count": 145,
   "metadata": {},
   "outputs": [],
   "source": [
    "for i in df2:\n",
    "    df3=df[df['种类']==i]\n",
    "    df3.to_excel(r'C:\\Users\\shifeng.tian\\Desktop\\Python学习\\%s.xlsx' %i,index=False)"
   ]
  },
  {
   "cell_type": "markdown",
   "metadata": {},
   "source": [
    "## 日期时间运算"
   ]
  },
  {
   "cell_type": "markdown",
   "metadata": {},
   "source": [
    "### 日期相加减"
   ]
  },
  {
   "cell_type": "code",
   "execution_count": 147,
   "metadata": {},
   "outputs": [
    {
     "data": {
      "text/html": [
       "<div>\n",
       "<style scoped>\n",
       "    .dataframe tbody tr th:only-of-type {\n",
       "        vertical-align: middle;\n",
       "    }\n",
       "\n",
       "    .dataframe tbody tr th {\n",
       "        vertical-align: top;\n",
       "    }\n",
       "\n",
       "    .dataframe thead th {\n",
       "        text-align: right;\n",
       "    }\n",
       "</style>\n",
       "<table border=\"1\" class=\"dataframe\">\n",
       "  <thead>\n",
       "    <tr style=\"text-align: right;\">\n",
       "      <th></th>\n",
       "      <th>名称</th>\n",
       "      <th>日期一</th>\n",
       "      <th>日期二</th>\n",
       "    </tr>\n",
       "  </thead>\n",
       "  <tbody>\n",
       "    <tr>\n",
       "      <th>0</th>\n",
       "      <td>产品1</td>\n",
       "      <td>2017-11-24</td>\n",
       "      <td>2017-10-24</td>\n",
       "    </tr>\n",
       "    <tr>\n",
       "      <th>1</th>\n",
       "      <td>产品2</td>\n",
       "      <td>2017-11-25</td>\n",
       "      <td>2017-10-25</td>\n",
       "    </tr>\n",
       "    <tr>\n",
       "      <th>2</th>\n",
       "      <td>产品3</td>\n",
       "      <td>2017-11-26</td>\n",
       "      <td>2017-10-26</td>\n",
       "    </tr>\n",
       "  </tbody>\n",
       "</table>\n",
       "</div>"
      ],
      "text/plain": [
       "    名称        日期一        日期二\n",
       "0  产品1 2017-11-24 2017-10-24\n",
       "1  产品2 2017-11-25 2017-10-25\n",
       "2  产品3 2017-11-26 2017-10-26"
      ]
     },
     "execution_count": 147,
     "metadata": {},
     "output_type": "execute_result"
    }
   ],
   "source": [
    "df=pd.read_excel(r'C:\\Users\\shifeng.tian\\Desktop\\Python学习\\test2.xlsx',sheet_name='Sheet4')\n",
    "df"
   ]
  },
  {
   "cell_type": "code",
   "execution_count": 148,
   "metadata": {},
   "outputs": [
    {
     "data": {
      "text/html": [
       "<div>\n",
       "<style scoped>\n",
       "    .dataframe tbody tr th:only-of-type {\n",
       "        vertical-align: middle;\n",
       "    }\n",
       "\n",
       "    .dataframe tbody tr th {\n",
       "        vertical-align: top;\n",
       "    }\n",
       "\n",
       "    .dataframe thead th {\n",
       "        text-align: right;\n",
       "    }\n",
       "</style>\n",
       "<table border=\"1\" class=\"dataframe\">\n",
       "  <thead>\n",
       "    <tr style=\"text-align: right;\">\n",
       "      <th></th>\n",
       "      <th>名称</th>\n",
       "      <th>日期一</th>\n",
       "      <th>日期二</th>\n",
       "      <th>相距天数</th>\n",
       "    </tr>\n",
       "  </thead>\n",
       "  <tbody>\n",
       "    <tr>\n",
       "      <th>0</th>\n",
       "      <td>产品1</td>\n",
       "      <td>2017-11-24</td>\n",
       "      <td>2017-10-24</td>\n",
       "      <td>31 days</td>\n",
       "    </tr>\n",
       "    <tr>\n",
       "      <th>1</th>\n",
       "      <td>产品2</td>\n",
       "      <td>2017-11-25</td>\n",
       "      <td>2017-10-25</td>\n",
       "      <td>31 days</td>\n",
       "    </tr>\n",
       "    <tr>\n",
       "      <th>2</th>\n",
       "      <td>产品3</td>\n",
       "      <td>2017-11-26</td>\n",
       "      <td>2017-10-26</td>\n",
       "      <td>31 days</td>\n",
       "    </tr>\n",
       "  </tbody>\n",
       "</table>\n",
       "</div>"
      ],
      "text/plain": [
       "    名称        日期一        日期二    相距天数\n",
       "0  产品1 2017-11-24 2017-10-24 31 days\n",
       "1  产品2 2017-11-25 2017-10-25 31 days\n",
       "2  产品3 2017-11-26 2017-10-26 31 days"
      ]
     },
     "execution_count": 148,
     "metadata": {},
     "output_type": "execute_result"
    }
   ],
   "source": [
    "df['相距天数']=df['日期一']-df['日期二']\n",
    "df"
   ]
  },
  {
   "cell_type": "code",
   "execution_count": 149,
   "metadata": {},
   "outputs": [
    {
     "data": {
      "text/plain": [
       "0    31\n",
       "1    31\n",
       "2    31\n",
       "Name: 相距天数, dtype: int64"
      ]
     },
     "execution_count": 149,
     "metadata": {},
     "output_type": "execute_result"
    }
   ],
   "source": [
    "#得到的数据是timedelta型，转化成整数型\n",
    "df['相距天数'].map(lambda x:x.days)"
   ]
  },
  {
   "cell_type": "markdown",
   "metadata": {},
   "source": [
    "### 日期加减常数"
   ]
  },
  {
   "cell_type": "code",
   "execution_count": 150,
   "metadata": {},
   "outputs": [],
   "source": [
    "#使用datetime库里面的timedelta函数。\n",
    "from datetime import datetime,timedelta"
   ]
  },
  {
   "cell_type": "code",
   "execution_count": 151,
   "metadata": {},
   "outputs": [
    {
     "data": {
      "text/plain": [
       "0   2017-11-14\n",
       "1   2017-11-15\n",
       "2   2017-11-16\n",
       "Name: 日期一, dtype: datetime64[ns]"
      ]
     },
     "execution_count": 151,
     "metadata": {},
     "output_type": "execute_result"
    }
   ],
   "source": [
    "df['日期一']-timedelta(days=10)\n",
    "#也可以加减hours/weeks"
   ]
  },
  {
   "cell_type": "code",
   "execution_count": 152,
   "metadata": {},
   "outputs": [
    {
     "data": {
      "text/plain": [
       "datetime.datetime(2017, 11, 25, 0, 0)"
      ]
     },
     "execution_count": 152,
     "metadata": {},
     "output_type": "execute_result"
    }
   ],
   "source": [
    "#对所有整列减去一个日期\n",
    "#先定义一个日期\n",
    "date2=datetime(2017,11,25)\n",
    "date2"
   ]
  },
  {
   "cell_type": "code",
   "execution_count": 153,
   "metadata": {},
   "outputs": [
    {
     "data": {
      "text/plain": [
       "0   -1 days\n",
       "1    0 days\n",
       "2    1 days\n",
       "Name: 日期一, dtype: timedelta64[ns]"
      ]
     },
     "execution_count": 153,
     "metadata": {},
     "output_type": "execute_result"
    }
   ],
   "source": [
    "df['日期一']-date2"
   ]
  },
  {
   "cell_type": "code",
   "execution_count": 154,
   "metadata": {},
   "outputs": [
    {
     "data": {
      "text/html": [
       "<div>\n",
       "<style scoped>\n",
       "    .dataframe tbody tr th:only-of-type {\n",
       "        vertical-align: middle;\n",
       "    }\n",
       "\n",
       "    .dataframe tbody tr th {\n",
       "        vertical-align: top;\n",
       "    }\n",
       "\n",
       "    .dataframe thead th {\n",
       "        text-align: right;\n",
       "    }\n",
       "</style>\n",
       "<table border=\"1\" class=\"dataframe\">\n",
       "  <thead>\n",
       "    <tr style=\"text-align: right;\">\n",
       "      <th></th>\n",
       "      <th>名称</th>\n",
       "      <th>日期一</th>\n",
       "      <th>日期二</th>\n",
       "      <th>相距天数</th>\n",
       "    </tr>\n",
       "  </thead>\n",
       "  <tbody>\n",
       "    <tr>\n",
       "      <th>0</th>\n",
       "      <td>产品1</td>\n",
       "      <td>2017-11-24</td>\n",
       "      <td>2017-10-24</td>\n",
       "      <td>31 days</td>\n",
       "    </tr>\n",
       "    <tr>\n",
       "      <th>1</th>\n",
       "      <td>产品2</td>\n",
       "      <td>2017-11-25</td>\n",
       "      <td>2017-10-25</td>\n",
       "      <td>31 days</td>\n",
       "    </tr>\n",
       "    <tr>\n",
       "      <th>2</th>\n",
       "      <td>产品3</td>\n",
       "      <td>2017-11-26</td>\n",
       "      <td>2017-10-26</td>\n",
       "      <td>31 days</td>\n",
       "    </tr>\n",
       "  </tbody>\n",
       "</table>\n",
       "</div>"
      ],
      "text/plain": [
       "    名称        日期一        日期二    相距天数\n",
       "0  产品1 2017-11-24 2017-10-24 31 days\n",
       "1  产品2 2017-11-25 2017-10-25 31 days\n",
       "2  产品3 2017-11-26 2017-10-26 31 days"
      ]
     },
     "execution_count": 154,
     "metadata": {},
     "output_type": "execute_result"
    }
   ],
   "source": [
    "df"
   ]
  },
  {
   "cell_type": "code",
   "execution_count": 156,
   "metadata": {},
   "outputs": [
    {
     "data": {
      "text/plain": [
       "名称               object\n",
       "日期一      datetime64[ns]\n",
       "日期二      datetime64[ns]\n",
       "相距天数    timedelta64[ns]\n",
       "dtype: object"
      ]
     },
     "execution_count": 156,
     "metadata": {},
     "output_type": "execute_result"
    }
   ],
   "source": [
    "df.dtypes"
   ]
  },
  {
   "cell_type": "markdown",
   "metadata": {},
   "source": [
    "### datetime类型转化成文本类型"
   ]
  },
  {
   "cell_type": "code",
   "execution_count": 157,
   "metadata": {},
   "outputs": [
    {
     "data": {
      "text/plain": [
       "0    2017-11-24\n",
       "1    2017-11-25\n",
       "2    2017-11-26\n",
       "Name: 日期一, dtype: object"
      ]
     },
     "execution_count": 157,
     "metadata": {},
     "output_type": "execute_result"
    }
   ],
   "source": [
    "df['日期一'].dt.strftime('%Y-%m-%d')"
   ]
  },
  {
   "cell_type": "code",
   "execution_count": 158,
   "metadata": {},
   "outputs": [
    {
     "data": {
      "text/plain": [
       "0    2017-11-24\n",
       "1    2017-11-25\n",
       "2    2017-11-26\n",
       "Name: 日期一, dtype: object"
      ]
     },
     "execution_count": 158,
     "metadata": {},
     "output_type": "execute_result"
    }
   ],
   "source": [
    "df['日期一'].dt.date"
   ]
  },
  {
   "cell_type": "markdown",
   "metadata": {},
   "source": [
    "### 提取时间日期中的 部分信息"
   ]
  },
  {
   "cell_type": "code",
   "execution_count": 159,
   "metadata": {},
   "outputs": [
    {
     "data": {
      "text/plain": [
       "0    2017\n",
       "1    2017\n",
       "2    2017\n",
       "Name: 日期一, dtype: int64"
      ]
     },
     "execution_count": 159,
     "metadata": {},
     "output_type": "execute_result"
    }
   ],
   "source": [
    "#可以提取year/month/day/hour/time/quarter/weekday\n",
    "df['日期一'].dt.year"
   ]
  },
  {
   "cell_type": "markdown",
   "metadata": {},
   "source": [
    "### 将timedelta转化成整数"
   ]
  },
  {
   "cell_type": "code",
   "execution_count": 160,
   "metadata": {},
   "outputs": [
    {
     "data": {
      "text/plain": [
       "0    31\n",
       "1    31\n",
       "2    31\n",
       "dtype: int64"
      ]
     },
     "execution_count": 160,
     "metadata": {},
     "output_type": "execute_result"
    }
   ],
   "source": [
    "(df['日期一']-df['日期二']).dt.days"
   ]
  },
  {
   "cell_type": "markdown",
   "metadata": {},
   "source": [
    "### 计算天数相关"
   ]
  },
  {
   "cell_type": "code",
   "execution_count": 161,
   "metadata": {},
   "outputs": [
    {
     "data": {
      "text/plain": [
       "0    328\n",
       "1    329\n",
       "2    330\n",
       "Name: 日期一, dtype: int64"
      ]
     },
     "execution_count": 161,
     "metadata": {},
     "output_type": "execute_result"
    }
   ],
   "source": [
    "df['日期一'].dt.dayofyear"
   ]
  },
  {
   "cell_type": "code",
   "execution_count": 163,
   "metadata": {},
   "outputs": [
    {
     "data": {
      "text/plain": [
       "0    47\n",
       "1    47\n",
       "2    47\n",
       "Name: 日期一, dtype: int64"
      ]
     },
     "execution_count": 163,
     "metadata": {},
     "output_type": "execute_result"
    }
   ],
   "source": [
    "df['日期一'].dt.weekofyear"
   ]
  },
  {
   "cell_type": "markdown",
   "metadata": {},
   "source": [
    "## 一次读取多个excel文件并合并"
   ]
  },
  {
   "cell_type": "code",
   "execution_count": 168,
   "metadata": {
    "scrolled": true
   },
   "outputs": [
    {
     "data": {
      "text/html": [
       "<div>\n",
       "<style scoped>\n",
       "    .dataframe tbody tr th:only-of-type {\n",
       "        vertical-align: middle;\n",
       "    }\n",
       "\n",
       "    .dataframe tbody tr th {\n",
       "        vertical-align: top;\n",
       "    }\n",
       "\n",
       "    .dataframe thead th {\n",
       "        text-align: right;\n",
       "    }\n",
       "</style>\n",
       "<table border=\"1\" class=\"dataframe\">\n",
       "  <thead>\n",
       "    <tr style=\"text-align: right;\">\n",
       "      <th></th>\n",
       "      <th>产品</th>\n",
       "      <th>列1</th>\n",
       "      <th>列2</th>\n",
       "    </tr>\n",
       "  </thead>\n",
       "  <tbody>\n",
       "    <tr>\n",
       "      <th>0</th>\n",
       "      <td>产品1</td>\n",
       "      <td>2</td>\n",
       "      <td>2</td>\n",
       "    </tr>\n",
       "    <tr>\n",
       "      <th>1</th>\n",
       "      <td>产品2</td>\n",
       "      <td>2</td>\n",
       "      <td>2</td>\n",
       "    </tr>\n",
       "    <tr>\n",
       "      <th>2</th>\n",
       "      <td>产品3</td>\n",
       "      <td>2</td>\n",
       "      <td>2</td>\n",
       "    </tr>\n",
       "    <tr>\n",
       "      <th>3</th>\n",
       "      <td>产品1</td>\n",
       "      <td>1</td>\n",
       "      <td>1</td>\n",
       "    </tr>\n",
       "    <tr>\n",
       "      <th>4</th>\n",
       "      <td>产品2</td>\n",
       "      <td>1</td>\n",
       "      <td>1</td>\n",
       "    </tr>\n",
       "    <tr>\n",
       "      <th>5</th>\n",
       "      <td>产品3</td>\n",
       "      <td>1</td>\n",
       "      <td>1</td>\n",
       "    </tr>\n",
       "    <tr>\n",
       "      <th>6</th>\n",
       "      <td>产品1</td>\n",
       "      <td>3</td>\n",
       "      <td>3</td>\n",
       "    </tr>\n",
       "    <tr>\n",
       "      <th>7</th>\n",
       "      <td>产品2</td>\n",
       "      <td>3</td>\n",
       "      <td>3</td>\n",
       "    </tr>\n",
       "    <tr>\n",
       "      <th>8</th>\n",
       "      <td>产品3</td>\n",
       "      <td>3</td>\n",
       "      <td>3</td>\n",
       "    </tr>\n",
       "  </tbody>\n",
       "</table>\n",
       "</div>"
      ],
      "text/plain": [
       "    产品  列1  列2\n",
       "0  产品1   2   2\n",
       "1  产品2   2   2\n",
       "2  产品3   2   2\n",
       "3  产品1   1   1\n",
       "4  产品2   1   1\n",
       "5  产品3   1   1\n",
       "6  产品1   3   3\n",
       "7  产品2   3   3\n",
       "8  产品3   3   3"
      ]
     },
     "execution_count": 168,
     "metadata": {},
     "output_type": "execute_result"
    }
   ],
   "source": [
    "import pandas as pd\n",
    "import os\n",
    "inputdir=r'C:\\Users\\shifeng.tian\\Desktop\\Python学习\\新建文件夹'\n",
    "df_empty=pd.DataFrame()\n",
    "for dirpath, dirnames, filenames in os.walk(inputdir):\n",
    "    for filename in filenames:\n",
    "        df=pd.read_excel(os.path.join(dirpath,filename))\n",
    "        df_empty=df_empty.append(df,ignore_index=True)\n",
    "df_empty"
   ]
  },
  {
   "cell_type": "markdown",
   "metadata": {},
   "source": [
    "## 逆透视与stack()melt()"
   ]
  },
  {
   "cell_type": "code",
   "execution_count": 2,
   "metadata": {},
   "outputs": [
    {
     "data": {
      "text/html": [
       "<div>\n",
       "<style scoped>\n",
       "    .dataframe tbody tr th:only-of-type {\n",
       "        vertical-align: middle;\n",
       "    }\n",
       "\n",
       "    .dataframe tbody tr th {\n",
       "        vertical-align: top;\n",
       "    }\n",
       "\n",
       "    .dataframe thead th {\n",
       "        text-align: right;\n",
       "    }\n",
       "</style>\n",
       "<table border=\"1\" class=\"dataframe\">\n",
       "  <thead>\n",
       "    <tr style=\"text-align: right;\">\n",
       "      <th></th>\n",
       "      <th>产品大类</th>\n",
       "      <th>产品名称</th>\n",
       "      <th>月份1</th>\n",
       "      <th>月份2</th>\n",
       "      <th>月份3</th>\n",
       "      <th>月份4</th>\n",
       "    </tr>\n",
       "  </thead>\n",
       "  <tbody>\n",
       "    <tr>\n",
       "      <th>0</th>\n",
       "      <td>大类一</td>\n",
       "      <td>ProductA</td>\n",
       "      <td>2</td>\n",
       "      <td>7</td>\n",
       "      <td>3</td>\n",
       "      <td>9</td>\n",
       "    </tr>\n",
       "    <tr>\n",
       "      <th>1</th>\n",
       "      <td>大类一</td>\n",
       "      <td>ProductB</td>\n",
       "      <td>10</td>\n",
       "      <td>8</td>\n",
       "      <td>9</td>\n",
       "      <td>3</td>\n",
       "    </tr>\n",
       "    <tr>\n",
       "      <th>2</th>\n",
       "      <td>大类二</td>\n",
       "      <td>ProductC</td>\n",
       "      <td>9</td>\n",
       "      <td>10</td>\n",
       "      <td>6</td>\n",
       "      <td>6</td>\n",
       "    </tr>\n",
       "    <tr>\n",
       "      <th>3</th>\n",
       "      <td>大类二</td>\n",
       "      <td>ProductD</td>\n",
       "      <td>5</td>\n",
       "      <td>5</td>\n",
       "      <td>4</td>\n",
       "      <td>5</td>\n",
       "    </tr>\n",
       "    <tr>\n",
       "      <th>4</th>\n",
       "      <td>大类二</td>\n",
       "      <td>ProductE</td>\n",
       "      <td>3</td>\n",
       "      <td>1</td>\n",
       "      <td>10</td>\n",
       "      <td>7</td>\n",
       "    </tr>\n",
       "  </tbody>\n",
       "</table>\n",
       "</div>"
      ],
      "text/plain": [
       "  产品大类      产品名称  月份1  月份2  月份3  月份4\n",
       "0  大类一  ProductA    2    7    3    9\n",
       "1  大类一  ProductB   10    8    9    3\n",
       "2  大类二  ProductC    9   10    6    6\n",
       "3  大类二  ProductD    5    5    4    5\n",
       "4  大类二  ProductE    3    1   10    7"
      ]
     },
     "execution_count": 2,
     "metadata": {},
     "output_type": "execute_result"
    }
   ],
   "source": [
    "import pandas as pd\n",
    "from pandas import DataFrame\n",
    "import numpy as np\n",
    "df=pd.read_excel(r'C:\\Users\\shifeng.tian\\Desktop\\Python学习\\test2.xlsx',sheet_name='Sheet5')\n",
    "df"
   ]
  },
  {
   "cell_type": "markdown",
   "metadata": {},
   "source": [
    "### stack()"
   ]
  },
  {
   "cell_type": "code",
   "execution_count": 3,
   "metadata": {
    "scrolled": false
   },
   "outputs": [
    {
     "data": {
      "text/html": [
       "<div>\n",
       "<style scoped>\n",
       "    .dataframe tbody tr th:only-of-type {\n",
       "        vertical-align: middle;\n",
       "    }\n",
       "\n",
       "    .dataframe tbody tr th {\n",
       "        vertical-align: top;\n",
       "    }\n",
       "\n",
       "    .dataframe thead th {\n",
       "        text-align: right;\n",
       "    }\n",
       "</style>\n",
       "<table border=\"1\" class=\"dataframe\">\n",
       "  <thead>\n",
       "    <tr style=\"text-align: right;\">\n",
       "      <th></th>\n",
       "      <th>产品大类</th>\n",
       "      <th>产品名称</th>\n",
       "      <th>level_2</th>\n",
       "      <th>0</th>\n",
       "    </tr>\n",
       "  </thead>\n",
       "  <tbody>\n",
       "    <tr>\n",
       "      <th>0</th>\n",
       "      <td>大类一</td>\n",
       "      <td>ProductA</td>\n",
       "      <td>月份1</td>\n",
       "      <td>2</td>\n",
       "    </tr>\n",
       "    <tr>\n",
       "      <th>1</th>\n",
       "      <td>大类一</td>\n",
       "      <td>ProductA</td>\n",
       "      <td>月份2</td>\n",
       "      <td>7</td>\n",
       "    </tr>\n",
       "    <tr>\n",
       "      <th>2</th>\n",
       "      <td>大类一</td>\n",
       "      <td>ProductA</td>\n",
       "      <td>月份3</td>\n",
       "      <td>3</td>\n",
       "    </tr>\n",
       "    <tr>\n",
       "      <th>3</th>\n",
       "      <td>大类一</td>\n",
       "      <td>ProductA</td>\n",
       "      <td>月份4</td>\n",
       "      <td>9</td>\n",
       "    </tr>\n",
       "    <tr>\n",
       "      <th>4</th>\n",
       "      <td>大类一</td>\n",
       "      <td>ProductB</td>\n",
       "      <td>月份1</td>\n",
       "      <td>10</td>\n",
       "    </tr>\n",
       "    <tr>\n",
       "      <th>5</th>\n",
       "      <td>大类一</td>\n",
       "      <td>ProductB</td>\n",
       "      <td>月份2</td>\n",
       "      <td>8</td>\n",
       "    </tr>\n",
       "    <tr>\n",
       "      <th>6</th>\n",
       "      <td>大类一</td>\n",
       "      <td>ProductB</td>\n",
       "      <td>月份3</td>\n",
       "      <td>9</td>\n",
       "    </tr>\n",
       "    <tr>\n",
       "      <th>7</th>\n",
       "      <td>大类一</td>\n",
       "      <td>ProductB</td>\n",
       "      <td>月份4</td>\n",
       "      <td>3</td>\n",
       "    </tr>\n",
       "    <tr>\n",
       "      <th>8</th>\n",
       "      <td>大类二</td>\n",
       "      <td>ProductC</td>\n",
       "      <td>月份1</td>\n",
       "      <td>9</td>\n",
       "    </tr>\n",
       "    <tr>\n",
       "      <th>9</th>\n",
       "      <td>大类二</td>\n",
       "      <td>ProductC</td>\n",
       "      <td>月份2</td>\n",
       "      <td>10</td>\n",
       "    </tr>\n",
       "    <tr>\n",
       "      <th>10</th>\n",
       "      <td>大类二</td>\n",
       "      <td>ProductC</td>\n",
       "      <td>月份3</td>\n",
       "      <td>6</td>\n",
       "    </tr>\n",
       "    <tr>\n",
       "      <th>11</th>\n",
       "      <td>大类二</td>\n",
       "      <td>ProductC</td>\n",
       "      <td>月份4</td>\n",
       "      <td>6</td>\n",
       "    </tr>\n",
       "    <tr>\n",
       "      <th>12</th>\n",
       "      <td>大类二</td>\n",
       "      <td>ProductD</td>\n",
       "      <td>月份1</td>\n",
       "      <td>5</td>\n",
       "    </tr>\n",
       "    <tr>\n",
       "      <th>13</th>\n",
       "      <td>大类二</td>\n",
       "      <td>ProductD</td>\n",
       "      <td>月份2</td>\n",
       "      <td>5</td>\n",
       "    </tr>\n",
       "    <tr>\n",
       "      <th>14</th>\n",
       "      <td>大类二</td>\n",
       "      <td>ProductD</td>\n",
       "      <td>月份3</td>\n",
       "      <td>4</td>\n",
       "    </tr>\n",
       "    <tr>\n",
       "      <th>15</th>\n",
       "      <td>大类二</td>\n",
       "      <td>ProductD</td>\n",
       "      <td>月份4</td>\n",
       "      <td>5</td>\n",
       "    </tr>\n",
       "    <tr>\n",
       "      <th>16</th>\n",
       "      <td>大类二</td>\n",
       "      <td>ProductE</td>\n",
       "      <td>月份1</td>\n",
       "      <td>3</td>\n",
       "    </tr>\n",
       "    <tr>\n",
       "      <th>17</th>\n",
       "      <td>大类二</td>\n",
       "      <td>ProductE</td>\n",
       "      <td>月份2</td>\n",
       "      <td>1</td>\n",
       "    </tr>\n",
       "    <tr>\n",
       "      <th>18</th>\n",
       "      <td>大类二</td>\n",
       "      <td>ProductE</td>\n",
       "      <td>月份3</td>\n",
       "      <td>10</td>\n",
       "    </tr>\n",
       "    <tr>\n",
       "      <th>19</th>\n",
       "      <td>大类二</td>\n",
       "      <td>ProductE</td>\n",
       "      <td>月份4</td>\n",
       "      <td>7</td>\n",
       "    </tr>\n",
       "  </tbody>\n",
       "</table>\n",
       "</div>"
      ],
      "text/plain": [
       "   产品大类      产品名称 level_2   0\n",
       "0   大类一  ProductA     月份1   2\n",
       "1   大类一  ProductA     月份2   7\n",
       "2   大类一  ProductA     月份3   3\n",
       "3   大类一  ProductA     月份4   9\n",
       "4   大类一  ProductB     月份1  10\n",
       "5   大类一  ProductB     月份2   8\n",
       "6   大类一  ProductB     月份3   9\n",
       "7   大类一  ProductB     月份4   3\n",
       "8   大类二  ProductC     月份1   9\n",
       "9   大类二  ProductC     月份2  10\n",
       "10  大类二  ProductC     月份3   6\n",
       "11  大类二  ProductC     月份4   6\n",
       "12  大类二  ProductD     月份1   5\n",
       "13  大类二  ProductD     月份2   5\n",
       "14  大类二  ProductD     月份3   4\n",
       "15  大类二  ProductD     月份4   5\n",
       "16  大类二  ProductE     月份1   3\n",
       "17  大类二  ProductE     月份2   1\n",
       "18  大类二  ProductE     月份3  10\n",
       "19  大类二  ProductE     月份4   7"
      ]
     },
     "execution_count": 3,
     "metadata": {},
     "output_type": "execute_result"
    }
   ],
   "source": [
    "df.set_index(['产品大类','产品名称']).stack().reset_index()"
   ]
  },
  {
   "cell_type": "markdown",
   "metadata": {},
   "source": [
    "### melt()"
   ]
  },
  {
   "cell_type": "code",
   "execution_count": 9,
   "metadata": {
    "scrolled": false
   },
   "outputs": [
    {
     "data": {
      "text/html": [
       "<div>\n",
       "<style scoped>\n",
       "    .dataframe tbody tr th:only-of-type {\n",
       "        vertical-align: middle;\n",
       "    }\n",
       "\n",
       "    .dataframe tbody tr th {\n",
       "        vertical-align: top;\n",
       "    }\n",
       "\n",
       "    .dataframe thead th {\n",
       "        text-align: right;\n",
       "    }\n",
       "</style>\n",
       "<table border=\"1\" class=\"dataframe\">\n",
       "  <thead>\n",
       "    <tr style=\"text-align: right;\">\n",
       "      <th></th>\n",
       "      <th>产品大类</th>\n",
       "      <th>产品名称</th>\n",
       "      <th>销售月份</th>\n",
       "      <th>销售数量</th>\n",
       "    </tr>\n",
       "  </thead>\n",
       "  <tbody>\n",
       "    <tr>\n",
       "      <th>0</th>\n",
       "      <td>大类一</td>\n",
       "      <td>ProductA</td>\n",
       "      <td>月份1</td>\n",
       "      <td>2</td>\n",
       "    </tr>\n",
       "    <tr>\n",
       "      <th>1</th>\n",
       "      <td>大类一</td>\n",
       "      <td>ProductB</td>\n",
       "      <td>月份1</td>\n",
       "      <td>10</td>\n",
       "    </tr>\n",
       "    <tr>\n",
       "      <th>2</th>\n",
       "      <td>大类二</td>\n",
       "      <td>ProductC</td>\n",
       "      <td>月份1</td>\n",
       "      <td>9</td>\n",
       "    </tr>\n",
       "    <tr>\n",
       "      <th>3</th>\n",
       "      <td>大类二</td>\n",
       "      <td>ProductD</td>\n",
       "      <td>月份1</td>\n",
       "      <td>5</td>\n",
       "    </tr>\n",
       "    <tr>\n",
       "      <th>4</th>\n",
       "      <td>大类二</td>\n",
       "      <td>ProductE</td>\n",
       "      <td>月份1</td>\n",
       "      <td>3</td>\n",
       "    </tr>\n",
       "    <tr>\n",
       "      <th>5</th>\n",
       "      <td>大类一</td>\n",
       "      <td>ProductA</td>\n",
       "      <td>月份2</td>\n",
       "      <td>7</td>\n",
       "    </tr>\n",
       "    <tr>\n",
       "      <th>6</th>\n",
       "      <td>大类一</td>\n",
       "      <td>ProductB</td>\n",
       "      <td>月份2</td>\n",
       "      <td>8</td>\n",
       "    </tr>\n",
       "    <tr>\n",
       "      <th>7</th>\n",
       "      <td>大类二</td>\n",
       "      <td>ProductC</td>\n",
       "      <td>月份2</td>\n",
       "      <td>10</td>\n",
       "    </tr>\n",
       "    <tr>\n",
       "      <th>8</th>\n",
       "      <td>大类二</td>\n",
       "      <td>ProductD</td>\n",
       "      <td>月份2</td>\n",
       "      <td>5</td>\n",
       "    </tr>\n",
       "    <tr>\n",
       "      <th>9</th>\n",
       "      <td>大类二</td>\n",
       "      <td>ProductE</td>\n",
       "      <td>月份2</td>\n",
       "      <td>1</td>\n",
       "    </tr>\n",
       "    <tr>\n",
       "      <th>10</th>\n",
       "      <td>大类一</td>\n",
       "      <td>ProductA</td>\n",
       "      <td>月份3</td>\n",
       "      <td>3</td>\n",
       "    </tr>\n",
       "    <tr>\n",
       "      <th>11</th>\n",
       "      <td>大类一</td>\n",
       "      <td>ProductB</td>\n",
       "      <td>月份3</td>\n",
       "      <td>9</td>\n",
       "    </tr>\n",
       "    <tr>\n",
       "      <th>12</th>\n",
       "      <td>大类二</td>\n",
       "      <td>ProductC</td>\n",
       "      <td>月份3</td>\n",
       "      <td>6</td>\n",
       "    </tr>\n",
       "    <tr>\n",
       "      <th>13</th>\n",
       "      <td>大类二</td>\n",
       "      <td>ProductD</td>\n",
       "      <td>月份3</td>\n",
       "      <td>4</td>\n",
       "    </tr>\n",
       "    <tr>\n",
       "      <th>14</th>\n",
       "      <td>大类二</td>\n",
       "      <td>ProductE</td>\n",
       "      <td>月份3</td>\n",
       "      <td>10</td>\n",
       "    </tr>\n",
       "    <tr>\n",
       "      <th>15</th>\n",
       "      <td>大类一</td>\n",
       "      <td>ProductA</td>\n",
       "      <td>月份4</td>\n",
       "      <td>9</td>\n",
       "    </tr>\n",
       "    <tr>\n",
       "      <th>16</th>\n",
       "      <td>大类一</td>\n",
       "      <td>ProductB</td>\n",
       "      <td>月份4</td>\n",
       "      <td>3</td>\n",
       "    </tr>\n",
       "    <tr>\n",
       "      <th>17</th>\n",
       "      <td>大类二</td>\n",
       "      <td>ProductC</td>\n",
       "      <td>月份4</td>\n",
       "      <td>6</td>\n",
       "    </tr>\n",
       "    <tr>\n",
       "      <th>18</th>\n",
       "      <td>大类二</td>\n",
       "      <td>ProductD</td>\n",
       "      <td>月份4</td>\n",
       "      <td>5</td>\n",
       "    </tr>\n",
       "    <tr>\n",
       "      <th>19</th>\n",
       "      <td>大类二</td>\n",
       "      <td>ProductE</td>\n",
       "      <td>月份4</td>\n",
       "      <td>7</td>\n",
       "    </tr>\n",
       "  </tbody>\n",
       "</table>\n",
       "</div>"
      ],
      "text/plain": [
       "   产品大类      产品名称 销售月份  销售数量\n",
       "0   大类一  ProductA  月份1     2\n",
       "1   大类一  ProductB  月份1    10\n",
       "2   大类二  ProductC  月份1     9\n",
       "3   大类二  ProductD  月份1     5\n",
       "4   大类二  ProductE  月份1     3\n",
       "5   大类一  ProductA  月份2     7\n",
       "6   大类一  ProductB  月份2     8\n",
       "7   大类二  ProductC  月份2    10\n",
       "8   大类二  ProductD  月份2     5\n",
       "9   大类二  ProductE  月份2     1\n",
       "10  大类一  ProductA  月份3     3\n",
       "11  大类一  ProductB  月份3     9\n",
       "12  大类二  ProductC  月份3     6\n",
       "13  大类二  ProductD  月份3     4\n",
       "14  大类二  ProductE  月份3    10\n",
       "15  大类一  ProductA  月份4     9\n",
       "16  大类一  ProductB  月份4     3\n",
       "17  大类二  ProductC  月份4     6\n",
       "18  大类二  ProductD  月份4     5\n",
       "19  大类二  ProductE  月份4     7"
      ]
     },
     "execution_count": 9,
     "metadata": {},
     "output_type": "execute_result"
    }
   ],
   "source": [
    "pd.melt(df,id_vars=['产品大类','产品名称'],value_vars=['月份1','月份2','月份3','月份4'],var_name='销售月份',value_name='销售数量')"
   ]
  },
  {
   "cell_type": "markdown",
   "metadata": {},
   "source": [
    "## 层次索引的新建与去除"
   ]
  },
  {
   "cell_type": "markdown",
   "metadata": {},
   "source": [
    "### 新建DataFrame时建立层次索引"
   ]
  },
  {
   "cell_type": "code",
   "execution_count": 13,
   "metadata": {},
   "outputs": [
    {
     "data": {
      "text/html": [
       "<div>\n",
       "<style scoped>\n",
       "    .dataframe tbody tr th:only-of-type {\n",
       "        vertical-align: middle;\n",
       "    }\n",
       "\n",
       "    .dataframe tbody tr th {\n",
       "        vertical-align: top;\n",
       "    }\n",
       "\n",
       "    .dataframe thead tr th {\n",
       "        text-align: left;\n",
       "    }\n",
       "</style>\n",
       "<table border=\"1\" class=\"dataframe\">\n",
       "  <thead>\n",
       "    <tr>\n",
       "      <th></th>\n",
       "      <th></th>\n",
       "      <th colspan=\"2\" halign=\"left\">地区1</th>\n",
       "      <th colspan=\"2\" halign=\"left\">地区2</th>\n",
       "    </tr>\n",
       "    <tr>\n",
       "      <th></th>\n",
       "      <th></th>\n",
       "      <th>销售</th>\n",
       "      <th>金额</th>\n",
       "      <th>销售</th>\n",
       "      <th>金额</th>\n",
       "    </tr>\n",
       "  </thead>\n",
       "  <tbody>\n",
       "    <tr>\n",
       "      <th>大类1</th>\n",
       "      <th>0</th>\n",
       "      <td>1.376077</td>\n",
       "      <td>-0.340481</td>\n",
       "      <td>0.968947</td>\n",
       "      <td>-1.163360</td>\n",
       "    </tr>\n",
       "    <tr>\n",
       "      <th>大类2</th>\n",
       "      <th>1</th>\n",
       "      <td>0.423404</td>\n",
       "      <td>-0.661284</td>\n",
       "      <td>-0.962055</td>\n",
       "      <td>0.554609</td>\n",
       "    </tr>\n",
       "    <tr>\n",
       "      <th>大类1</th>\n",
       "      <th>0</th>\n",
       "      <td>0.948362</td>\n",
       "      <td>0.041718</td>\n",
       "      <td>-0.295408</td>\n",
       "      <td>-0.954091</td>\n",
       "    </tr>\n",
       "    <tr>\n",
       "      <th>大类2</th>\n",
       "      <th>1</th>\n",
       "      <td>-2.180399</td>\n",
       "      <td>1.060408</td>\n",
       "      <td>1.900042</td>\n",
       "      <td>0.080344</td>\n",
       "    </tr>\n",
       "  </tbody>\n",
       "</table>\n",
       "</div>"
      ],
      "text/plain": [
       "            地区1                 地区2          \n",
       "             销售        金额        销售        金额\n",
       "大类1 0  1.376077 -0.340481  0.968947 -1.163360\n",
       "大类2 1  0.423404 -0.661284 -0.962055  0.554609\n",
       "大类1 0  0.948362  0.041718 -0.295408 -0.954091\n",
       "大类2 1 -2.180399  1.060408  1.900042  0.080344"
      ]
     },
     "execution_count": 13,
     "metadata": {},
     "output_type": "execute_result"
    }
   ],
   "source": [
    "df=pd.DataFrame(np.random.randn(4,4),index=[['大类1','大类2','大类1','大类2'],[0,1,0,1]],\n",
    "                columns=[['地区1','地区1','地区2','地区2'],['销售','金额','销售','金额']])\n",
    "df"
   ]
  },
  {
   "cell_type": "code",
   "execution_count": 15,
   "metadata": {},
   "outputs": [
    {
     "data": {
      "text/html": [
       "<div>\n",
       "<style scoped>\n",
       "    .dataframe tbody tr th:only-of-type {\n",
       "        vertical-align: middle;\n",
       "    }\n",
       "\n",
       "    .dataframe tbody tr th {\n",
       "        vertical-align: top;\n",
       "    }\n",
       "\n",
       "    .dataframe thead tr th {\n",
       "        text-align: left;\n",
       "    }\n",
       "\n",
       "    .dataframe thead tr:last-of-type th {\n",
       "        text-align: right;\n",
       "    }\n",
       "</style>\n",
       "<table border=\"1\" class=\"dataframe\">\n",
       "  <thead>\n",
       "    <tr>\n",
       "      <th></th>\n",
       "      <th>地区</th>\n",
       "      <th colspan=\"2\" halign=\"left\">地区1</th>\n",
       "      <th colspan=\"2\" halign=\"left\">地区2</th>\n",
       "    </tr>\n",
       "    <tr>\n",
       "      <th></th>\n",
       "      <th>项目</th>\n",
       "      <th>销售</th>\n",
       "      <th>金额</th>\n",
       "      <th>销售</th>\n",
       "      <th>金额</th>\n",
       "    </tr>\n",
       "    <tr>\n",
       "      <th>大类</th>\n",
       "      <th>产品编码</th>\n",
       "      <th></th>\n",
       "      <th></th>\n",
       "      <th></th>\n",
       "      <th></th>\n",
       "    </tr>\n",
       "  </thead>\n",
       "  <tbody>\n",
       "    <tr>\n",
       "      <th>大类1</th>\n",
       "      <th>0</th>\n",
       "      <td>1.376077</td>\n",
       "      <td>-0.340481</td>\n",
       "      <td>0.968947</td>\n",
       "      <td>-1.163360</td>\n",
       "    </tr>\n",
       "    <tr>\n",
       "      <th>大类2</th>\n",
       "      <th>1</th>\n",
       "      <td>0.423404</td>\n",
       "      <td>-0.661284</td>\n",
       "      <td>-0.962055</td>\n",
       "      <td>0.554609</td>\n",
       "    </tr>\n",
       "    <tr>\n",
       "      <th>大类1</th>\n",
       "      <th>0</th>\n",
       "      <td>0.948362</td>\n",
       "      <td>0.041718</td>\n",
       "      <td>-0.295408</td>\n",
       "      <td>-0.954091</td>\n",
       "    </tr>\n",
       "    <tr>\n",
       "      <th>大类2</th>\n",
       "      <th>1</th>\n",
       "      <td>-2.180399</td>\n",
       "      <td>1.060408</td>\n",
       "      <td>1.900042</td>\n",
       "      <td>0.080344</td>\n",
       "    </tr>\n",
       "  </tbody>\n",
       "</table>\n",
       "</div>"
      ],
      "text/plain": [
       "地区             地区1                 地区2          \n",
       "项目              销售        金额        销售        金额\n",
       "大类  产品编码                                        \n",
       "大类1 0     1.376077 -0.340481  0.968947 -1.163360\n",
       "大类2 1     0.423404 -0.661284 -0.962055  0.554609\n",
       "大类1 0     0.948362  0.041718 -0.295408 -0.954091\n",
       "大类2 1    -2.180399  1.060408  1.900042  0.080344"
      ]
     },
     "execution_count": 15,
     "metadata": {},
     "output_type": "execute_result"
    }
   ],
   "source": [
    "df.index.names=['大类','产品编码']\n",
    "df.columns.names=['地区','项目']\n",
    "df"
   ]
  },
  {
   "cell_type": "markdown",
   "metadata": {},
   "source": [
    "### 去除"
   ]
  },
  {
   "cell_type": "code",
   "execution_count": 18,
   "metadata": {},
   "outputs": [
    {
     "data": {
      "text/html": [
       "<div>\n",
       "<style scoped>\n",
       "    .dataframe tbody tr th:only-of-type {\n",
       "        vertical-align: middle;\n",
       "    }\n",
       "\n",
       "    .dataframe tbody tr th {\n",
       "        vertical-align: top;\n",
       "    }\n",
       "\n",
       "    .dataframe thead tr th {\n",
       "        text-align: left;\n",
       "    }\n",
       "</style>\n",
       "<table border=\"1\" class=\"dataframe\">\n",
       "  <thead>\n",
       "    <tr>\n",
       "      <th>地区</th>\n",
       "      <th>大类</th>\n",
       "      <th>产品编码</th>\n",
       "      <th colspan=\"2\" halign=\"left\">地区1</th>\n",
       "      <th colspan=\"2\" halign=\"left\">地区2</th>\n",
       "    </tr>\n",
       "    <tr>\n",
       "      <th>项目</th>\n",
       "      <th></th>\n",
       "      <th></th>\n",
       "      <th>销售</th>\n",
       "      <th>金额</th>\n",
       "      <th>销售</th>\n",
       "      <th>金额</th>\n",
       "    </tr>\n",
       "  </thead>\n",
       "  <tbody>\n",
       "    <tr>\n",
       "      <th>0</th>\n",
       "      <td>大类1</td>\n",
       "      <td>0</td>\n",
       "      <td>1.376077</td>\n",
       "      <td>-0.340481</td>\n",
       "      <td>0.968947</td>\n",
       "      <td>-1.163360</td>\n",
       "    </tr>\n",
       "    <tr>\n",
       "      <th>1</th>\n",
       "      <td>大类2</td>\n",
       "      <td>1</td>\n",
       "      <td>0.423404</td>\n",
       "      <td>-0.661284</td>\n",
       "      <td>-0.962055</td>\n",
       "      <td>0.554609</td>\n",
       "    </tr>\n",
       "    <tr>\n",
       "      <th>2</th>\n",
       "      <td>大类1</td>\n",
       "      <td>0</td>\n",
       "      <td>0.948362</td>\n",
       "      <td>0.041718</td>\n",
       "      <td>-0.295408</td>\n",
       "      <td>-0.954091</td>\n",
       "    </tr>\n",
       "    <tr>\n",
       "      <th>3</th>\n",
       "      <td>大类2</td>\n",
       "      <td>1</td>\n",
       "      <td>-2.180399</td>\n",
       "      <td>1.060408</td>\n",
       "      <td>1.900042</td>\n",
       "      <td>0.080344</td>\n",
       "    </tr>\n",
       "  </tbody>\n",
       "</table>\n",
       "</div>"
      ],
      "text/plain": [
       "地区   大类 产品编码       地区1                 地区2          \n",
       "项目                  销售        金额        销售        金额\n",
       "0   大类1    0  1.376077 -0.340481  0.968947 -1.163360\n",
       "1   大类2    1  0.423404 -0.661284 -0.962055  0.554609\n",
       "2   大类1    0  0.948362  0.041718 -0.295408 -0.954091\n",
       "3   大类2    1 -2.180399  1.060408  1.900042  0.080344"
      ]
     },
     "execution_count": 18,
     "metadata": {},
     "output_type": "execute_result"
    }
   ],
   "source": [
    "df.reset_index()"
   ]
  },
  {
   "cell_type": "code",
   "execution_count": 20,
   "metadata": {},
   "outputs": [
    {
     "data": {
      "text/html": [
       "<div>\n",
       "<style scoped>\n",
       "    .dataframe tbody tr th:only-of-type {\n",
       "        vertical-align: middle;\n",
       "    }\n",
       "\n",
       "    .dataframe tbody tr th {\n",
       "        vertical-align: top;\n",
       "    }\n",
       "\n",
       "    .dataframe thead tr th {\n",
       "        text-align: left;\n",
       "    }\n",
       "\n",
       "    .dataframe thead tr:last-of-type th {\n",
       "        text-align: right;\n",
       "    }\n",
       "</style>\n",
       "<table border=\"1\" class=\"dataframe\">\n",
       "  <thead>\n",
       "    <tr>\n",
       "      <th>地区</th>\n",
       "      <th>产品编码</th>\n",
       "      <th colspan=\"2\" halign=\"left\">地区1</th>\n",
       "      <th colspan=\"2\" halign=\"left\">地区2</th>\n",
       "    </tr>\n",
       "    <tr>\n",
       "      <th>项目</th>\n",
       "      <th></th>\n",
       "      <th>销售</th>\n",
       "      <th>金额</th>\n",
       "      <th>销售</th>\n",
       "      <th>金额</th>\n",
       "    </tr>\n",
       "    <tr>\n",
       "      <th>大类</th>\n",
       "      <th></th>\n",
       "      <th></th>\n",
       "      <th></th>\n",
       "      <th></th>\n",
       "      <th></th>\n",
       "    </tr>\n",
       "  </thead>\n",
       "  <tbody>\n",
       "    <tr>\n",
       "      <th>大类1</th>\n",
       "      <td>0</td>\n",
       "      <td>1.376077</td>\n",
       "      <td>-0.340481</td>\n",
       "      <td>0.968947</td>\n",
       "      <td>-1.163360</td>\n",
       "    </tr>\n",
       "    <tr>\n",
       "      <th>大类2</th>\n",
       "      <td>1</td>\n",
       "      <td>0.423404</td>\n",
       "      <td>-0.661284</td>\n",
       "      <td>-0.962055</td>\n",
       "      <td>0.554609</td>\n",
       "    </tr>\n",
       "    <tr>\n",
       "      <th>大类1</th>\n",
       "      <td>0</td>\n",
       "      <td>0.948362</td>\n",
       "      <td>0.041718</td>\n",
       "      <td>-0.295408</td>\n",
       "      <td>-0.954091</td>\n",
       "    </tr>\n",
       "    <tr>\n",
       "      <th>大类2</th>\n",
       "      <td>1</td>\n",
       "      <td>-2.180399</td>\n",
       "      <td>1.060408</td>\n",
       "      <td>1.900042</td>\n",
       "      <td>0.080344</td>\n",
       "    </tr>\n",
       "  </tbody>\n",
       "</table>\n",
       "</div>"
      ],
      "text/plain": [
       "地区  产品编码       地区1                 地区2          \n",
       "项目              销售        金额        销售        金额\n",
       "大类                                              \n",
       "大类1    0  1.376077 -0.340481  0.968947 -1.163360\n",
       "大类2    1  0.423404 -0.661284 -0.962055  0.554609\n",
       "大类1    0  0.948362  0.041718 -0.295408 -0.954091\n",
       "大类2    1 -2.180399  1.060408  1.900042  0.080344"
      ]
     },
     "execution_count": 20,
     "metadata": {},
     "output_type": "execute_result"
    }
   ],
   "source": [
    "df.reset_index(level='产品编码')"
   ]
  },
  {
   "cell_type": "markdown",
   "metadata": {},
   "source": [
    "## 将数据写入Excel多个sheet"
   ]
  },
  {
   "cell_type": "code",
   "execution_count": null,
   "metadata": {},
   "outputs": [],
   "source": [
    "with pd.ExcelWriter(r'C:\\Users\\数据\\Desktop\\data\\test2.xls') as writer:\n",
    "    df1.to_excel(writer, sheet_name='df1')\n",
    "    df2.to_excel(writer, sheet_name='df2')"
   ]
  },
  {
   "cell_type": "code",
   "execution_count": 2,
   "metadata": {
    "scrolled": true
   },
   "outputs": [
    {
     "name": "stdout",
     "output_type": "stream",
     "text": [
      "    区域  销售  人员数量\n",
      "0  四川A   2     1\n",
      "1  四川B   6     0\n",
      "2  四川C   6     6\n",
      "3  重庆A   4     3\n",
      "4  重庆B   1     8\n",
      "5  重庆C   3     2\n"
     ]
    }
   ],
   "source": [
    "import pandas as pd\n",
    "from pandas import DataFrame\n",
    "import numpy as np\n",
    "\n",
    "df3=pd.DataFrame(np.random.randint(10,size=(6,2)),columns=['销售','人员数量'])\n",
    "df3['区域']=['四川A','四川B','四川C','重庆A','重庆B','重庆C']\n",
    "df3=df3.reindex(columns=['区域','销售','人员数量'])\n",
    "print(df3)"
   ]
  },
  {
   "cell_type": "code",
   "execution_count": 4,
   "metadata": {},
   "outputs": [
    {
     "data": {
      "text/plain": [
       "6    2\n",
       "4    1\n",
       "3    1\n",
       "2    1\n",
       "1    1\n",
       "Name: 销售, dtype: int64"
      ]
     },
     "execution_count": 4,
     "metadata": {},
     "output_type": "execute_result"
    }
   ],
   "source": [
    "df3['销售'].value_counts()"
   ]
  }
 ],
 "metadata": {
  "kernelspec": {
   "display_name": "Python 3",
   "language": "python",
   "name": "python3"
  },
  "language_info": {
   "codemirror_mode": {
    "name": "ipython",
    "version": 3
   },
   "file_extension": ".py",
   "mimetype": "text/x-python",
   "name": "python",
   "nbconvert_exporter": "python",
   "pygments_lexer": "ipython3",
   "version": "3.8.10"
  },
  "toc": {
   "base_numbering": 1,
   "nav_menu": {},
   "number_sections": true,
   "sideBar": true,
   "skip_h1_title": false,
   "title_cell": "Table of Contents",
   "title_sidebar": "Contents",
   "toc_cell": false,
   "toc_position": {
    "height": "calc(100% - 180px)",
    "left": "10px",
    "top": "150px",
    "width": "384px"
   },
   "toc_section_display": true,
   "toc_window_display": true
  }
 },
 "nbformat": 4,
 "nbformat_minor": 2
}
